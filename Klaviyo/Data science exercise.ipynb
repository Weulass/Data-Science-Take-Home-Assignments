{
 "cells": [
  {
   "cell_type": "code",
   "execution_count": 1,
   "metadata": {},
   "outputs": [],
   "source": [
    "import pandas as pd\n",
    "import numpy as np \n",
    "import matplotlib.pyplot as plt \n",
    "import seaborn as sns \n",
    "sns.set()\n",
    "from lifetimes.utils import summary_data_from_transaction_data\n",
    "from lifetimes.utils import calibration_and_holdout_data\n",
    "from lifetimes.utils import expected_cumulative_transactions\n",
    "\n",
    "from lifetimes.plotting import plot_frequency_recency_matrix\n",
    "from lifetimes.plotting import plot_probability_alive_matrix\n",
    "from lifetimes.plotting import plot_calibration_purchases_vs_holdout_purchases\n",
    "from lifetimes.plotting import plot_period_transactions\n",
    "\n",
    "from lifetimes.fitters.modified_beta_geo_fitter  import ModifiedBetaGeoFitter\n",
    "from lifetimes import GammaGammaFitter\n",
    "\n",
    "from random import sample\n",
    "from random import seed\n",
    "\n",
    "\n",
    "from lifetimes.generate_data import modified_beta_geometric_nbd_model\n"
   ]
  },
  {
   "cell_type": "markdown",
   "metadata": {},
   "source": [
    "# Introduction:\n",
    "In this study, we will do the **Frequency/Recency analysis** of a widgets ecommerce store using the **Modified Beta Geometric (BG) model**. Then we will estimate the **customer Lifetime Value** using **the Gamma Gamma model**. \n",
    "<br> This study is based on the papers **''The value of simple models in new product forecasting and customer-base analysis''** from **Peter S. Fader and Bruce G. S. Hardie** and **“Counting Your Customers” the Easy Way:An Alternative to the Pareto/NBD Model** from **Peter S. Fader, Bruce G. S. Hardie and Ka Lok Lee**"
   ]
  },
  {
   "cell_type": "code",
   "execution_count": 2,
   "metadata": {},
   "outputs": [
    {
     "data": {
      "text/html": [
       "<div>\n",
       "<style scoped>\n",
       "    .dataframe tbody tr th:only-of-type {\n",
       "        vertical-align: middle;\n",
       "    }\n",
       "\n",
       "    .dataframe tbody tr th {\n",
       "        vertical-align: top;\n",
       "    }\n",
       "\n",
       "    .dataframe thead th {\n",
       "        text-align: right;\n",
       "    }\n",
       "</style>\n",
       "<table border=\"1\" class=\"dataframe\">\n",
       "  <thead>\n",
       "    <tr style=\"text-align: right;\">\n",
       "      <th></th>\n",
       "      <th>CustomerID</th>\n",
       "      <th>Timestamp</th>\n",
       "      <th>PurchaseValue</th>\n",
       "    </tr>\n",
       "  </thead>\n",
       "  <tbody>\n",
       "    <tr>\n",
       "      <th>0</th>\n",
       "      <td>5611860a94204a4078659f1667372cc4</td>\n",
       "      <td>2017-02-09T18:31:00Z</td>\n",
       "      <td>4.72</td>\n",
       "    </tr>\n",
       "    <tr>\n",
       "      <th>1</th>\n",
       "      <td>07b260307114f9cffc5601eb7ad4b565</td>\n",
       "      <td>2017-06-28T19:26:00Z</td>\n",
       "      <td>5.33</td>\n",
       "    </tr>\n",
       "  </tbody>\n",
       "</table>\n",
       "</div>"
      ],
      "text/plain": [
       "                         CustomerID             Timestamp  PurchaseValue\n",
       "0  5611860a94204a4078659f1667372cc4  2017-02-09T18:31:00Z           4.72\n",
       "1  07b260307114f9cffc5601eb7ad4b565  2017-06-28T19:26:00Z           5.33"
      ]
     },
     "execution_count": 2,
     "metadata": {},
     "output_type": "execute_result"
    }
   ],
   "source": [
    "transaction_data = pd.read_csv(\"data-science-exercise-data.csv\")  #Load the dataset \n",
    "transaction_data.head(2)"
   ]
  },
  {
   "cell_type": "code",
   "execution_count": 3,
   "metadata": {},
   "outputs": [
    {
     "name": "stdout",
     "output_type": "stream",
     "text": [
      "<class 'pandas.core.frame.DataFrame'>\n",
      "RangeIndex: 49945 entries, 0 to 49944\n",
      "Data columns (total 3 columns):\n",
      " #   Column         Non-Null Count  Dtype  \n",
      "---  ------         --------------  -----  \n",
      " 0   CustomerID     49945 non-null  object \n",
      " 1   Timestamp      49945 non-null  object \n",
      " 2   PurchaseValue  49945 non-null  float64\n",
      "dtypes: float64(1), object(2)\n",
      "memory usage: 1.1+ MB\n",
      "       PurchaseValue\n",
      "count   49945.000000\n",
      "mean      236.888196\n",
      "std       245.760987\n",
      "min         4.720000\n",
      "25%        97.100000\n",
      "50%       166.660000\n",
      "75%       286.790000\n",
      "max     11599.680000 None\n"
     ]
    }
   ],
   "source": [
    "print(transaction_data.describe(), transaction_data.info())  #Retrieve the data type and statistic from our dataset "
   ]
  },
  {
   "cell_type": "markdown",
   "metadata": {},
   "source": [
    "# Definitions\n",
    "- **Frequency** :  Represents the number of repeat purchases the customer has made. This means that it’s one less than the total number of purchases\n",
    "- **Recency:**  represents the age of the customer when they made their most recent purchases\n",
    "- **T:**  represents the age of the customer in whatever time units chosen. This is equal to the duration between a customer’s first purchase and the end of the period under study"
   ]
  },
  {
   "cell_type": "code",
   "execution_count": 4,
   "metadata": {},
   "outputs": [
    {
     "name": "stderr",
     "output_type": "stream",
     "text": [
      "C:\\ProgramData\\Anaconda3\\lib\\site-packages\\lifetimes\\utils.py:265: UserWarning: Converting to Period representation will drop timezone information.\n",
      "  pd.to_datetime(transactions[datetime_col].max(), format=datetime_format).to_period(freq).to_timestamp()\n",
      "C:\\ProgramData\\Anaconda3\\lib\\site-packages\\pandas\\core\\arrays\\datetimes.py:1104: UserWarning: Converting to PeriodArray/Index representation will drop timezone information.\n",
      "  UserWarning,\n"
     ]
    },
    {
     "data": {
      "text/html": [
       "<div>\n",
       "<style scoped>\n",
       "    .dataframe tbody tr th:only-of-type {\n",
       "        vertical-align: middle;\n",
       "    }\n",
       "\n",
       "    .dataframe tbody tr th {\n",
       "        vertical-align: top;\n",
       "    }\n",
       "\n",
       "    .dataframe thead th {\n",
       "        text-align: right;\n",
       "    }\n",
       "</style>\n",
       "<table border=\"1\" class=\"dataframe\">\n",
       "  <thead>\n",
       "    <tr style=\"text-align: right;\">\n",
       "      <th></th>\n",
       "      <th>frequency</th>\n",
       "      <th>recency</th>\n",
       "      <th>T</th>\n",
       "      <th>monetary_value</th>\n",
       "    </tr>\n",
       "    <tr>\n",
       "      <th>CustomerID</th>\n",
       "      <th></th>\n",
       "      <th></th>\n",
       "      <th></th>\n",
       "      <th></th>\n",
       "    </tr>\n",
       "  </thead>\n",
       "  <tbody>\n",
       "    <tr>\n",
       "      <th>0001117ff1305c1fe840697166e61564</th>\n",
       "      <td>1.0</td>\n",
       "      <td>11.0</td>\n",
       "      <td>344.0</td>\n",
       "      <td>87.280</td>\n",
       "    </tr>\n",
       "    <tr>\n",
       "      <th>00028502859fd7e111d88c20456b59d5</th>\n",
       "      <td>0.0</td>\n",
       "      <td>0.0</td>\n",
       "      <td>342.0</td>\n",
       "      <td>0.000</td>\n",
       "    </tr>\n",
       "    <tr>\n",
       "      <th>000306d200fd6e9b03de48d15348f5c2</th>\n",
       "      <td>0.0</td>\n",
       "      <td>0.0</td>\n",
       "      <td>33.0</td>\n",
       "      <td>0.000</td>\n",
       "    </tr>\n",
       "    <tr>\n",
       "      <th>0003f3458a6e7b495a975c2d9ddda559</th>\n",
       "      <td>2.0</td>\n",
       "      <td>285.0</td>\n",
       "      <td>343.0</td>\n",
       "      <td>88.065</td>\n",
       "    </tr>\n",
       "    <tr>\n",
       "      <th>000784b838b807ad589d4bc69c0c562f</th>\n",
       "      <td>0.0</td>\n",
       "      <td>0.0</td>\n",
       "      <td>210.0</td>\n",
       "      <td>0.000</td>\n",
       "    </tr>\n",
       "  </tbody>\n",
       "</table>\n",
       "</div>"
      ],
      "text/plain": [
       "                                  frequency  recency      T  monetary_value\n",
       "CustomerID                                                                 \n",
       "0001117ff1305c1fe840697166e61564        1.0     11.0  344.0          87.280\n",
       "00028502859fd7e111d88c20456b59d5        0.0      0.0  342.0           0.000\n",
       "000306d200fd6e9b03de48d15348f5c2        0.0      0.0   33.0           0.000\n",
       "0003f3458a6e7b495a975c2d9ddda559        2.0    285.0  343.0          88.065\n",
       "000784b838b807ad589d4bc69c0c562f        0.0      0.0  210.0           0.000"
      ]
     },
     "execution_count": 4,
     "metadata": {},
     "output_type": "execute_result"
    }
   ],
   "source": [
    "# Group the data by customer\n",
    "summary = summary_data_from_transaction_data(transaction_data, 'CustomerID', 'Timestamp', monetary_value_col='PurchaseValue')\n",
    "summary.head(5)"
   ]
  },
  {
   "cell_type": "markdown",
   "metadata": {},
   "source": [
    "# 1. Implement the modified BG model from the lifetimes package using the data we provide"
   ]
  },
  {
   "cell_type": "code",
   "execution_count": 5,
   "metadata": {},
   "outputs": [
    {
     "name": "stdout",
     "output_type": "stream",
     "text": [
      "<lifetimes.ModifiedBetaGeoFitter: fitted with 23708 subjects, a: 0.54, alpha: 85.27, b: 1.45, r: 0.79>\n"
     ]
    }
   ],
   "source": [
    "mbgf = ModifiedBetaGeoFitter(penalizer_coef=0.0)   #Load the Modified Beta Geo Fitter\n",
    "mbgf.fit(summary['frequency'], summary['recency'], summary['T'])\n",
    "print(mbgf)"
   ]
  },
  {
   "cell_type": "code",
   "execution_count": 6,
   "metadata": {},
   "outputs": [
    {
     "data": {
      "text/html": [
       "<div>\n",
       "<style scoped>\n",
       "    .dataframe tbody tr th:only-of-type {\n",
       "        vertical-align: middle;\n",
       "    }\n",
       "\n",
       "    .dataframe tbody tr th {\n",
       "        vertical-align: top;\n",
       "    }\n",
       "\n",
       "    .dataframe thead th {\n",
       "        text-align: right;\n",
       "    }\n",
       "</style>\n",
       "<table border=\"1\" class=\"dataframe\">\n",
       "  <thead>\n",
       "    <tr style=\"text-align: right;\">\n",
       "      <th></th>\n",
       "      <th>coef</th>\n",
       "      <th>se(coef)</th>\n",
       "      <th>lower 95% bound</th>\n",
       "      <th>upper 95% bound</th>\n",
       "    </tr>\n",
       "  </thead>\n",
       "  <tbody>\n",
       "    <tr>\n",
       "      <th>r</th>\n",
       "      <td>0.785759</td>\n",
       "      <td>0.046302</td>\n",
       "      <td>0.695007</td>\n",
       "      <td>0.876512</td>\n",
       "    </tr>\n",
       "    <tr>\n",
       "      <th>alpha</th>\n",
       "      <td>85.266166</td>\n",
       "      <td>3.666483</td>\n",
       "      <td>78.079859</td>\n",
       "      <td>92.452472</td>\n",
       "    </tr>\n",
       "    <tr>\n",
       "      <th>a</th>\n",
       "      <td>0.536125</td>\n",
       "      <td>0.039949</td>\n",
       "      <td>0.457825</td>\n",
       "      <td>0.614425</td>\n",
       "    </tr>\n",
       "    <tr>\n",
       "      <th>b</th>\n",
       "      <td>1.446923</td>\n",
       "      <td>0.202440</td>\n",
       "      <td>1.050141</td>\n",
       "      <td>1.843705</td>\n",
       "    </tr>\n",
       "  </tbody>\n",
       "</table>\n",
       "</div>"
      ],
      "text/plain": [
       "            coef  se(coef)  lower 95% bound  upper 95% bound\n",
       "r       0.785759  0.046302         0.695007         0.876512\n",
       "alpha  85.266166  3.666483        78.079859        92.452472\n",
       "a       0.536125  0.039949         0.457825         0.614425\n",
       "b       1.446923  0.202440         1.050141         1.843705"
      ]
     },
     "execution_count": 6,
     "metadata": {},
     "output_type": "execute_result"
    }
   ],
   "source": [
    "mbgf.summary"
   ]
  },
  {
   "cell_type": "markdown",
   "metadata": {},
   "source": [
    "# 2. List the 100 customers predicted to make the most purchases over the next 12 months.\n",
    "Let’s return to our customers and rank them from “highest expected purchases in the next period” to lowest. Models expose a method that will predict a customer’s expected purchases in the next period using their history."
   ]
  },
  {
   "cell_type": "code",
   "execution_count": 7,
   "metadata": {},
   "outputs": [
    {
     "data": {
      "text/html": [
       "<div>\n",
       "<style scoped>\n",
       "    .dataframe tbody tr th:only-of-type {\n",
       "        vertical-align: middle;\n",
       "    }\n",
       "\n",
       "    .dataframe tbody tr th {\n",
       "        vertical-align: top;\n",
       "    }\n",
       "\n",
       "    .dataframe thead th {\n",
       "        text-align: right;\n",
       "    }\n",
       "</style>\n",
       "<table border=\"1\" class=\"dataframe\">\n",
       "  <thead>\n",
       "    <tr style=\"text-align: right;\">\n",
       "      <th></th>\n",
       "      <th>frequency</th>\n",
       "      <th>recency</th>\n",
       "      <th>T</th>\n",
       "      <th>monetary_value</th>\n",
       "      <th>predicted_purchases</th>\n",
       "    </tr>\n",
       "    <tr>\n",
       "      <th>CustomerID</th>\n",
       "      <th></th>\n",
       "      <th></th>\n",
       "      <th></th>\n",
       "      <th></th>\n",
       "      <th></th>\n",
       "    </tr>\n",
       "  </thead>\n",
       "  <tbody>\n",
       "    <tr>\n",
       "      <th>a5fadc51b1ae844ad9a70ad3cfa46a64</th>\n",
       "      <td>95.0</td>\n",
       "      <td>371.0</td>\n",
       "      <td>371.0</td>\n",
       "      <td>433.962632</td>\n",
       "      <td>63.707709</td>\n",
       "    </tr>\n",
       "    <tr>\n",
       "      <th>48a503edbaded96a3be27deee11967a1</th>\n",
       "      <td>46.0</td>\n",
       "      <td>363.0</td>\n",
       "      <td>371.0</td>\n",
       "      <td>220.476739</td>\n",
       "      <td>30.552988</td>\n",
       "    </tr>\n",
       "    <tr>\n",
       "      <th>9f447f9415a380ac2eeee7df49c6ee7e</th>\n",
       "      <td>23.0</td>\n",
       "      <td>163.0</td>\n",
       "      <td>166.0</td>\n",
       "      <td>110.196522</td>\n",
       "      <td>25.661659</td>\n",
       "    </tr>\n",
       "    <tr>\n",
       "      <th>5f01420f0edda6555df5ce1cc62b986c</th>\n",
       "      <td>39.0</td>\n",
       "      <td>350.0</td>\n",
       "      <td>370.0</td>\n",
       "      <td>299.122821</td>\n",
       "      <td>24.758709</td>\n",
       "    </tr>\n",
       "    <tr>\n",
       "      <th>8d2ce54737dd404d20cadf1405d46dc8</th>\n",
       "      <td>33.0</td>\n",
       "      <td>360.0</td>\n",
       "      <td>362.0</td>\n",
       "      <td>123.195152</td>\n",
       "      <td>22.646241</td>\n",
       "    </tr>\n",
       "  </tbody>\n",
       "</table>\n",
       "</div>"
      ],
      "text/plain": [
       "                                  frequency  recency      T  monetary_value  \\\n",
       "CustomerID                                                                    \n",
       "a5fadc51b1ae844ad9a70ad3cfa46a64       95.0    371.0  371.0      433.962632   \n",
       "48a503edbaded96a3be27deee11967a1       46.0    363.0  371.0      220.476739   \n",
       "9f447f9415a380ac2eeee7df49c6ee7e       23.0    163.0  166.0      110.196522   \n",
       "5f01420f0edda6555df5ce1cc62b986c       39.0    350.0  370.0      299.122821   \n",
       "8d2ce54737dd404d20cadf1405d46dc8       33.0    360.0  362.0      123.195152   \n",
       "\n",
       "                                  predicted_purchases  \n",
       "CustomerID                                             \n",
       "a5fadc51b1ae844ad9a70ad3cfa46a64            63.707709  \n",
       "48a503edbaded96a3be27deee11967a1            30.552988  \n",
       "9f447f9415a380ac2eeee7df49c6ee7e            25.661659  \n",
       "5f01420f0edda6555df5ce1cc62b986c            24.758709  \n",
       "8d2ce54737dd404d20cadf1405d46dc8            22.646241  "
      ]
     },
     "execution_count": 7,
     "metadata": {},
     "output_type": "execute_result"
    }
   ],
   "source": [
    "t = 360    #  unit of time period is in days / 12 months  = 12 * 30 = 360 days \n",
    "summary['predicted_purchases'] = mbgf.conditional_expected_number_of_purchases_up_to_time(t, summary['frequency'], summary['recency'], summary['T'])\n",
    "summary.sort_values(by='predicted_purchases', ascending=False, inplace=True)   #Order by predicted purchases\n",
    "summary.head()"
   ]
  },
  {
   "cell_type": "code",
   "execution_count": 8,
   "metadata": {},
   "outputs": [],
   "source": [
    "#List of customers with the most purchases \n",
    "top_100_customers_most_purchases = summary.index[:100].to_list()"
   ]
  },
  {
   "cell_type": "markdown",
   "metadata": {},
   "source": [
    "# 3. List the 100 customers predicted to spend the most over the next 12 months."
   ]
  },
  {
   "cell_type": "markdown",
   "metadata": {},
   "source": [
    "**The Gamma-Gamma model** \n",
    "\n",
    "- **Assumption:** The Gamma-Gamma submodel, assumes that **there is no relationship between ``the monetary value`` and the purchase ``frequency``**. "
   ]
  },
  {
   "cell_type": "markdown",
   "metadata": {},
   "source": [
    "We need to check whether **the Pearson correlation** between the two vectors is **close to 0** in order to use this model."
   ]
  },
  {
   "cell_type": "code",
   "execution_count": 9,
   "metadata": {},
   "outputs": [
    {
     "data": {
      "text/html": [
       "<div>\n",
       "<style scoped>\n",
       "    .dataframe tbody tr th:only-of-type {\n",
       "        vertical-align: middle;\n",
       "    }\n",
       "\n",
       "    .dataframe tbody tr th {\n",
       "        vertical-align: top;\n",
       "    }\n",
       "\n",
       "    .dataframe thead th {\n",
       "        text-align: right;\n",
       "    }\n",
       "</style>\n",
       "<table border=\"1\" class=\"dataframe\">\n",
       "  <thead>\n",
       "    <tr style=\"text-align: right;\">\n",
       "      <th></th>\n",
       "      <th>frequency</th>\n",
       "      <th>recency</th>\n",
       "      <th>T</th>\n",
       "      <th>monetary_value</th>\n",
       "      <th>predicted_purchases</th>\n",
       "    </tr>\n",
       "    <tr>\n",
       "      <th>CustomerID</th>\n",
       "      <th></th>\n",
       "      <th></th>\n",
       "      <th></th>\n",
       "      <th></th>\n",
       "      <th></th>\n",
       "    </tr>\n",
       "  </thead>\n",
       "  <tbody>\n",
       "    <tr>\n",
       "      <th>a5fadc51b1ae844ad9a70ad3cfa46a64</th>\n",
       "      <td>95.0</td>\n",
       "      <td>371.0</td>\n",
       "      <td>371.0</td>\n",
       "      <td>433.962632</td>\n",
       "      <td>63.707709</td>\n",
       "    </tr>\n",
       "    <tr>\n",
       "      <th>48a503edbaded96a3be27deee11967a1</th>\n",
       "      <td>46.0</td>\n",
       "      <td>363.0</td>\n",
       "      <td>371.0</td>\n",
       "      <td>220.476739</td>\n",
       "      <td>30.552988</td>\n",
       "    </tr>\n",
       "    <tr>\n",
       "      <th>9f447f9415a380ac2eeee7df49c6ee7e</th>\n",
       "      <td>23.0</td>\n",
       "      <td>163.0</td>\n",
       "      <td>166.0</td>\n",
       "      <td>110.196522</td>\n",
       "      <td>25.661659</td>\n",
       "    </tr>\n",
       "    <tr>\n",
       "      <th>5f01420f0edda6555df5ce1cc62b986c</th>\n",
       "      <td>39.0</td>\n",
       "      <td>350.0</td>\n",
       "      <td>370.0</td>\n",
       "      <td>299.122821</td>\n",
       "      <td>24.758709</td>\n",
       "    </tr>\n",
       "    <tr>\n",
       "      <th>8d2ce54737dd404d20cadf1405d46dc8</th>\n",
       "      <td>33.0</td>\n",
       "      <td>360.0</td>\n",
       "      <td>362.0</td>\n",
       "      <td>123.195152</td>\n",
       "      <td>22.646241</td>\n",
       "    </tr>\n",
       "  </tbody>\n",
       "</table>\n",
       "</div>"
      ],
      "text/plain": [
       "                                  frequency  recency      T  monetary_value  \\\n",
       "CustomerID                                                                    \n",
       "a5fadc51b1ae844ad9a70ad3cfa46a64       95.0    371.0  371.0      433.962632   \n",
       "48a503edbaded96a3be27deee11967a1       46.0    363.0  371.0      220.476739   \n",
       "9f447f9415a380ac2eeee7df49c6ee7e       23.0    163.0  166.0      110.196522   \n",
       "5f01420f0edda6555df5ce1cc62b986c       39.0    350.0  370.0      299.122821   \n",
       "8d2ce54737dd404d20cadf1405d46dc8       33.0    360.0  362.0      123.195152   \n",
       "\n",
       "                                  predicted_purchases  \n",
       "CustomerID                                             \n",
       "a5fadc51b1ae844ad9a70ad3cfa46a64            63.707709  \n",
       "48a503edbaded96a3be27deee11967a1            30.552988  \n",
       "9f447f9415a380ac2eeee7df49c6ee7e            25.661659  \n",
       "5f01420f0edda6555df5ce1cc62b986c            24.758709  \n",
       "8d2ce54737dd404d20cadf1405d46dc8            22.646241  "
      ]
     },
     "execution_count": 9,
     "metadata": {},
     "output_type": "execute_result"
    }
   ],
   "source": [
    "#We only consider customer that came back at least once (frequency >=1) to be compliant to the assumption corr(frequency, monetary_value) = 0\n",
    "returning_customers = summary[summary['frequency']>0]  \n",
    "returning_customers.head()"
   ]
  },
  {
   "cell_type": "code",
   "execution_count": 10,
   "metadata": {},
   "outputs": [
    {
     "data": {
      "text/html": [
       "<div>\n",
       "<style scoped>\n",
       "    .dataframe tbody tr th:only-of-type {\n",
       "        vertical-align: middle;\n",
       "    }\n",
       "\n",
       "    .dataframe tbody tr th {\n",
       "        vertical-align: top;\n",
       "    }\n",
       "\n",
       "    .dataframe thead th {\n",
       "        text-align: right;\n",
       "    }\n",
       "</style>\n",
       "<table border=\"1\" class=\"dataframe\">\n",
       "  <thead>\n",
       "    <tr style=\"text-align: right;\">\n",
       "      <th></th>\n",
       "      <th>monetary_value</th>\n",
       "      <th>frequency</th>\n",
       "    </tr>\n",
       "  </thead>\n",
       "  <tbody>\n",
       "    <tr>\n",
       "      <th>monetary_value</th>\n",
       "      <td>1.000000</td>\n",
       "      <td>0.042791</td>\n",
       "    </tr>\n",
       "    <tr>\n",
       "      <th>frequency</th>\n",
       "      <td>0.042791</td>\n",
       "      <td>1.000000</td>\n",
       "    </tr>\n",
       "  </tbody>\n",
       "</table>\n",
       "</div>"
      ],
      "text/plain": [
       "                monetary_value  frequency\n",
       "monetary_value        1.000000   0.042791\n",
       "frequency             0.042791   1.000000"
      ]
     },
     "execution_count": 10,
     "metadata": {},
     "output_type": "execute_result"
    }
   ],
   "source": [
    "returning_customers[['monetary_value', 'frequency']].corr()"
   ]
  },
  {
   "cell_type": "markdown",
   "metadata": {},
   "source": [
    "- **Validation**: The correlation between the ``frequency`` and ``monetary value`` **0.042791**, close to 0. At this point we can train our Gamma-Gamma submodel and predict the conditional, expected average lifetime value of our customers."
   ]
  },
  {
   "cell_type": "code",
   "execution_count": 11,
   "metadata": {},
   "outputs": [
    {
     "data": {
      "text/plain": [
       "<lifetimes.GammaGammaFitter: fitted with 9647 subjects, p: 4.57, q: 3.65, v: 135.88>"
      ]
     },
     "execution_count": 11,
     "metadata": {},
     "output_type": "execute_result"
    }
   ],
   "source": [
    "ggf = GammaGammaFitter(penalizer_coef = 0)\n",
    "ggf.fit(returning_customers['frequency'],\n",
    "        returning_customers['monetary_value'])"
   ]
  },
  {
   "cell_type": "code",
   "execution_count": 12,
   "metadata": {},
   "outputs": [
    {
     "data": {
      "text/html": [
       "<div>\n",
       "<style scoped>\n",
       "    .dataframe tbody tr th:only-of-type {\n",
       "        vertical-align: middle;\n",
       "    }\n",
       "\n",
       "    .dataframe tbody tr th {\n",
       "        vertical-align: top;\n",
       "    }\n",
       "\n",
       "    .dataframe thead th {\n",
       "        text-align: right;\n",
       "    }\n",
       "</style>\n",
       "<table border=\"1\" class=\"dataframe\">\n",
       "  <thead>\n",
       "    <tr style=\"text-align: right;\">\n",
       "      <th></th>\n",
       "      <th>frequency</th>\n",
       "      <th>recency</th>\n",
       "      <th>T</th>\n",
       "      <th>monetary_value</th>\n",
       "      <th>predicted_purchases</th>\n",
       "      <th>avg_profit</th>\n",
       "      <th>total_expenses</th>\n",
       "    </tr>\n",
       "    <tr>\n",
       "      <th>CustomerID</th>\n",
       "      <th></th>\n",
       "      <th></th>\n",
       "      <th></th>\n",
       "      <th></th>\n",
       "      <th></th>\n",
       "      <th></th>\n",
       "      <th></th>\n",
       "    </tr>\n",
       "  </thead>\n",
       "  <tbody>\n",
       "    <tr>\n",
       "      <th>a5fadc51b1ae844ad9a70ad3cfa46a64</th>\n",
       "      <td>95.0</td>\n",
       "      <td>371.0</td>\n",
       "      <td>371.0</td>\n",
       "      <td>433.962632</td>\n",
       "      <td>63.707709</td>\n",
       "      <td>432.751074</td>\n",
       "      <td>27569.579558</td>\n",
       "    </tr>\n",
       "    <tr>\n",
       "      <th>ca2202a96c2de6ca6b8a37a4a73fa730</th>\n",
       "      <td>7.0</td>\n",
       "      <td>12.0</td>\n",
       "      <td>20.0</td>\n",
       "      <td>1399.634286</td>\n",
       "      <td>15.461482</td>\n",
       "      <td>1310.471093</td>\n",
       "      <td>20261.825591</td>\n",
       "    </tr>\n",
       "    <tr>\n",
       "      <th>dca76db00cc59dfbcdcc97c8bbc7f9f1</th>\n",
       "      <td>19.0</td>\n",
       "      <td>339.0</td>\n",
       "      <td>364.0</td>\n",
       "      <td>966.423158</td>\n",
       "      <td>12.474960</td>\n",
       "      <td>944.737335</td>\n",
       "      <td>11785.560116</td>\n",
       "    </tr>\n",
       "    <tr>\n",
       "      <th>5ac5ed64cd99ed2a8403b7a927e644ef</th>\n",
       "      <td>23.0</td>\n",
       "      <td>222.0</td>\n",
       "      <td>250.0</td>\n",
       "      <td>627.439565</td>\n",
       "      <td>17.711866</td>\n",
       "      <td>617.769916</td>\n",
       "      <td>10941.858015</td>\n",
       "    </tr>\n",
       "    <tr>\n",
       "      <th>60c19a709e3ced2d16d7100eb1069df5</th>\n",
       "      <td>10.0</td>\n",
       "      <td>292.0</td>\n",
       "      <td>300.0</td>\n",
       "      <td>1259.266000</td>\n",
       "      <td>7.977698</td>\n",
       "      <td>1203.080039</td>\n",
       "      <td>9597.808854</td>\n",
       "    </tr>\n",
       "  </tbody>\n",
       "</table>\n",
       "</div>"
      ],
      "text/plain": [
       "                                  frequency  recency      T  monetary_value  \\\n",
       "CustomerID                                                                    \n",
       "a5fadc51b1ae844ad9a70ad3cfa46a64       95.0    371.0  371.0      433.962632   \n",
       "ca2202a96c2de6ca6b8a37a4a73fa730        7.0     12.0   20.0     1399.634286   \n",
       "dca76db00cc59dfbcdcc97c8bbc7f9f1       19.0    339.0  364.0      966.423158   \n",
       "5ac5ed64cd99ed2a8403b7a927e644ef       23.0    222.0  250.0      627.439565   \n",
       "60c19a709e3ced2d16d7100eb1069df5       10.0    292.0  300.0     1259.266000   \n",
       "\n",
       "                                  predicted_purchases   avg_profit  \\\n",
       "CustomerID                                                           \n",
       "a5fadc51b1ae844ad9a70ad3cfa46a64            63.707709   432.751074   \n",
       "ca2202a96c2de6ca6b8a37a4a73fa730            15.461482  1310.471093   \n",
       "dca76db00cc59dfbcdcc97c8bbc7f9f1            12.474960   944.737335   \n",
       "5ac5ed64cd99ed2a8403b7a927e644ef            17.711866   617.769916   \n",
       "60c19a709e3ced2d16d7100eb1069df5             7.977698  1203.080039   \n",
       "\n",
       "                                  total_expenses  \n",
       "CustomerID                                        \n",
       "a5fadc51b1ae844ad9a70ad3cfa46a64    27569.579558  \n",
       "ca2202a96c2de6ca6b8a37a4a73fa730    20261.825591  \n",
       "dca76db00cc59dfbcdcc97c8bbc7f9f1    11785.560116  \n",
       "5ac5ed64cd99ed2a8403b7a927e644ef    10941.858015  \n",
       "60c19a709e3ced2d16d7100eb1069df5     9597.808854  "
      ]
     },
     "execution_count": 12,
     "metadata": {},
     "output_type": "execute_result"
    }
   ],
   "source": [
    "avg_profit_per_customer = ggf.conditional_expected_average_profit(summary['frequency'], summary['monetary_value']) #Predicted expected expenses per customer\n",
    "returning_customers[\"avg_profit\"] = avg_profit_per_customer\n",
    "returning_customers[\"total_expenses\"] = returning_customers.predicted_purchases * returning_customers.avg_profit\n",
    "returning_customers.sort_values(\"total_expenses\", ascending = False, inplace = True)  #Order by total expenses\n",
    "returning_customers.head()"
   ]
  },
  {
   "cell_type": "code",
   "execution_count": 13,
   "metadata": {},
   "outputs": [],
   "source": [
    "top_100_customers_most_expenses = returning_customers.index[:100].to_list()"
   ]
  },
  {
   "cell_type": "markdown",
   "metadata": {},
   "source": [
    "# 4.Analysis: Explain the model's assumptions"
   ]
  },
  {
   "cell_type": "markdown",
   "metadata": {},
   "source": [
    "### **First assumption**: \n",
    "While active, **the number of transactions made by a customer follows a Poisson process with transaction rate λ**   \n",
    "<p> Let's call the variable t the time between two transactions. Then t is distributed exponentially with a transation rate λ following the relation\n",
    "<p>    $$f(t_j|t_{j-1},λ) = λ\\exp(-λ(t_j - t_{j-1}))$$\n",
    "<p> First we need to make sure that we have enough data to consider a probabilistic distribution"
   ]
  },
  {
   "cell_type": "code",
   "execution_count": 14,
   "metadata": {},
   "outputs": [
    {
     "name": "stdout",
     "output_type": "stream",
     "text": [
      "count    23708.000000\n",
      "mean         1.025477\n",
      "std          2.111326\n",
      "min          0.000000\n",
      "25%          0.000000\n",
      "50%          0.000000\n",
      "75%          1.000000\n",
      "max         95.000000\n",
      "Name: frequency, dtype: float64\n",
      "Number of customer with frequency of max 2: 0.8693689893706765\n"
     ]
    },
    {
     "data": {
      "image/png": "[encoded data removed]",
      "text/plain": [
       "<Figure size 432x288 with 1 Axes>"
      ]
     },
     "metadata": {},
     "output_type": "display_data"
    }
   ],
   "source": [
    "summary['frequency'].plot(kind='hist', bins=50)\n",
    "plt.xlim(0,10)\n",
    "print(summary['frequency'].describe())\n",
    "\n",
    "n_customer_less_2_repeated = (summary['frequency'] <= 2).mean()\n",
    "print(f'Number of customer with frequency of max 2: {n_customer_less_2_repeated}')\n"
   ]
  },
  {
   "cell_type": "markdown",
   "metadata": {},
   "source": [
    "We observe that **87%** of the dataset did not purchase more than 2 items the whole year. This is predictable given the lifetime of widgets which are not perishable items and can last at least 6 months usually.High heterogeneity in ecommerce widget purchases will certainly\n",
    "the precision of the models.\n",
    "<p> We want to study the distribution of t for different customers. For the sake of consistency, let's consider customers that made at least 10 purchases (population >= 10). \n",
    "<p> Then, let's see if the variable t verify one property of the exponential distribution \n",
    "    $$Exp(t) = std(t) = 1/\\lambda$$"
   ]
  },
  {
   "cell_type": "code",
   "execution_count": 15,
   "metadata": {},
   "outputs": [],
   "source": [
    "data = transaction_data.copy()\n",
    "data['Timestamp'] = pd.to_datetime(data['Timestamp'])\n",
    "data.sort_values('Timestamp', inplace=True)"
   ]
  },
  {
   "cell_type": "code",
   "execution_count": 16,
   "metadata": {},
   "outputs": [],
   "source": [
    "def exp_and_var(x):  #This function compute for each customer the mean inter_purchase time and its standard deviation \n",
    "    x = x['Timestamp'].diff().apply(lambda x: x.total_seconds())[1:] / (60*60*24)\n",
    "    return pd.Series([x.mean(), x.std(), len(x)], index=['mean', 'std', 'number of purchases'])"
   ]
  },
  {
   "cell_type": "code",
   "execution_count": 17,
   "metadata": {},
   "outputs": [
    {
     "data": {
      "text/html": [
       "<div>\n",
       "<style scoped>\n",
       "    .dataframe tbody tr th:only-of-type {\n",
       "        vertical-align: middle;\n",
       "    }\n",
       "\n",
       "    .dataframe tbody tr th {\n",
       "        vertical-align: top;\n",
       "    }\n",
       "\n",
       "    .dataframe thead th {\n",
       "        text-align: right;\n",
       "    }\n",
       "</style>\n",
       "<table border=\"1\" class=\"dataframe\">\n",
       "  <thead>\n",
       "    <tr style=\"text-align: right;\">\n",
       "      <th></th>\n",
       "      <th>mean</th>\n",
       "      <th>std</th>\n",
       "      <th>number of purchases</th>\n",
       "    </tr>\n",
       "    <tr>\n",
       "      <th>CustomerID</th>\n",
       "      <th></th>\n",
       "      <th></th>\n",
       "      <th></th>\n",
       "    </tr>\n",
       "  </thead>\n",
       "  <tbody>\n",
       "    <tr>\n",
       "      <th>0003f3458a6e7b495a975c2d9ddda559</th>\n",
       "      <td>142.462500</td>\n",
       "      <td>198.834498</td>\n",
       "      <td>2.0</td>\n",
       "    </tr>\n",
       "    <tr>\n",
       "      <th>000ad0f90e9fcb6ff5a0bc480cccbdb3</th>\n",
       "      <td>13.528889</td>\n",
       "      <td>17.817250</td>\n",
       "      <td>5.0</td>\n",
       "    </tr>\n",
       "    <tr>\n",
       "      <th>000c6eab0c01eddd654c20fab4182dae</th>\n",
       "      <td>41.261111</td>\n",
       "      <td>39.335474</td>\n",
       "      <td>4.0</td>\n",
       "    </tr>\n",
       "    <tr>\n",
       "      <th>000e87f1b3e38300a489eb3a6eef2dab</th>\n",
       "      <td>147.072917</td>\n",
       "      <td>112.713803</td>\n",
       "      <td>2.0</td>\n",
       "    </tr>\n",
       "    <tr>\n",
       "      <th>0017a05a282eabcfa07b36fa12f03440</th>\n",
       "      <td>60.780694</td>\n",
       "      <td>50.195049</td>\n",
       "      <td>5.0</td>\n",
       "    </tr>\n",
       "  </tbody>\n",
       "</table>\n",
       "</div>"
      ],
      "text/plain": [
       "                                        mean         std  number of purchases\n",
       "CustomerID                                                                   \n",
       "0003f3458a6e7b495a975c2d9ddda559  142.462500  198.834498                  2.0\n",
       "000ad0f90e9fcb6ff5a0bc480cccbdb3   13.528889   17.817250                  5.0\n",
       "000c6eab0c01eddd654c20fab4182dae   41.261111   39.335474                  4.0\n",
       "000e87f1b3e38300a489eb3a6eef2dab  147.072917  112.713803                  2.0\n",
       "0017a05a282eabcfa07b36fa12f03440   60.780694   50.195049                  5.0"
      ]
     },
     "execution_count": 17,
     "metadata": {},
     "output_type": "execute_result"
    }
   ],
   "source": [
    "diff_time = data.groupby('CustomerID').apply(exp_and_var)   # 5 min to run \n",
    "diff_time.dropna(inplace=True)\n",
    "diff_time.head()"
   ]
  },
  {
   "cell_type": "code",
   "execution_count": 18,
   "metadata": {},
   "outputs": [
    {
     "data": {
      "text/plain": [
       "56.77715364476355"
      ]
     },
     "execution_count": 18,
     "metadata": {},
     "output_type": "execute_result"
    }
   ],
   "source": [
    "diff_time[\"mean\"].mean()"
   ]
  },
  {
   "cell_type": "code",
   "execution_count": 19,
   "metadata": {},
   "outputs": [
    {
     "data": {
      "image/png": "[encoded data removed]",
      "text/plain": [
       "<Figure size 432x288 with 1 Axes>"
      ]
     },
     "metadata": {},
     "output_type": "display_data"
    }
   ],
   "source": [
    "#We consider as 10 the population size that starts to represent the distribution of the variable \n",
    "a = diff_time.loc[diff_time['number of purchases']>=10]  \n",
    "sns.boxplot(data = a['mean']/a['std'])\n",
    "plt.title(\"Distribution of the ratio mean/std around its median\")\n",
    "plt.tight_layout()"
   ]
  },
  {
   "cell_type": "markdown",
   "metadata": {},
   "source": [
    "Considering only the data that allows us to evaluate a distribution of the time between two transactions (number of transactions >= 10), We observe that the distribution of the ratio between the mean and the std has a **median close to 1** and the **inter quartile range is centered around 1**. We then almost have $Exp(t) = std(t) = 1/\\lambda$. \n",
    "- **Thus, the assumption that t is distributed exponentially with a transation rate λ following the relation is reasonable**."
   ]
  },
  {
   "cell_type": "markdown",
   "metadata": {},
   "source": [
    "### **Second assumption**: \n",
    "Heterogeneity in transaction rates $\\lambda$ across customers follows a **gamma distribution** with shape parameter r and scale parameter α and\n",
    "     $$\\lambda = \\dfrac{1}{\\mathbb{E}(t)}$$\n",
    "To verify this assumption, we conduct **chi squared and Kolmogorov Smirnov tests** and plot the **qqplot** of the gamma distribution and our $\\lambda$ to visually assess the goodness of fit of both distributions."
   ]
  },
  {
   "cell_type": "code",
   "execution_count": 20,
   "metadata": {},
   "outputs": [],
   "source": [
    "lbd = 1/a[\"mean\"]  #Lambda"
   ]
  },
  {
   "cell_type": "code",
   "execution_count": 21,
   "metadata": {},
   "outputs": [
    {
     "data": {
      "text/plain": [
       "(0, 0.5)"
      ]
     },
     "execution_count": 21,
     "metadata": {},
     "output_type": "execute_result"
    },
    {
     "data": {
      "image/png": "[encoded data removed]",
      "text/plain": [
       "<Figure size 432x288 with 1 Axes>"
      ]
     },
     "metadata": {},
     "output_type": "display_data"
    }
   ],
   "source": [
    "sns.distplot(lbd)  \n",
    "plt.xlim(0,0.5)"
   ]
  },
  {
   "cell_type": "code",
   "execution_count": 22,
   "metadata": {},
   "outputs": [],
   "source": [
    "import scipy\n",
    "from sklearn.preprocessing import StandardScaler\n",
    "import scipy.stats"
   ]
  },
  {
   "cell_type": "code",
   "execution_count": 23,
   "metadata": {},
   "outputs": [],
   "source": [
    "y = lbd.to_numpy()\n",
    "x = np.arange(len(y))\n",
    "size = len(y)  "
   ]
  },
  {
   "cell_type": "code",
   "execution_count": 24,
   "metadata": {},
   "outputs": [],
   "source": [
    "sc=StandardScaler() \n",
    "yy = y.reshape (-1,1)\n",
    "sc.fit(yy)\n",
    "y_std =sc.transform(yy)\n",
    "y_std = y_std.flatten()\n",
    "y_std\n",
    "del yy"
   ]
  },
  {
   "cell_type": "code",
   "execution_count": 25,
   "metadata": {},
   "outputs": [
    {
     "name": "stdout",
     "output_type": "stream",
     "text": [
      "\n",
      "Distributions sorted by goodness of fit:\n",
      "----------------------------------------\n",
      "  Distribution    chi_square  p_value\n",
      "1         beta    202.345765  0.00537\n",
      "2         norm   3823.677262  0.00000\n",
      "0        gamma  20119.565590  0.00000\n"
     ]
    }
   ],
   "source": [
    "import warnings\n",
    "warnings.filterwarnings(\"ignore\")  # Turn off code warnings\n",
    "\n",
    "#Borrowed from https://pythonhealthcare.org/2018/05/03/81-distribution-fitting-to-data/\n",
    "\n",
    "dist_names = ['gamma','beta','norm']\n",
    "\n",
    "\n",
    "chi_square = []\n",
    "p_values = []\n",
    "\n",
    "# Set up 50 bins for chi-square test\n",
    "# Observed data will be approximately evenly distrubuted aross all bins\n",
    "percentile_bins = np.linspace(0,100,51)\n",
    "percentile_cutoffs = np.percentile(y_std, percentile_bins)\n",
    "observed_frequency, bins = (np.histogram(y_std, bins=percentile_cutoffs))\n",
    "cum_observed_frequency = np.cumsum(observed_frequency)\n",
    "\n",
    "# Loop through candidate distributions\n",
    "\n",
    "for distribution in dist_names:\n",
    "    \n",
    "    dist = getattr(scipy.stats, distribution)  # Set up distribution and get fitted distribution parameters\n",
    "    param = dist.fit(y_std)\n",
    "    \n",
    "    \n",
    "    p = scipy.stats.kstest(y_std, distribution, args=param)[1]  # Obtain the KS test P statistic, round it to 5 decimal places\n",
    "    p = np.around(p, 5)\n",
    "    p_values.append(p)    \n",
    "    \n",
    "    # Get expected counts in percentile bins\n",
    "    # This is based on a 'cumulative distrubution function' (cdf)\n",
    "    cdf_fitted = dist.cdf(percentile_cutoffs, *param[:-2], loc=param[-2], \n",
    "                          scale=param[-1])\n",
    "    expected_frequency = []\n",
    "    for bin in range(len(percentile_bins)-1):\n",
    "        expected_cdf_area = cdf_fitted[bin+1] - cdf_fitted[bin]\n",
    "        expected_frequency.append(expected_cdf_area)\n",
    "    \n",
    "    # calculate chi-squared\n",
    "    expected_frequency = np.array(expected_frequency) * size\n",
    "    cum_expected_frequency = np.cumsum(expected_frequency)\n",
    "    ss = sum (((cum_expected_frequency - cum_observed_frequency) ** 2) / cum_observed_frequency)\n",
    "    chi_square.append(ss)\n",
    "        \n",
    "# Collate results and sort by goodness of fit (best at top)\n",
    "\n",
    "results = pd.DataFrame()\n",
    "results['Distribution'] = dist_names\n",
    "results['chi_square'] = chi_square\n",
    "results['p_value'] = p_values\n",
    "results.sort_values(['chi_square'], inplace=True)\n",
    "    \n",
    "# Report results\n",
    "\n",
    "print ('\\nDistributions sorted by goodness of fit:')\n",
    "print ('----------------------------------------')\n",
    "print (results)"
   ]
  },
  {
   "cell_type": "markdown",
   "metadata": {},
   "source": [
    "For our limited data, compared to other distributions, regarding the chi_square and p_value of both tests, the gamma distribution is not the best fit "
   ]
  },
  {
   "cell_type": "code",
   "execution_count": 26,
   "metadata": {},
   "outputs": [
    {
     "data": {
      "image/png": "[encoded data removed]",
      "text/plain": [
       "<Figure size 648x432 with 1 Axes>"
      ]
     },
     "metadata": {},
     "output_type": "display_data"
    },
    {
     "data": {
      "image/png": "[encoded data removed]",
      "text/plain": [
       "<Figure size 648x432 with 1 Axes>"
      ]
     },
     "metadata": {},
     "output_type": "display_data"
    },
    {
     "data": {
      "image/png": "[encoded data removed]",
      "text/plain": [
       "<Figure size 648x432 with 1 Axes>"
      ]
     },
     "metadata": {},
     "output_type": "display_data"
    }
   ],
   "source": [
    "## qq plot\n",
    "    \n",
    "data = y_std.copy()\n",
    "data.sort()\n",
    "\n",
    "# Loop through selected distributions (as previously selected)\n",
    "\n",
    "for distribution in dist_names:\n",
    "    # Set up distribution\n",
    "    dist = getattr(scipy.stats, distribution)\n",
    "    param = dist.fit(y_std)\n",
    "    \n",
    "    # Get random numbers from distribution\n",
    "    norm = dist.rvs(*param[0:-2],loc=param[-2], scale=param[-1],size = size)\n",
    "    norm.sort()\n",
    "    \n",
    "    # Create figure\n",
    "    fig = plt.figure(figsize=(9,6)) \n",
    "    \n",
    "    # qq plot\n",
    "    ax1 = fig.add_subplot(121) # Grid of 2x2, this is suplot 1\n",
    "    ax1.plot(norm,data,\"o\")\n",
    "    min_value = np.floor(min(min(norm),min(data)))\n",
    "    max_value = np.ceil(max(max(norm),max(data)))\n",
    "    ax1.plot([min_value,max_value],[min_value,max_value],'r--')\n",
    "    ax1.set_xlim(min_value,max_value)\n",
    "    ax1.set_xlabel('Theoretical quantiles')\n",
    "    ax1.set_ylabel('Observed quantiles')\n",
    "    title = 'qq plot for ' + distribution +' distribution'\n",
    "    ax1.set_title(title)\n",
    "    \n",
    "    # Display plot    \n",
    "    plt.tight_layout(pad=4)\n",
    "    plt.xlim(right=2)\n",
    "    plt.ylim(top=2)\n",
    "    plt.show()"
   ]
  },
  {
   "cell_type": "markdown",
   "metadata": {},
   "source": [
    "- **For this data, both Chi_squared and Kolmogorov Smirnov tests and QQ plot support that the gamma distribution is not a good fit for the distribution of the transaction rate amongst customers. Instead, the Beta distribution seems like a better fit**."
   ]
  },
  {
   "cell_type": "markdown",
   "metadata": {},
   "source": [
    "### **Third assumption**: \n",
    "<p> The point at which the customer “drops out” is distributed across transactions according to a (shifted) geometric distribution.\n",
    "<p> In this framework, the author consider that a dropout can occur immediately after a transaction.This assumption is relevant since after any transaction, a customer can \"dead\". If we assign a probability p to this event, the maximum likelihood estimation can be an effective way to evaluate that probability. \n",
    "    $$Prob= p(1 − p)^{j−1}$$ \n",
    "    \n",
    "<p> We thus can assume a geometric distribution under this premise "
   ]
  },
  {
   "cell_type": "markdown",
   "metadata": {},
   "source": [
    "### **Fourth assumption**: \n",
    "The purchase rate λ and the dropout rate μ vary independently across customers.\n",
    "<p> It is asafe to assume that each customer, given his financial situation has his own personal buying habits even though we can note a small dependance in consumption based on products' reviews and marketing campaigns."
   ]
  },
  {
   "cell_type": "markdown",
   "metadata": {},
   "source": [
    "### **Conclusion:**\n",
    "The widgets ecommerce store is a **continuous noncontractual** settings' problem. On overall its assumptions fairly fits the problem setting.\n",
    "**It it is not unreasonable to use the Modified Beta Gamma model as in the studies of Fader and Hardie for this problem.**"
   ]
  },
  {
   "cell_type": "markdown",
   "metadata": {},
   "source": [
    "# 5. Write a simulation"
   ]
  },
  {
   "cell_type": "markdown",
   "metadata": {},
   "source": [
    "Simulate how many customers are alive after 10 days, 1 year, 10 years and 100 years\n",
    "and how many purchases they have made in that time using the modified BG model.\n",
    "Use a random sample of 100 customers and show the results for 1 run of your\n",
    "simulation. We’ve outlined a possible approach below:\n",
    "- Generate a random sample of 100 customers.\n",
    "- Simulate how each customer makes purchases over time.\n",
    "- Count how many purchases the customers have made in 10 days.\n",
    "- Count how many customers are alive after 10 days.\n",
    "- Repeat b-d for 1 year, 10 years, 100 years.\n",
    "- Tip: Your simulation should show a different number of customers alive each time the code is evaluated. (Often it is interesting to look at this range of values, but for this exercise, we are only looking for you to show us the result of one run.)"
   ]
  },
  {
   "cell_type": "code",
   "execution_count": 27,
   "metadata": {},
   "outputs": [],
   "source": [
    "def simulation(t): # t the length of time observing new customers.\n",
    "    sample = modified_beta_geometric_nbd_model(T=t, r=0.79, alpha=85.27, a=0.54, b=1.45, size=100)\n",
    "    count_purchases = sample.frequency.sum()\n",
    "    nb_alive = sample.alive.sum()\n",
    "    return count_purchases, nb_alive"
   ]
  },
  {
   "cell_type": "code",
   "execution_count": 28,
   "metadata": {},
   "outputs": [
    {
     "data": {
      "image/png": "[encoded data removed]",
      "text/plain": [
       "<Figure size 576x360 with 2 Axes>"
      ]
     },
     "metadata": {},
     "output_type": "display_data"
    }
   ],
   "source": [
    "sim_days = [10, 365, 3650, 36500]  #10 days, 1 year = 365 days, 10 years = 3650 days, 100 years = 36500 days\n",
    "x = [0.03, 1, 10, 100]\n",
    "purchases = []\n",
    "nb_alive = []\n",
    "for days in sim_days:\n",
    "    a, b = simulation(days)\n",
    "    purchases.append(a)\n",
    "    nb_alive.append(b)\n",
    "\n",
    "fig, ax =plt.subplots(1,2, figsize=(8,5))\n",
    "sns.barplot(x, y=purchases, ax=ax[0])\n",
    "sns.barplot(x, y=nb_alive, ax=ax[1])\n",
    "ax[0].set_title('Count of purchases over time') \n",
    "ax[0].set_ylabel('Count of purchases') \n",
    "ax[0].set_xlabel('Time (years)') \n",
    "ax[1].set_title('Count of customer alive over time') \n",
    "ax[1].set_ylabel('Count of customer alive') \n",
    "ax[1].set_xlabel('Time (years)') \n",
    "plt.tight_layout()"
   ]
  },
  {
   "cell_type": "markdown",
   "metadata": {},
   "source": [
    "# 6.Analysis of the results"
   ]
  },
  {
   "cell_type": "markdown",
   "metadata": {},
   "source": [
    "## What the model does well"
   ]
  },
  {
   "cell_type": "markdown",
   "metadata": {},
   "source": [
    "**Assessing model fit**\n",
    "<p> Assuming the forementionned hypotheses we can assess the goodness of fit of the model to convince ourselves its relevance on this data. We can compare our data versus artificial data simulated with our fitted model’s parameters."
   ]
  },
  {
   "cell_type": "code",
   "execution_count": 29,
   "metadata": {},
   "outputs": [
    {
     "data": {
      "text/plain": [
       "<matplotlib.axes._subplots.AxesSubplot at 0x13ed62ecf88>"
      ]
     },
     "execution_count": 29,
     "metadata": {},
     "output_type": "execute_result"
    },
    {
     "data": {
      "image/png": "[encoded data removed]",
      "text/plain": [
       "<Figure size 432x288 with 1 Axes>"
      ]
     },
     "metadata": {},
     "output_type": "display_data"
    }
   ],
   "source": [
    "plot_period_transactions(mbgf)"
   ]
  },
  {
   "cell_type": "markdown",
   "metadata": {},
   "source": [
    "In this graph, we **compare the expected number of people to make [0-6] repeated transactions to the actual frequency distribution**. We can see that **our actual data and our simulated data line up well.** \n",
    "<p> Now let us assess how well the models track the actual number of repeat transactions over time. we consider the cumulative number of repeat transactions."
   ]
  },
  {
   "cell_type": "code",
   "execution_count": 30,
   "metadata": {},
   "outputs": [],
   "source": [
    "transaction = transaction_data.copy()\n",
    "transaction['date'] = pd.to_datetime(transaction_data.Timestamp)\n",
    "#transaction"
   ]
  },
  {
   "cell_type": "code",
   "execution_count": 31,
   "metadata": {},
   "outputs": [
    {
     "ename": "NameError",
     "evalue": "name 'r2_score' is not defined",
     "output_type": "error",
     "traceback": [
      "\u001b[1;31m---------------------------------------------------------------------------\u001b[0m",
      "\u001b[1;31mNameError\u001b[0m                                 Traceback (most recent call last)",
      "\u001b[1;32m<ipython-input-31-f2ce56d0b47a>\u001b[0m in \u001b[0;36m<module>\u001b[1;34m\u001b[0m\n\u001b[0;32m      1\u001b[0m \u001b[0mdata_cumul\u001b[0m \u001b[1;33m=\u001b[0m \u001b[0mexpected_cumulative_transactions\u001b[0m\u001b[1;33m(\u001b[0m\u001b[0mmbgf\u001b[0m\u001b[1;33m,\u001b[0m \u001b[0mtransaction\u001b[0m\u001b[1;33m,\u001b[0m  \u001b[0mcustomer_id_col\u001b[0m\u001b[1;33m=\u001b[0m \u001b[1;34m'CustomerID'\u001b[0m\u001b[1;33m,\u001b[0m \u001b[0mdatetime_col\u001b[0m \u001b[1;33m=\u001b[0m \u001b[1;34m'date'\u001b[0m\u001b[1;33m,\u001b[0m \u001b[0mt\u001b[0m\u001b[1;33m=\u001b[0m\u001b[1;36m365\u001b[0m \u001b[1;33m)\u001b[0m\u001b[1;33m\u001b[0m\u001b[1;33m\u001b[0m\u001b[0m\n\u001b[1;32m----> 2\u001b[1;33m \u001b[0mr2\u001b[0m \u001b[1;33m=\u001b[0m \u001b[0mr2_score\u001b[0m\u001b[1;33m(\u001b[0m\u001b[0mdata_cumul\u001b[0m\u001b[1;33m.\u001b[0m\u001b[0mactual\u001b[0m\u001b[1;33m,\u001b[0m \u001b[0mdata_cumul\u001b[0m\u001b[1;33m.\u001b[0m\u001b[0mpredicted\u001b[0m\u001b[1;33m)\u001b[0m\u001b[1;33m\u001b[0m\u001b[1;33m\u001b[0m\u001b[0m\n\u001b[0m\u001b[0;32m      3\u001b[0m \u001b[0msns\u001b[0m\u001b[1;33m.\u001b[0m\u001b[0mlineplot\u001b[0m\u001b[1;33m(\u001b[0m\u001b[0mdata\u001b[0m \u001b[1;33m=\u001b[0m \u001b[0mdata_cumul\u001b[0m\u001b[1;33m,\u001b[0m \u001b[0mx\u001b[0m\u001b[1;33m=\u001b[0m\u001b[0mdata_cumul\u001b[0m\u001b[1;33m.\u001b[0m\u001b[0mindex\u001b[0m\u001b[1;33m,\u001b[0m \u001b[0my\u001b[0m\u001b[1;33m=\u001b[0m\u001b[1;34m\"actual\"\u001b[0m\u001b[1;33m,\u001b[0m \u001b[0mlabel\u001b[0m\u001b[1;33m=\u001b[0m\u001b[1;34m\"actual\"\u001b[0m \u001b[1;33m)\u001b[0m\u001b[1;33m\u001b[0m\u001b[1;33m\u001b[0m\u001b[0m\n\u001b[0;32m      4\u001b[0m \u001b[0msns\u001b[0m\u001b[1;33m.\u001b[0m\u001b[0mlineplot\u001b[0m\u001b[1;33m(\u001b[0m\u001b[0mdata\u001b[0m \u001b[1;33m=\u001b[0m \u001b[0mdata_cumul\u001b[0m\u001b[1;33m,\u001b[0m \u001b[0mx\u001b[0m\u001b[1;33m=\u001b[0m\u001b[0mdata_cumul\u001b[0m\u001b[1;33m.\u001b[0m\u001b[0mindex\u001b[0m\u001b[1;33m,\u001b[0m \u001b[0my\u001b[0m\u001b[1;33m=\u001b[0m\u001b[1;34m\"predicted\"\u001b[0m\u001b[1;33m,\u001b[0m \u001b[0mlabel\u001b[0m\u001b[1;33m=\u001b[0m\u001b[1;34m\"predicted\"\u001b[0m\u001b[1;33m)\u001b[0m\u001b[1;33m\u001b[0m\u001b[1;33m\u001b[0m\u001b[0m\n\u001b[0;32m      5\u001b[0m \u001b[0mplt\u001b[0m\u001b[1;33m.\u001b[0m\u001b[0mxlabel\u001b[0m\u001b[1;33m(\u001b[0m\u001b[1;34m\"days\"\u001b[0m\u001b[1;33m)\u001b[0m\u001b[1;33m\u001b[0m\u001b[1;33m\u001b[0m\u001b[0m\n",
      "\u001b[1;31mNameError\u001b[0m: name 'r2_score' is not defined"
     ]
    }
   ],
   "source": [
    "data_cumul = expected_cumulative_transactions(mbgf, transaction,  customer_id_col= 'CustomerID', datetime_col = 'date', t=365 )\n",
    "r2 = r2_score(data_cumul.actual, data_cumul.predicted)\n",
    "sns.lineplot(data = data_cumul, x=data_cumul.index, y=\"actual\", label=\"actual\" )\n",
    "sns.lineplot(data = data_cumul, x=data_cumul.index, y=\"predicted\", label=\"predicted\")\n",
    "plt.xlabel(\"days\")"
   ]
  },
  {
   "cell_type": "markdown",
   "metadata": {},
   "source": [
    "The model demonstrates superb tracking capabilities. It closely matches the cumulated actual probabilities over time. Futhermore, we need to evaluate how the model performs on unseen data."
   ]
  },
  {
   "cell_type": "markdown",
   "metadata": {},
   "source": [
    "### Limits to its applications"
   ]
  },
  {
   "cell_type": "markdown",
   "metadata": {},
   "source": [
    "Now we will train our model from November 2016 until October 2017 then evaluate its performance on the last two months November and December 2017.\n"
   ]
  },
  {
   "cell_type": "code",
   "execution_count": 32,
   "metadata": {},
   "outputs": [
    {
     "name": "stdout",
     "output_type": "stream",
     "text": [
      "start date= 2016-11-30 04:47:00+00:00  end date= 2017-12-06 17:53:00+00:00\n"
     ]
    }
   ],
   "source": [
    "print(\"start date=\",pd.to_datetime(transaction_data.Timestamp).min(), \" end date=\",pd.to_datetime(transaction_data.Timestamp).max())"
   ]
  },
  {
   "cell_type": "code",
   "execution_count": 33,
   "metadata": {
    "scrolled": true
   },
   "outputs": [],
   "source": [
    "#We holdout the last 2 months of historical data\n",
    "summary_cal_holdout = calibration_and_holdout_data(transaction, customer_id_col= 'CustomerID',\n",
    "                                                   datetime_col = 'date', calibration_period_end = \"2017-10-06 00:00:00+00:00\")"
   ]
  },
  {
   "cell_type": "code",
   "execution_count": 34,
   "metadata": {},
   "outputs": [
    {
     "data": {
      "text/plain": [
       "<matplotlib.axes._subplots.AxesSubplot at 0x13ed2454cc8>"
      ]
     },
     "execution_count": 34,
     "metadata": {},
     "output_type": "execute_result"
    },
    {
     "data": {
      "image/png": "[encoded data removed]",
      "text/plain": [
       "<Figure size 432x288 with 1 Axes>"
      ]
     },
     "metadata": {},
     "output_type": "display_data"
    }
   ],
   "source": [
    "mbgf.fit(summary_cal_holdout['frequency_cal'], summary_cal_holdout['recency_cal'], summary_cal_holdout['T_cal'])\n",
    "plot_calibration_purchases_vs_holdout_purchases(mbgf, summary_cal_holdout, n=8)"
   ]
  },
  {
   "cell_type": "markdown",
   "metadata": {},
   "source": [
    "- The holdout data is the period of November and December. At the Christmas season we have a surge in purchases not followed by the model. **The model is less efficient during the christmas season, and eventually on the extent of seasonal purchase behavior.**"
   ]
  },
  {
   "cell_type": "markdown",
   "metadata": {},
   "source": [
    "- With the simulation of number of purchases and the number of customers alive over time, we observe that **the count of customers alive become pretty unlikely when it comes to 10-100 years**. The current customers will certainly be \"dead\" before that time especically since the prediction is only based on their historical habits and we don't consider their age. We consider that consumption changes with age.  "
   ]
  },
  {
   "cell_type": "markdown",
   "metadata": {},
   "source": [
    "# 7. Ideas to address the deficiencies of the model"
   ]
  },
  {
   "cell_type": "markdown",
   "metadata": {},
   "source": [
    "- First, for long term prediction it is difficult to predict a customer purchasing behavior especially in the scale of years. Generally speaking, to adapt to the variation of customers' habit, **the model should be applied separately to customer cohorts defined by the time (e.g., quarter) of acquisition, acquisition channel as stated in the work of Blattberg et al. 2001**. Then we will have to be confident about the comparabilty of the different cohorts to extrapolate one's parameters to the other.\n",
    "\n",
    "- Second, we should **include in the BG/NBD some external features such as demographics or measures of marketing activity to which a cohort is exposed**."
   ]
  },
  {
   "cell_type": "markdown",
   "metadata": {},
   "source": [
    "# 8.Explain "
   ]
  },
  {
   "cell_type": "markdown",
   "metadata": {},
   "source": [
    "Suppose the intended use of the modified BG model is binning customers into one of the\n",
    "following categories: highly likely to purchase in the next year, somewhat likely to\n",
    "purchase in the next year, unlikely to purchase in the next year, highly unlikely to\n",
    "purchase in the next year. Suppose you want to compare this model with a model your\n",
    "colleague is proposing. How would you evaluate the two models? Do not implement, but\n",
    "do show a mockup of the results of your evaluation."
   ]
  },
  {
   "cell_type": "code",
   "execution_count": 35,
   "metadata": {},
   "outputs": [],
   "source": [
    "from IPython.display import Image"
   ]
  },
  {
   "cell_type": "code",
   "execution_count": 36,
   "metadata": {},
   "outputs": [
    {
     "data": {
      "text/plain": [
       "<matplotlib.axes._subplots.AxesSubplot at 0x13ed2669348>"
      ]
     },
     "execution_count": 36,
     "metadata": {},
     "output_type": "execute_result"
    },
    {
     "data": {
      "image/png": "[encoded data removed]",
      "text/plain": [
       "<Figure size 432x288 with 2 Axes>"
      ]
     },
     "metadata": {},
     "output_type": "display_data"
    }
   ],
   "source": [
    "plot_frequency_recency_matrix(mbgf, T=365)"
   ]
  },
  {
   "cell_type": "code",
   "execution_count": 37,
   "metadata": {},
   "outputs": [],
   "source": [
    "#Please do not run the following cell to save the image"
   ]
  },
  {
   "cell_type": "markdown",
   "metadata": {},
   "source": [
    "Here is a matrix of the probability of being still being alive at the end of our historical data depending on the customer recency and frequency. Based on this matrix we can partition our data in four portions using different thresholds.\n",
    "- **Type 1:** Highly likely to purchase in the next year, they purchased recently and have been frequent, they are almost surely alive\n",
    "- **Type 2:** Somewhat likely to purchase in the next year, They are recent but have been less frequent than Type 1\n",
    "- **Type 3:** Unlikely to purchase in the next year, they haven't purchased recently and where not frequent\n",
    "- **Type 4:** Highly unlikely to purchase in the next year\n",
    "<p>\n",
    "    \n",
    "![frequency matrix](question_8.JPG)"
   ]
  },
  {
   "cell_type": "markdown",
   "metadata": {},
   "source": [
    "This can be considered as a **4 labels classification problem**. We can use **accuracy** as evaluation metrics. To compare this model with another, we can use the **confusion matrix** of the problem. We train our algorithm on a training set, then compare the performances on the test set using the confusion matrix. The best model will be the one with the highest accuracy (**depending on management's decisions we can also use the precision, recall for evaluation**).\n",
    "<P> On our test set we choose to partition our dataset according to our above matrix following the rules: \n",
    "- Type 1 predicted purchases in [30,50]: Customers who have purchased a lot and purchased recently will likely be the best customers in the future\n",
    "- Type 2 predicted purchases in [2,30]: As recent as Type 1 but less frequent will probably buy less than Type 1 in the future\n",
    "- Type 3 predicted purchases in [0,1]: Customers who have made a few purchases could be \"dead\" or light buyers\n",
    "- Type 4 predicted purchases in [0]: Customers who have purchased a lot, but not recently, have probably dropped out.\n",
    "    \n"
   ]
  },
  {
   "cell_type": "code",
   "execution_count": null,
   "metadata": {},
   "outputs": [],
   "source": []
  }
 ],
 "metadata": {
  "kernelspec": {
   "display_name": "Python 3",
   "language": "python",
   "name": "python3"
  },
  "language_info": {
   "codemirror_mode": {
    "name": "ipython",
    "version": 3
   },
   "file_extension": ".py",
   "mimetype": "text/x-python",
   "name": "python",
   "nbconvert_exporter": "python",
   "pygments_lexer": "ipython3",
   "version": "3.7.6"
  }
 },
 "nbformat": 4,
 "nbformat_minor": 4
}
