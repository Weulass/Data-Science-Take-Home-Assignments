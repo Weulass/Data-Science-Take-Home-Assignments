{
 "cells": [
  {
   "cell_type": "code",
   "execution_count": 23,
   "metadata": {},
   "outputs": [],
   "source": [
    "import numpy as np\n",
    "import scipy\n",
    "from sklearn.preprocessing import StandardScaler\n",
    "import scipy.stats\n",
    "import warnings\n",
    "warnings.filterwarnings(\"ignore\")\n",
    "\n",
    "import pandas as pd\n",
    "import re\n",
    "%matplotlib inline\n",
    "import matplotlib.pyplot as plt\n",
    "import seaborn as sns\n",
    "sns.set()\n",
    "sns.set_context(\"talk\")\n",
    "import datetime\n",
    "# Plot settings\n",
    "plt.rcParams['figure.figsize'] = (8, 8)\n",
    "plt.rcParams['font.size'] = 12"
   ]
  },
  {
   "cell_type": "markdown",
   "metadata": {
    "colab_type": "text",
    "id": "3-YejG3JaX3i"
   },
   "source": [
    "# Load dataset\n"
   ]
  },
  {
   "cell_type": "code",
   "execution_count": 24,
   "metadata": {},
   "outputs": [],
   "source": [
    "client = pd.read_csv(\"cliente_tabla.csv\")\n",
    "product = pd.read_csv(\"producto_tabla.csv\")\n",
    "town = pd.read_csv(\"town_state.csv\")\n",
    "sales = pd.read_csv(\"data.csv\")"
   ]
  },
  {
   "cell_type": "code",
   "execution_count": 25,
   "metadata": {
    "colab": {
     "base_uri": "https://localhost:8080/",
     "height": 69
    },
    "colab_type": "code",
    "id": "rvA1nfT0eUGo",
    "outputId": "521002a8-4f3e-486d-8639-88e05b238b06"
   },
   "outputs": [
    {
     "name": "stdout",
     "output_type": "stream",
     "text": [
      "client =  (935362, 2) \n",
      " product =  (2592, 2) \n",
      " town =  (790, 3) \n",
      " sales =  (462740, 11)\n"
     ]
    }
   ],
   "source": [
    "#Dimensions of the dataset\n",
    "def shape():\n",
    "    print(\"client = \",client.shape,\"\\n product = \",product.shape,\"\\n town = \",town.shape, \"\\n sales = \",sales.shape)\n",
    "\n",
    "shape()"
   ]
  },
  {
   "cell_type": "markdown",
   "metadata": {
    "colab_type": "text",
    "id": "W_tVzvz7aIGk"
   },
   "source": [
    "Preview of the datasets\n",
    "\n"
   ]
  },
  {
   "cell_type": "code",
   "execution_count": 26,
   "metadata": {
    "colab": {},
    "colab_type": "code",
    "id": "dia99X-QYcxn"
   },
   "outputs": [],
   "source": [
    "# client.head(3)\n",
    "# product.head(3)\n",
    "# town.head(3)\n",
    "# sales.head(3)"
   ]
  },
  {
   "cell_type": "code",
   "execution_count": 27,
   "metadata": {
    "colab": {
     "base_uri": "https://localhost:8080/",
     "height": 347
    },
    "colab_type": "code",
    "id": "CHjV3DbbaUsP",
    "outputId": "0e836ac4-caaa-4f9b-f1ff-ef84c93eceef"
   },
   "outputs": [
    {
     "name": "stdout",
     "output_type": "stream",
     "text": [
      "<class 'pandas.core.frame.DataFrame'>\n",
      "RangeIndex: 462740 entries, 0 to 462739\n",
      "Data columns (total 11 columns):\n",
      " #   Column           Non-Null Count   Dtype  \n",
      "---  ------           --------------   -----  \n",
      " 0   Unnamed: 0       462740 non-null  int64  \n",
      " 1   Semana           462740 non-null  int64  \n",
      " 2   Agencia_ID       462740 non-null  int64  \n",
      " 3   Canal_ID         462740 non-null  int64  \n",
      " 4   Ruta_SAK         462740 non-null  int64  \n",
      " 5   Cliente_ID       462740 non-null  int64  \n",
      " 6   Producto_ID      462740 non-null  int64  \n",
      " 7   Venta_uni_hoy    462740 non-null  int64  \n",
      " 8   Venta_hoy        462740 non-null  float64\n",
      " 9   Dev_uni_proxima  462740 non-null  int64  \n",
      " 10  Dev_proxima      462740 non-null  float64\n",
      "dtypes: float64(2), int64(9)\n",
      "memory usage: 38.8 MB\n"
     ]
    }
   ],
   "source": [
    "sales.info()\n",
    "#product.info()\n",
    "#town.info()\n",
    "#client.info()"
   ]
  },
  {
   "cell_type": "code",
   "execution_count": 28,
   "metadata": {
    "colab": {
     "base_uri": "https://localhost:8080/",
     "height": 294
    },
    "colab_type": "code",
    "id": "mvcpI52Ecju2",
    "outputId": "cd3ab969-e6ee-475e-9ba1-12fe4838f8d1"
   },
   "outputs": [
    {
     "data": {
      "text/html": [
       "<div>\n",
       "<style scoped>\n",
       "    .dataframe tbody tr th:only-of-type {\n",
       "        vertical-align: middle;\n",
       "    }\n",
       "\n",
       "    .dataframe tbody tr th {\n",
       "        vertical-align: top;\n",
       "    }\n",
       "\n",
       "    .dataframe thead th {\n",
       "        text-align: right;\n",
       "    }\n",
       "</style>\n",
       "<table border=\"1\" class=\"dataframe\">\n",
       "  <thead>\n",
       "    <tr style=\"text-align: right;\">\n",
       "      <th></th>\n",
       "      <th>Unnamed: 0</th>\n",
       "      <th>Semana</th>\n",
       "      <th>Agencia_ID</th>\n",
       "      <th>Canal_ID</th>\n",
       "      <th>Ruta_SAK</th>\n",
       "      <th>Cliente_ID</th>\n",
       "      <th>Producto_ID</th>\n",
       "      <th>Venta_uni_hoy</th>\n",
       "      <th>Venta_hoy</th>\n",
       "      <th>Dev_uni_proxima</th>\n",
       "      <th>Dev_proxima</th>\n",
       "    </tr>\n",
       "  </thead>\n",
       "  <tbody>\n",
       "    <tr>\n",
       "      <th>count</th>\n",
       "      <td>462740.000000</td>\n",
       "      <td>462740.000000</td>\n",
       "      <td>462740.000000</td>\n",
       "      <td>462740.000000</td>\n",
       "      <td>462740.000000</td>\n",
       "      <td>4.627400e+05</td>\n",
       "      <td>462740.000000</td>\n",
       "      <td>462740.000000</td>\n",
       "      <td>462740.000000</td>\n",
       "      <td>462740.000000</td>\n",
       "      <td>462740.000000</td>\n",
       "    </tr>\n",
       "    <tr>\n",
       "      <th>mean</th>\n",
       "      <td>231369.500000</td>\n",
       "      <td>5.978612</td>\n",
       "      <td>3009.919469</td>\n",
       "      <td>2.587781</td>\n",
       "      <td>2058.055563</td>\n",
       "      <td>1.004012e+06</td>\n",
       "      <td>28723.140984</td>\n",
       "      <td>76.891412</td>\n",
       "      <td>848.496654</td>\n",
       "      <td>3.170869</td>\n",
       "      <td>24.699612</td>\n",
       "    </tr>\n",
       "    <tr>\n",
       "      <th>std</th>\n",
       "      <td>133581.676119</td>\n",
       "      <td>2.001538</td>\n",
       "      <td>5092.256670</td>\n",
       "      <td>1.858762</td>\n",
       "      <td>1443.241251</td>\n",
       "      <td>1.352308e+06</td>\n",
       "      <td>16638.288438</td>\n",
       "      <td>123.225466</td>\n",
       "      <td>1500.171309</td>\n",
       "      <td>367.797829</td>\n",
       "      <td>134.162629</td>\n",
       "    </tr>\n",
       "    <tr>\n",
       "      <th>min</th>\n",
       "      <td>0.000000</td>\n",
       "      <td>3.000000</td>\n",
       "      <td>1111.000000</td>\n",
       "      <td>1.000000</td>\n",
       "      <td>1.000000</td>\n",
       "      <td>6.500000e+01</td>\n",
       "      <td>72.000000</td>\n",
       "      <td>0.000000</td>\n",
       "      <td>0.000000</td>\n",
       "      <td>0.000000</td>\n",
       "      <td>0.000000</td>\n",
       "    </tr>\n",
       "    <tr>\n",
       "      <th>25%</th>\n",
       "      <td>115684.750000</td>\n",
       "      <td>4.000000</td>\n",
       "      <td>1142.000000</td>\n",
       "      <td>1.000000</td>\n",
       "      <td>1033.000000</td>\n",
       "      <td>1.484320e+05</td>\n",
       "      <td>6490.000000</td>\n",
       "      <td>9.000000</td>\n",
       "      <td>79.280000</td>\n",
       "      <td>0.000000</td>\n",
       "      <td>0.000000</td>\n",
       "    </tr>\n",
       "    <tr>\n",
       "      <th>50%</th>\n",
       "      <td>231369.500000</td>\n",
       "      <td>6.000000</td>\n",
       "      <td>1276.000000</td>\n",
       "      <td>2.000000</td>\n",
       "      <td>1634.000000</td>\n",
       "      <td>6.533780e+05</td>\n",
       "      <td>34210.000000</td>\n",
       "      <td>30.000000</td>\n",
       "      <td>319.040000</td>\n",
       "      <td>0.000000</td>\n",
       "      <td>0.000000</td>\n",
       "    </tr>\n",
       "    <tr>\n",
       "      <th>75%</th>\n",
       "      <td>347054.250000</td>\n",
       "      <td>8.000000</td>\n",
       "      <td>2229.000000</td>\n",
       "      <td>5.000000</td>\n",
       "      <td>3006.000000</td>\n",
       "      <td>1.128951e+06</td>\n",
       "      <td>43064.000000</td>\n",
       "      <td>98.000000</td>\n",
       "      <td>1018.600000</td>\n",
       "      <td>0.000000</td>\n",
       "      <td>0.000000</td>\n",
       "    </tr>\n",
       "    <tr>\n",
       "      <th>max</th>\n",
       "      <td>462739.000000</td>\n",
       "      <td>9.000000</td>\n",
       "      <td>25759.000000</td>\n",
       "      <td>11.000000</td>\n",
       "      <td>9921.000000</td>\n",
       "      <td>9.679244e+06</td>\n",
       "      <td>49996.000000</td>\n",
       "      <td>4228.000000</td>\n",
       "      <td>54247.000000</td>\n",
       "      <td>250000.000000</td>\n",
       "      <td>17400.000000</td>\n",
       "    </tr>\n",
       "  </tbody>\n",
       "</table>\n",
       "</div>"
      ],
      "text/plain": [
       "          Unnamed: 0         Semana     Agencia_ID       Canal_ID  \\\n",
       "count  462740.000000  462740.000000  462740.000000  462740.000000   \n",
       "mean   231369.500000       5.978612    3009.919469       2.587781   \n",
       "std    133581.676119       2.001538    5092.256670       1.858762   \n",
       "min         0.000000       3.000000    1111.000000       1.000000   \n",
       "25%    115684.750000       4.000000    1142.000000       1.000000   \n",
       "50%    231369.500000       6.000000    1276.000000       2.000000   \n",
       "75%    347054.250000       8.000000    2229.000000       5.000000   \n",
       "max    462739.000000       9.000000   25759.000000      11.000000   \n",
       "\n",
       "            Ruta_SAK    Cliente_ID    Producto_ID  Venta_uni_hoy  \\\n",
       "count  462740.000000  4.627400e+05  462740.000000  462740.000000   \n",
       "mean     2058.055563  1.004012e+06   28723.140984      76.891412   \n",
       "std      1443.241251  1.352308e+06   16638.288438     123.225466   \n",
       "min         1.000000  6.500000e+01      72.000000       0.000000   \n",
       "25%      1033.000000  1.484320e+05    6490.000000       9.000000   \n",
       "50%      1634.000000  6.533780e+05   34210.000000      30.000000   \n",
       "75%      3006.000000  1.128951e+06   43064.000000      98.000000   \n",
       "max      9921.000000  9.679244e+06   49996.000000    4228.000000   \n",
       "\n",
       "           Venta_hoy  Dev_uni_proxima    Dev_proxima  \n",
       "count  462740.000000    462740.000000  462740.000000  \n",
       "mean      848.496654         3.170869      24.699612  \n",
       "std      1500.171309       367.797829     134.162629  \n",
       "min         0.000000         0.000000       0.000000  \n",
       "25%        79.280000         0.000000       0.000000  \n",
       "50%       319.040000         0.000000       0.000000  \n",
       "75%      1018.600000         0.000000       0.000000  \n",
       "max     54247.000000    250000.000000   17400.000000  "
      ]
     },
     "execution_count": 28,
     "metadata": {},
     "output_type": "execute_result"
    }
   ],
   "source": [
    "#town.describe()\n",
    "sales.describe()\n",
    "#product.describe()\n",
    "#client.describe()"
   ]
  },
  {
   "cell_type": "code",
   "execution_count": 29,
   "metadata": {},
   "outputs": [],
   "source": [
    "#Rename the columns in english\n",
    "sales.rename(columns={\"Unnamed: 0\":\"row\",\"Semana\":\"week_number\", \"Agencia_ID\":\"sales_depot_id\", \"Canal_ID\":\"sales_channel_id\",\"Ruta_SAK\":\"route_id\", \"Cliente_ID\":\"client_id\", \"NombreCliente\":\"client_name\", \"Producto_ID\":\"product_id\", \"NombreProducto\":\"product_name\", \"Venta_uni_hoy\":\"sales_unit\", \"Venta_hoy\":\"sales\", \"Dev_uni_proxima\":\"returns_unit\", \"Dev_proxima\":\"return\" }, inplace = True)\n",
    "sales.set_index(\"row\", inplace=True)\n",
    "client.rename(columns={\"Cliente_ID\":\"client_id\", \"NombreCliente\":\"client_name\"}, inplace=True)\n",
    "product.rename(columns= {\"Producto_ID\":\"product_id\",\"NombreProducto\":\"product_name\"}, inplace=True)\n",
    "town.rename(columns={\"Agencia_ID\":\"sales_depot_id\"}, inplace=True)"
   ]
  },
  {
   "cell_type": "code",
   "execution_count": 30,
   "metadata": {},
   "outputs": [
    {
     "data": {
      "text/html": [
       "<div>\n",
       "<style scoped>\n",
       "    .dataframe tbody tr th:only-of-type {\n",
       "        vertical-align: middle;\n",
       "    }\n",
       "\n",
       "    .dataframe tbody tr th {\n",
       "        vertical-align: top;\n",
       "    }\n",
       "\n",
       "    .dataframe thead th {\n",
       "        text-align: right;\n",
       "    }\n",
       "</style>\n",
       "<table border=\"1\" class=\"dataframe\">\n",
       "  <thead>\n",
       "    <tr style=\"text-align: right;\">\n",
       "      <th></th>\n",
       "      <th>week_number</th>\n",
       "      <th>sales_depot_id</th>\n",
       "      <th>sales_channel_id</th>\n",
       "      <th>route_id</th>\n",
       "      <th>client_id</th>\n",
       "      <th>product_id</th>\n",
       "      <th>sales_unit</th>\n",
       "      <th>sales</th>\n",
       "      <th>returns_unit</th>\n",
       "      <th>return</th>\n",
       "    </tr>\n",
       "    <tr>\n",
       "      <th>row</th>\n",
       "      <th></th>\n",
       "      <th></th>\n",
       "      <th></th>\n",
       "      <th></th>\n",
       "      <th></th>\n",
       "      <th></th>\n",
       "      <th></th>\n",
       "      <th></th>\n",
       "      <th></th>\n",
       "      <th></th>\n",
       "    </tr>\n",
       "  </thead>\n",
       "  <tbody>\n",
       "    <tr>\n",
       "      <th>0</th>\n",
       "      <td>3</td>\n",
       "      <td>1111</td>\n",
       "      <td>1</td>\n",
       "      <td>1001</td>\n",
       "      <td>50827</td>\n",
       "      <td>73</td>\n",
       "      <td>6</td>\n",
       "      <td>127.92</td>\n",
       "      <td>0</td>\n",
       "      <td>0.0</td>\n",
       "    </tr>\n",
       "  </tbody>\n",
       "</table>\n",
       "</div>"
      ],
      "text/plain": [
       "     week_number  sales_depot_id  sales_channel_id  route_id  client_id  \\\n",
       "row                                                                       \n",
       "0              3            1111                 1      1001      50827   \n",
       "\n",
       "     product_id  sales_unit   sales  returns_unit  return  \n",
       "row                                                        \n",
       "0            73           6  127.92             0     0.0  "
      ]
     },
     "execution_count": 30,
     "metadata": {},
     "output_type": "execute_result"
    }
   ],
   "source": [
    "#Double check of the columns' names\n",
    "sales.head(1)"
   ]
  },
  {
   "cell_type": "markdown",
   "metadata": {
    "colab_type": "text",
    "id": "jL-XJgK9NS4q"
   },
   "source": [
    "# Part 1: Data cleaning "
   ]
  },
  {
   "cell_type": "code",
   "execution_count": 31,
   "metadata": {},
   "outputs": [
    {
     "data": {
      "text/html": [
       "<div>\n",
       "<style scoped>\n",
       "    .dataframe tbody tr th:only-of-type {\n",
       "        vertical-align: middle;\n",
       "    }\n",
       "\n",
       "    .dataframe tbody tr th {\n",
       "        vertical-align: top;\n",
       "    }\n",
       "\n",
       "    .dataframe thead th {\n",
       "        text-align: right;\n",
       "    }\n",
       "</style>\n",
       "<table border=\"1\" class=\"dataframe\">\n",
       "  <thead>\n",
       "    <tr style=\"text-align: right;\">\n",
       "      <th></th>\n",
       "      <th>client_id</th>\n",
       "      <th>client_name</th>\n",
       "    </tr>\n",
       "  </thead>\n",
       "  <tbody>\n",
       "    <tr>\n",
       "      <th>0</th>\n",
       "      <td>0</td>\n",
       "      <td>SIN NOMBRE</td>\n",
       "    </tr>\n",
       "    <tr>\n",
       "      <th>1</th>\n",
       "      <td>1</td>\n",
       "      <td>OXXO XINANTECATL</td>\n",
       "    </tr>\n",
       "    <tr>\n",
       "      <th>2</th>\n",
       "      <td>2</td>\n",
       "      <td>SIN NOMBRE</td>\n",
       "    </tr>\n",
       "  </tbody>\n",
       "</table>\n",
       "</div>"
      ],
      "text/plain": [
       "   client_id       client_name\n",
       "0          0        SIN NOMBRE\n",
       "1          1  OXXO XINANTECATL\n",
       "2          2        SIN NOMBRE"
      ]
     },
     "execution_count": 31,
     "metadata": {},
     "output_type": "execute_result"
    }
   ],
   "source": [
    "client.head(3)"
   ]
  },
  {
   "cell_type": "markdown",
   "metadata": {},
   "source": [
    "We observe that the `client_name` column is noisy, there a some clients with multiple `client_id`. We will solve this problem by transforming all the noisy names into one single format into a new column called `encoded_name`\n",
    "- First we lower the cases\n",
    "- Then we strip the names\n",
    "- Finally all the number with the same encoded name will be attributed the name of the first occurence\n",
    "In this way, when we will merge with the sales dataset, different clients id of the same client will be attributed the same name as written in the database, we now can drop the duplicates\n"
   ]
  },
  {
   "cell_type": "markdown",
   "metadata": {},
   "source": [
    "### Uniformize client_name ###"
   ]
  },
  {
   "cell_type": "code",
   "execution_count": 32,
   "metadata": {},
   "outputs": [
    {
     "name": "stdout",
     "output_type": "stream",
     "text": [
      " Initially, the number of unique clients_names that we have is  311155 \n",
      " If we strip the names, that yields to  305003 \n",
      " Putting them in lower case yield  304876\n"
     ]
    }
   ],
   "source": [
    "print(\" Initially, the number of unique clients_names that we have is \",len(client.client_name.unique()),\"\\n If we strip the names, that yields to \", len(client.client_name.str.replace(\" \",\"\").unique()),\"\\n Putting them in lower case yield \",len(client.client_name.str.replace(\" \",\"\").str.lower().unique()))"
   ]
  },
  {
   "cell_type": "code",
   "execution_count": 33,
   "metadata": {},
   "outputs": [],
   "source": [
    "client[\"encoded_name\"] = client.client_name.str.replace(\" \",\"\").str.lower()"
   ]
  },
  {
   "cell_type": "code",
   "execution_count": 34,
   "metadata": {},
   "outputs": [
    {
     "name": "stdout",
     "output_type": "stream",
     "text": [
      "the number of duplicated client's names is  630486\n"
     ]
    }
   ],
   "source": [
    "bool = client.duplicated(subset = \"encoded_name\")\n",
    "print(\"the number of duplicated client's names is \",sum(bool))\n",
    "duplicates = client[bool]   #A dataframe of all the duplicates \"encoded_name\""
   ]
  },
  {
   "cell_type": "code",
   "execution_count": 35,
   "metadata": {},
   "outputs": [
    {
     "data": {
      "text/plain": [
       "noidentificado           281669\n",
       "lupita                     4862\n",
       "mary                       3015\n",
       "lapasadita                 2426\n",
       "laventanita                2271\n",
       "                          ...  \n",
       "ensastiga                     1\n",
       "guadalupeperezmaciel          1\n",
       "medianaranja                  1\n",
       "arturoortizavila              1\n",
       "abarroteslavirgencita         1\n",
       "Name: encoded_name, Length: 39287, dtype: int64"
      ]
     },
     "execution_count": 35,
     "metadata": {},
     "output_type": "execute_result"
    }
   ],
   "source": [
    "duplicates['encoded_name'].value_counts()    #Count of duplicates"
   ]
  },
  {
   "cell_type": "code",
   "execution_count": 36,
   "metadata": {},
   "outputs": [],
   "source": [
    "uniques = client.drop_duplicates(subset = \"encoded_name\", keep='first')     #A dataframe of all the unique \"encoded_name\" (first occurence)\n",
    "uniques.reset_index(inplace=True)"
   ]
  },
  {
   "cell_type": "code",
   "execution_count": 37,
   "metadata": {},
   "outputs": [],
   "source": [
    "#Create a mapping of encoded_name : [client_id , client_name] client name refer to the name of the first occurence of the client in the dataset \n",
    "dico = {}\n",
    "for i in range(len(uniques)):\n",
    "    dico[uniques.encoded_name.iloc[i]] = [uniques.client_id.iloc[i], uniques.client_name.iloc[i]]"
   ]
  },
  {
   "cell_type": "code",
   "execution_count": 38,
   "metadata": {},
   "outputs": [],
   "source": [
    "# Attribute the first name in a new column the one of the first occurence\n",
    "name = []\n",
    "for i in range(len(client)):\n",
    "    encoded_name = client.encoded_name.iloc[i]\n",
    "    name.append(dico[encoded_name][1])\n",
    "client[\"client_unique_name\"] = name  "
   ]
  },
  {
   "cell_type": "code",
   "execution_count": 39,
   "metadata": {},
   "outputs": [],
   "source": [
    "clean_client = client[[\"client_id\",\"client_unique_name\"]]"
   ]
  },
  {
   "cell_type": "code",
   "execution_count": 40,
   "metadata": {},
   "outputs": [
    {
     "data": {
      "text/plain": [
       "True"
      ]
     },
     "execution_count": 40,
     "metadata": {},
     "output_type": "execute_result"
    }
   ],
   "source": [
    "#Double check if we the names are uniform\n",
    "len(clean_client.client_unique_name) == len(clean_client.client_unique_name.str.replace(\" \",\"\").str.lower())"
   ]
  },
  {
   "cell_type": "code",
   "execution_count": 41,
   "metadata": {},
   "outputs": [
    {
     "data": {
      "text/plain": [
       "(930500, 2)"
      ]
     },
     "execution_count": 41,
     "metadata": {},
     "output_type": "execute_result"
    }
   ],
   "source": [
    "#Now we delete the duplicates client_id\n",
    "clean_client = clean_client.drop_duplicates(subset = \"client_id\")\n",
    "clean_client.shape"
   ]
  },
  {
   "cell_type": "markdown",
   "metadata": {},
   "source": [
    "We will now merge the data"
   ]
  },
  {
   "cell_type": "code",
   "execution_count": 42,
   "metadata": {
    "colab": {
     "base_uri": "https://localhost:8080/",
     "height": 35
    },
    "colab_type": "code",
    "id": "V409bt_Hj11-",
    "outputId": "c4d33f37-50a9-4102-b985-d14f4ab5f137"
   },
   "outputs": [
    {
     "data": {
      "text/plain": [
       "(462740, 14)"
      ]
     },
     "execution_count": 42,
     "metadata": {},
     "output_type": "execute_result"
    }
   ],
   "source": [
    "#Add the client data\n",
    "data_with_client = pd.merge(left = sales, right = clean_client, left_on=\"client_id\", right_on=\"client_id\", how='left')\n",
    "\n",
    "#Add the product data\n",
    "data_with_product = pd.merge(left = data_with_client, right = product, left_on=\"product_id\", right_on=\"product_id\", how='left')\n",
    "\n",
    "#Add the town data\n",
    "data = pd.merge(left = data_with_product, right = town, left_on=\"sales_depot_id\", right_on=\"sales_depot_id\", how='left')\n",
    "\n",
    "data.shape"
   ]
  },
  {
   "cell_type": "markdown",
   "metadata": {},
   "source": [
    "# Part 2: Exploratory Data Analysis\n",
    "\n",
    "In this section, we will make a serie of exploratory visualizations and interpret them.\n",
    "We will ensure to create pipelines for repeatability\n",
    "\n"
   ]
  },
  {
   "cell_type": "markdown",
   "metadata": {},
   "source": [
    "Some assumptions:\n",
    "- Demand = Sales\n",
    "- Costs = return"
   ]
  },
  {
   "cell_type": "code",
   "execution_count": 43,
   "metadata": {},
   "outputs": [
    {
     "name": "stdout",
     "output_type": "stream",
     "text": [
      " The number of unique depot is  220 \n",
      " The number of unique sales channel is  7 \n",
      " The number of unique route is  1001 \n",
      " The number of unique client is  530 \n",
      " The number of unique product is  954 \n",
      " The number of unique states is  33\n"
     ]
    }
   ],
   "source": [
    "print(\" The number of unique depot is \",len(data.sales_depot_id.unique()),\"\\n The number of unique sales channel is \",len(data.sales_channel_id.unique()) \\\n",
    "      ,\"\\n The number of unique route is \",len(data.route_id.unique()),\"\\n The number of unique client is \",len(data.client_id.unique())\\\n",
    "       ,\"\\n The number of unique product is \",len(data.product_id.unique()),\"\\n The number of unique states is \",len(data.State.unique()))"
   ]
  },
  {
   "cell_type": "code",
   "execution_count": 44,
   "metadata": {},
   "outputs": [],
   "source": [
    "#Create the profit per transaction column\n",
    "data[\"profit\"] = data['sales'] - data['return']"
   ]
  },
  {
   "cell_type": "markdown",
   "metadata": {},
   "source": [
    "Create KPI of the business"
   ]
  },
  {
   "cell_type": "code",
   "execution_count": 45,
   "metadata": {},
   "outputs": [
    {
     "name": "stdout",
     "output_type": "stream",
     "text": [
      "The total revenue of the company is  392633342  and the total profit is  381203843  which yields a profitability of  97 %\n"
     ]
    }
   ],
   "source": [
    "total_revenue = round(sum(data.sales))\n",
    "total_profit = round(sum(data.profit))\n",
    "profitability = round((total_profit / total_revenue)*100)  # share of profit over the revenue\n",
    "\n",
    "print(\"The total revenue of the company is \",total_revenue,\" and the total profit is \",total_profit,\" which yields a profitability of \",profitability,\"%\")"
   ]
  },
  {
   "cell_type": "code",
   "execution_count": null,
   "metadata": {},
   "outputs": [],
   "source": []
  },
  {
   "cell_type": "code",
   "execution_count": 46,
   "metadata": {},
   "outputs": [],
   "source": [
    "# Funtion to Add column to grouped dataset \n",
    "def add_return_on_sale(data):\n",
    "    data[\"return_on_sale\"] = round((data[\"profit\"]/data[\"sales\"])*100, 2)\n",
    "\n",
    "def add_return_rate(data):\n",
    "    data[\"return_rate\"] = round((data.returns_unit/(data.returns_unit + data.sales_unit))*100, 2)\n",
    "    \n",
    "def add_share_revenue(data):\n",
    "    data[\"share_revenue\"] = round((data.sales/total_revenue)*100, 3)\n",
    "    \n"
   ]
  },
  {
   "cell_type": "markdown",
   "metadata": {},
   "source": [
    "## Study channel ##"
   ]
  },
  {
   "cell_type": "code",
   "execution_count": 47,
   "metadata": {},
   "outputs": [],
   "source": [
    "grouped = data.groupby(\"sales_channel_id\")\n",
    "channel = grouped.sum()\n",
    "add_return_rate(channel)\n",
    "add_return_on_sale(channel)\n",
    "add_share_revenue(channel)\n",
    "#channel          #cumulated results per channel"
   ]
  },
  {
   "cell_type": "code",
   "execution_count": 48,
   "metadata": {},
   "outputs": [
    {
     "data": {
      "text/html": [
       "<div>\n",
       "<style scoped>\n",
       "    .dataframe tbody tr th:only-of-type {\n",
       "        vertical-align: middle;\n",
       "    }\n",
       "\n",
       "    .dataframe tbody tr th {\n",
       "        vertical-align: top;\n",
       "    }\n",
       "\n",
       "    .dataframe thead th {\n",
       "        text-align: right;\n",
       "    }\n",
       "</style>\n",
       "<table border=\"1\" class=\"dataframe\">\n",
       "  <thead>\n",
       "    <tr style=\"text-align: right;\">\n",
       "      <th></th>\n",
       "      <th>return_rate</th>\n",
       "      <th>return_on_sale</th>\n",
       "      <th>share_revenue</th>\n",
       "    </tr>\n",
       "    <tr>\n",
       "      <th>sales_channel_id</th>\n",
       "      <th></th>\n",
       "      <th></th>\n",
       "      <th></th>\n",
       "    </tr>\n",
       "  </thead>\n",
       "  <tbody>\n",
       "    <tr>\n",
       "      <th>1</th>\n",
       "      <td>0.45</td>\n",
       "      <td>99.54</td>\n",
       "      <td>8.088</td>\n",
       "    </tr>\n",
       "    <tr>\n",
       "      <th>2</th>\n",
       "      <td>1.43</td>\n",
       "      <td>98.62</td>\n",
       "      <td>47.785</td>\n",
       "    </tr>\n",
       "    <tr>\n",
       "      <th>4</th>\n",
       "      <td>0.29</td>\n",
       "      <td>99.64</td>\n",
       "      <td>0.075</td>\n",
       "    </tr>\n",
       "    <tr>\n",
       "      <th>5</th>\n",
       "      <td>5.86</td>\n",
       "      <td>94.94</td>\n",
       "      <td>43.756</td>\n",
       "    </tr>\n",
       "    <tr>\n",
       "      <th>7</th>\n",
       "      <td>0.01</td>\n",
       "      <td>99.99</td>\n",
       "      <td>0.144</td>\n",
       "    </tr>\n",
       "    <tr>\n",
       "      <th>8</th>\n",
       "      <td>0.00</td>\n",
       "      <td>100.00</td>\n",
       "      <td>0.046</td>\n",
       "    </tr>\n",
       "    <tr>\n",
       "      <th>11</th>\n",
       "      <td>0.42</td>\n",
       "      <td>99.56</td>\n",
       "      <td>0.105</td>\n",
       "    </tr>\n",
       "  </tbody>\n",
       "</table>\n",
       "</div>"
      ],
      "text/plain": [
       "                  return_rate  return_on_sale  share_revenue\n",
       "sales_channel_id                                            \n",
       "1                        0.45           99.54          8.088\n",
       "2                        1.43           98.62         47.785\n",
       "4                        0.29           99.64          0.075\n",
       "5                        5.86           94.94         43.756\n",
       "7                        0.01           99.99          0.144\n",
       "8                        0.00          100.00          0.046\n",
       "11                       0.42           99.56          0.105"
      ]
     },
     "execution_count": 48,
     "metadata": {},
     "output_type": "execute_result"
    }
   ],
   "source": [
    "channel[[\"return_rate\", \"return_on_sale\", \"share_revenue\"]]"
   ]
  },
  {
   "cell_type": "markdown",
   "metadata": {},
   "source": [
    "Channel 2,5 and 1 are the most prolific channels since they generate respectively **48%**, **44%** and **8%** of the revenue. However we note on channel 5 the highest percent of return over all the channels"
   ]
  },
  {
   "cell_type": "code",
   "execution_count": 49,
   "metadata": {},
   "outputs": [],
   "source": [
    "#We separate the categories in 2\n",
    "big_channel = channel[channel.index.isin([1,2,5])]\n",
    "small_channel = channel[channel.index.isin([4,7,8,11])]"
   ]
  },
  {
   "cell_type": "code",
   "execution_count": 50,
   "metadata": {},
   "outputs": [],
   "source": [
    "def plot_channel(data): \n",
    "    fig, ax = plt.subplots(nrows=1, ncols=1, figsize=(6,5))\n",
    "    sns.barplot(x=data.index, y=\"sales\", data=data, ax=ax, color = \"m\")\n",
    "    sns.barplot(x=data.index, y=\"profit\", data=data, ax=ax, color= '#EE6666')\n",
    "\n",
    "\n",
    "    ax.set_title('Sales and profit per channel')\n",
    "    ax.set_ylabel(\"sales\")\n",
    "    ax.set_xlabel(\"Channel\")\n",
    "#     ax.legend()\n",
    "    plt.tight_layout()"
   ]
  },
  {
   "cell_type": "code",
   "execution_count": 51,
   "metadata": {},
   "outputs": [
    {
     "data": {
      "image/png": "[encoded data removed]",
      "text/plain": [
       "<Figure size 432x360 with 1 Axes>"
      ]
     },
     "metadata": {},
     "output_type": "display_data"
    }
   ],
   "source": [
    "plot_channel(big_channel)"
   ]
  },
  {
   "cell_type": "code",
   "execution_count": 52,
   "metadata": {},
   "outputs": [
    {
     "data": {
      "image/png": "[encoded data removed]",
      "text/plain": [
       "<Figure size 432x360 with 1 Axes>"
      ]
     },
     "metadata": {},
     "output_type": "display_data"
    }
   ],
   "source": [
    "plot_channel(small_channel)"
   ]
  },
  {
   "cell_type": "markdown",
   "metadata": {},
   "source": [
    "The \"small channel\" generate 1000 less revenue than the big ones however they a profitable, they can open new markets. The most prolific one is channel 7"
   ]
  },
  {
   "cell_type": "code",
   "execution_count": 53,
   "metadata": {},
   "outputs": [
    {
     "data": {
      "image/png": "[encoded data removed]",
      "text/plain": [
       "<Figure size 576x216 with 1 Axes>"
      ]
     },
     "metadata": {},
     "output_type": "display_data"
    }
   ],
   "source": [
    "fig, ax = plt.subplots(figsize=(8,3))\n",
    "sns.countplot(x='sales_channel_id', data=data, ax=ax)\n",
    "ax.set_title('Number of deliveries per channel')\n",
    "ax.set_ylabel(\"number of deliveries\")\n",
    "ax.set_xlabel(\"Channel\")\n",
    "\n",
    "plt.tight_layout()"
   ]
  },
  {
   "cell_type": "code",
   "execution_count": 54,
   "metadata": {},
   "outputs": [
    {
     "data": {
      "image/png": "[encoded data removed]",
      "text/plain": [
       "<Figure size 576x216 with 1 Axes>"
      ]
     },
     "metadata": {},
     "output_type": "display_data"
    }
   ],
   "source": [
    "fig, ax = plt.subplots(figsize=(8,3))\n",
    "sns.barplot(x= channel.index, y='share_revenue', data=channel, ax=ax)\n",
    "ax.set_title('Share of revenue per channel')\n",
    "ax.set_ylabel(\"share of revenue\")\n",
    "ax.set_xlabel(\"Channel\")\n",
    "\n",
    "plt.tight_layout()"
   ]
  },
  {
   "cell_type": "markdown",
   "metadata": {},
   "source": [
    "> **Conclusion**\n",
    "\n",
    "There are 3 majors channels of distribution that generate more than 99% of the revenue of the company. Precisely 1,2 and 5. There are some improvements to be made on channel 5 given the fact that is has the lowest rentability.\n",
    "<br>If the problem is about the `expiration of the product`, we can modify our channel to **give longer lifespan** to our products.\n",
    "<br>According to **Eric Kayser (fourth generation baker in France)**, the best way to store bread (particularly the artisanal variety) is **to wrap it in a dish towel or paper bag and keep it in a dry place**. All breads, from boules to sandwich loaves, should be stored the same way. However, Kayser says, **the bigger the bread, the longer the shelf life**: \"A baguette, for example, will be good if you eat it quickly, within about eight hours from the time it was baked. But some of our customers say they can keep our Tourte de Meule for 10 days.\" \n",
    "Thus, we should prioritize on this channel products that can be stored in this way.\n"
   ]
  },
  {
   "cell_type": "code",
   "execution_count": 55,
   "metadata": {},
   "outputs": [],
   "source": [
    "# Here is a link of the interview of Eric Kayser\n",
    "#https://www.tastingtable.com/dine/national/how-to-keep-bread-fresh-how-to-freeze-bread"
   ]
  },
  {
   "cell_type": "code",
   "execution_count": null,
   "metadata": {},
   "outputs": [],
   "source": []
  },
  {
   "cell_type": "markdown",
   "metadata": {},
   "source": [
    "## Study return ##"
   ]
  },
  {
   "cell_type": "code",
   "execution_count": 56,
   "metadata": {},
   "outputs": [
    {
     "data": {
      "text/html": [
       "<div>\n",
       "<style scoped>\n",
       "    .dataframe tbody tr th:only-of-type {\n",
       "        vertical-align: middle;\n",
       "    }\n",
       "\n",
       "    .dataframe tbody tr th {\n",
       "        vertical-align: top;\n",
       "    }\n",
       "\n",
       "    .dataframe thead th {\n",
       "        text-align: right;\n",
       "    }\n",
       "</style>\n",
       "<table border=\"1\" class=\"dataframe\">\n",
       "  <thead>\n",
       "    <tr style=\"text-align: right;\">\n",
       "      <th></th>\n",
       "      <th>sales_depot_id</th>\n",
       "      <th>sales_channel_id</th>\n",
       "      <th>route_id</th>\n",
       "      <th>client_id</th>\n",
       "      <th>product_id</th>\n",
       "      <th>sales_unit</th>\n",
       "      <th>sales</th>\n",
       "      <th>returns_unit</th>\n",
       "      <th>return</th>\n",
       "      <th>profit</th>\n",
       "      <th>return_rate</th>\n",
       "      <th>return_on_sale</th>\n",
       "    </tr>\n",
       "    <tr>\n",
       "      <th>week_number</th>\n",
       "      <th></th>\n",
       "      <th></th>\n",
       "      <th></th>\n",
       "      <th></th>\n",
       "      <th></th>\n",
       "      <th></th>\n",
       "      <th></th>\n",
       "      <th></th>\n",
       "      <th></th>\n",
       "      <th></th>\n",
       "      <th></th>\n",
       "      <th></th>\n",
       "    </tr>\n",
       "  </thead>\n",
       "  <tbody>\n",
       "    <tr>\n",
       "      <th>3</th>\n",
       "      <td>203349648</td>\n",
       "      <td>174257</td>\n",
       "      <td>137433463</td>\n",
       "      <td>67825817492</td>\n",
       "      <td>1932053124</td>\n",
       "      <td>5141919</td>\n",
       "      <td>5.632870e+07</td>\n",
       "      <td>178162</td>\n",
       "      <td>1633115.60</td>\n",
       "      <td>5.469558e+07</td>\n",
       "      <td>3.35</td>\n",
       "      <td>97.10</td>\n",
       "    </tr>\n",
       "    <tr>\n",
       "      <th>4</th>\n",
       "      <td>199166446</td>\n",
       "      <td>173532</td>\n",
       "      <td>139556705</td>\n",
       "      <td>67603806984</td>\n",
       "      <td>1927859495</td>\n",
       "      <td>5373205</td>\n",
       "      <td>5.918766e+07</td>\n",
       "      <td>177559</td>\n",
       "      <td>1665212.76</td>\n",
       "      <td>5.752245e+07</td>\n",
       "      <td>3.20</td>\n",
       "      <td>97.19</td>\n",
       "    </tr>\n",
       "    <tr>\n",
       "      <th>5</th>\n",
       "      <td>196908410</td>\n",
       "      <td>170934</td>\n",
       "      <td>138459615</td>\n",
       "      <td>67230645116</td>\n",
       "      <td>1907923120</td>\n",
       "      <td>5155586</td>\n",
       "      <td>5.680911e+07</td>\n",
       "      <td>162281</td>\n",
       "      <td>1574994.76</td>\n",
       "      <td>5.523411e+07</td>\n",
       "      <td>3.05</td>\n",
       "      <td>97.23</td>\n",
       "    </tr>\n",
       "    <tr>\n",
       "      <th>6</th>\n",
       "      <td>199843943</td>\n",
       "      <td>169377</td>\n",
       "      <td>133785425</td>\n",
       "      <td>65502652857</td>\n",
       "      <td>1872833431</td>\n",
       "      <td>4830435</td>\n",
       "      <td>5.410710e+07</td>\n",
       "      <td>176552</td>\n",
       "      <td>1638710.09</td>\n",
       "      <td>5.246839e+07</td>\n",
       "      <td>3.53</td>\n",
       "      <td>96.97</td>\n",
       "    </tr>\n",
       "    <tr>\n",
       "      <th>7</th>\n",
       "      <td>204350639</td>\n",
       "      <td>170033</td>\n",
       "      <td>134473944</td>\n",
       "      <td>66343010832</td>\n",
       "      <td>1888299452</td>\n",
       "      <td>5031443</td>\n",
       "      <td>5.544858e+07</td>\n",
       "      <td>168272</td>\n",
       "      <td>1599350.91</td>\n",
       "      <td>5.384923e+07</td>\n",
       "      <td>3.24</td>\n",
       "      <td>97.12</td>\n",
       "    </tr>\n",
       "    <tr>\n",
       "      <th>8</th>\n",
       "      <td>197374016</td>\n",
       "      <td>170782</td>\n",
       "      <td>135279049</td>\n",
       "      <td>65739535465</td>\n",
       "      <td>1893475909</td>\n",
       "      <td>4996433</td>\n",
       "      <td>5.529200e+07</td>\n",
       "      <td>186235</td>\n",
       "      <td>1738505.24</td>\n",
       "      <td>5.355350e+07</td>\n",
       "      <td>3.59</td>\n",
       "      <td>96.86</td>\n",
       "    </tr>\n",
       "    <tr>\n",
       "      <th>9</th>\n",
       "      <td>191817033</td>\n",
       "      <td>168555</td>\n",
       "      <td>133356430</td>\n",
       "      <td>64350996981</td>\n",
       "      <td>1868901728</td>\n",
       "      <td>5051711</td>\n",
       "      <td>5.546020e+07</td>\n",
       "      <td>418227</td>\n",
       "      <td>1579608.93</td>\n",
       "      <td>5.388059e+07</td>\n",
       "      <td>7.65</td>\n",
       "      <td>97.15</td>\n",
       "    </tr>\n",
       "  </tbody>\n",
       "</table>\n",
       "</div>"
      ],
      "text/plain": [
       "             sales_depot_id  sales_channel_id   route_id    client_id  \\\n",
       "week_number                                                             \n",
       "3                 203349648            174257  137433463  67825817492   \n",
       "4                 199166446            173532  139556705  67603806984   \n",
       "5                 196908410            170934  138459615  67230645116   \n",
       "6                 199843943            169377  133785425  65502652857   \n",
       "7                 204350639            170033  134473944  66343010832   \n",
       "8                 197374016            170782  135279049  65739535465   \n",
       "9                 191817033            168555  133356430  64350996981   \n",
       "\n",
       "             product_id  sales_unit         sales  returns_unit      return  \\\n",
       "week_number                                                                   \n",
       "3            1932053124     5141919  5.632870e+07        178162  1633115.60   \n",
       "4            1927859495     5373205  5.918766e+07        177559  1665212.76   \n",
       "5            1907923120     5155586  5.680911e+07        162281  1574994.76   \n",
       "6            1872833431     4830435  5.410710e+07        176552  1638710.09   \n",
       "7            1888299452     5031443  5.544858e+07        168272  1599350.91   \n",
       "8            1893475909     4996433  5.529200e+07        186235  1738505.24   \n",
       "9            1868901728     5051711  5.546020e+07        418227  1579608.93   \n",
       "\n",
       "                   profit  return_rate  return_on_sale  \n",
       "week_number                                             \n",
       "3            5.469558e+07         3.35           97.10  \n",
       "4            5.752245e+07         3.20           97.19  \n",
       "5            5.523411e+07         3.05           97.23  \n",
       "6            5.246839e+07         3.53           96.97  \n",
       "7            5.384923e+07         3.24           97.12  \n",
       "8            5.355350e+07         3.59           96.86  \n",
       "9            5.388059e+07         7.65           97.15  "
      ]
     },
     "execution_count": 56,
     "metadata": {},
     "output_type": "execute_result"
    }
   ],
   "source": [
    "grouped = data.groupby(\"week_number\")\n",
    "week = grouped.sum()\n",
    "add_return_rate(week)\n",
    "add_return_on_sale(week)\n",
    "week          #cumulated results per week "
   ]
  },
  {
   "cell_type": "code",
   "execution_count": 57,
   "metadata": {
    "jupyter": {
     "source_hidden": true
    }
   },
   "outputs": [
    {
     "data": {
      "image/png": "[encoded data removed]",
      "text/plain": [
       "<Figure size 720x432 with 2 Axes>"
      ]
     },
     "metadata": {},
     "output_type": "display_data"
    }
   ],
   "source": [
    "fig, ax = plt.subplots(nrows=1, ncols=2, figsize=(10,6))\n",
    "sns.lineplot(x=week.index, y=\"sales_unit\", data=week, ax=ax[0])\n",
    "sns.lineplot(x=week.index, y=\"return_rate\", data=week, ax=ax[1])\n",
    "ax[0].set_title('Demand per week')\n",
    "ax[0].set_ylabel(\"Sales unit\")\n",
    "ax[0].set_xlabel(\"Week\")\n",
    "\n",
    "ax[1].set_title('Percentage returns per week')\n",
    "ax[1].set_ylabel(\"Percentage Returns\")\n",
    "ax[1].set_xlabel(\"Week\")\n",
    "plt.style.context('bmh')\n",
    "plt.tight_layout()"
   ]
  },
  {
   "cell_type": "markdown",
   "metadata": {},
   "source": [
    "We can take the value 4% return as an indicator of the limit of the acceptable return rate"
   ]
  },
  {
   "cell_type": "markdown",
   "metadata": {},
   "source": [
    "> **Conclusion**\n",
    "\n",
    "We oberve that after the first few weeks, our demand become stable. Returns have the same trend despite a spike at week 9\n",
    "We can thus set **4%** as a fair indicator of green in terms of returns\n"
   ]
  },
  {
   "cell_type": "code",
   "execution_count": null,
   "metadata": {},
   "outputs": [],
   "source": []
  },
  {
   "cell_type": "markdown",
   "metadata": {},
   "source": [
    "### Study the clients ###"
   ]
  },
  {
   "cell_type": "markdown",
   "metadata": {},
   "source": [
    "No we can never blacklist a client, we have to adjust our supply to limit the returns"
   ]
  },
  {
   "cell_type": "code",
   "execution_count": 82,
   "metadata": {},
   "outputs": [],
   "source": [
    "grouped = data.groupby(\"client_unique_name\")\n",
    "clients = grouped.sum()\n",
    "clients.drop(\"NO IDENTIFICADO\", axis=0, inplace = True)\n",
    "add_return_on_sale(clients)\n",
    "add_return_rate(clients)\n",
    "add_share_revenue(clients)\n",
    "clients.sort_values([\"return_rate\"], ascending=False, inplace=True)"
   ]
  },
  {
   "cell_type": "code",
   "execution_count": 83,
   "metadata": {},
   "outputs": [
    {
     "data": {
      "text/html": [
       "<div>\n",
       "<style scoped>\n",
       "    .dataframe tbody tr th:only-of-type {\n",
       "        vertical-align: middle;\n",
       "    }\n",
       "\n",
       "    .dataframe tbody tr th {\n",
       "        vertical-align: top;\n",
       "    }\n",
       "\n",
       "    .dataframe thead th {\n",
       "        text-align: right;\n",
       "    }\n",
       "</style>\n",
       "<table border=\"1\" class=\"dataframe\">\n",
       "  <thead>\n",
       "    <tr style=\"text-align: right;\">\n",
       "      <th></th>\n",
       "      <th>week_number</th>\n",
       "      <th>sales_depot_id</th>\n",
       "      <th>sales_channel_id</th>\n",
       "      <th>route_id</th>\n",
       "      <th>client_id</th>\n",
       "      <th>product_id</th>\n",
       "      <th>sales_unit</th>\n",
       "      <th>sales</th>\n",
       "      <th>returns_unit</th>\n",
       "      <th>return</th>\n",
       "      <th>profit</th>\n",
       "      <th>return_on_sale</th>\n",
       "      <th>return_rate</th>\n",
       "      <th>share_revenue</th>\n",
       "    </tr>\n",
       "    <tr>\n",
       "      <th>client_unique_name</th>\n",
       "      <th></th>\n",
       "      <th></th>\n",
       "      <th></th>\n",
       "      <th></th>\n",
       "      <th></th>\n",
       "      <th></th>\n",
       "      <th></th>\n",
       "      <th></th>\n",
       "      <th></th>\n",
       "      <th></th>\n",
       "      <th></th>\n",
       "      <th></th>\n",
       "      <th></th>\n",
       "      <th></th>\n",
       "    </tr>\n",
       "  </thead>\n",
       "  <tbody>\n",
       "    <tr>\n",
       "      <th>SOMAKI DE MEXICO 8644</th>\n",
       "      <td>7451</td>\n",
       "      <td>1577136</td>\n",
       "      <td>6180</td>\n",
       "      <td>3720057</td>\n",
       "      <td>773106876</td>\n",
       "      <td>27479259</td>\n",
       "      <td>3527</td>\n",
       "      <td>2.901724e+04</td>\n",
       "      <td>11932</td>\n",
       "      <td>104733.72</td>\n",
       "      <td>-7.571648e+04</td>\n",
       "      <td>-260.94</td>\n",
       "      <td>77.18</td>\n",
       "      <td>0.007</td>\n",
       "    </tr>\n",
       "    <tr>\n",
       "      <th>CHIHUAHUA REMISION</th>\n",
       "      <td>10043</td>\n",
       "      <td>6607369</td>\n",
       "      <td>8100</td>\n",
       "      <td>4870495</td>\n",
       "      <td>1057680180</td>\n",
       "      <td>55473452</td>\n",
       "      <td>6118</td>\n",
       "      <td>4.858820e+04</td>\n",
       "      <td>17752</td>\n",
       "      <td>149645.14</td>\n",
       "      <td>-1.010569e+05</td>\n",
       "      <td>-207.99</td>\n",
       "      <td>74.37</td>\n",
       "      <td>0.012</td>\n",
       "    </tr>\n",
       "    <tr>\n",
       "      <th>SAN LUIS POTOSI REMISION</th>\n",
       "      <td>6505</td>\n",
       "      <td>2142174</td>\n",
       "      <td>5415</td>\n",
       "      <td>3254939</td>\n",
       "      <td>707261814</td>\n",
       "      <td>31821549</td>\n",
       "      <td>6704</td>\n",
       "      <td>5.252511e+04</td>\n",
       "      <td>18938</td>\n",
       "      <td>160844.65</td>\n",
       "      <td>-1.083195e+05</td>\n",
       "      <td>-206.22</td>\n",
       "      <td>73.86</td>\n",
       "      <td>0.013</td>\n",
       "    </tr>\n",
       "    <tr>\n",
       "      <th>COMODIN R 4302 AG 2216 CAMPECHE BS</th>\n",
       "      <td>3376</td>\n",
       "      <td>1297152</td>\n",
       "      <td>1152</td>\n",
       "      <td>868893</td>\n",
       "      <td>589821696</td>\n",
       "      <td>22594605</td>\n",
       "      <td>8333</td>\n",
       "      <td>1.254591e+05</td>\n",
       "      <td>8678</td>\n",
       "      <td>134440.89</td>\n",
       "      <td>-8.981790e+03</td>\n",
       "      <td>-7.16</td>\n",
       "      <td>51.01</td>\n",
       "      <td>0.032</td>\n",
       "    </tr>\n",
       "    <tr>\n",
       "      <th>JALISCO REMISION</th>\n",
       "      <td>15692</td>\n",
       "      <td>5021130</td>\n",
       "      <td>13110</td>\n",
       "      <td>7880377</td>\n",
       "      <td>1711772700</td>\n",
       "      <td>78051566</td>\n",
       "      <td>490617</td>\n",
       "      <td>4.018867e+06</td>\n",
       "      <td>59664</td>\n",
       "      <td>495570.18</td>\n",
       "      <td>3.523296e+06</td>\n",
       "      <td>87.67</td>\n",
       "      <td>10.84</td>\n",
       "      <td>1.024</td>\n",
       "    </tr>\n",
       "    <tr>\n",
       "      <th>PUEBLA REMISION</th>\n",
       "      <td>744333</td>\n",
       "      <td>254950746</td>\n",
       "      <td>620295</td>\n",
       "      <td>373304975</td>\n",
       "      <td>81057421302</td>\n",
       "      <td>3670494633</td>\n",
       "      <td>18650001</td>\n",
       "      <td>1.546623e+08</td>\n",
       "      <td>1131794</td>\n",
       "      <td>7367474.15</td>\n",
       "      <td>1.472948e+08</td>\n",
       "      <td>95.24</td>\n",
       "      <td>5.72</td>\n",
       "      <td>39.391</td>\n",
       "    </tr>\n",
       "    <tr>\n",
       "      <th>QUERETARO DE ARTEAGA REMISION</th>\n",
       "      <td>31691</td>\n",
       "      <td>6420260</td>\n",
       "      <td>26530</td>\n",
       "      <td>15961275</td>\n",
       "      <td>3465024934</td>\n",
       "      <td>160330573</td>\n",
       "      <td>909671</td>\n",
       "      <td>7.697623e+06</td>\n",
       "      <td>16642</td>\n",
       "      <td>143066.78</td>\n",
       "      <td>7.554557e+06</td>\n",
       "      <td>98.14</td>\n",
       "      <td>1.80</td>\n",
       "      <td>1.961</td>\n",
       "    </tr>\n",
       "  </tbody>\n",
       "</table>\n",
       "</div>"
      ],
      "text/plain": [
       "                                    week_number  sales_depot_id  \\\n",
       "client_unique_name                                                \n",
       "SOMAKI DE MEXICO 8644                      7451         1577136   \n",
       "CHIHUAHUA REMISION                        10043         6607369   \n",
       "SAN LUIS POTOSI REMISION                   6505         2142174   \n",
       "COMODIN R 4302 AG 2216 CAMPECHE BS         3376         1297152   \n",
       "JALISCO REMISION                          15692         5021130   \n",
       "PUEBLA REMISION                          744333       254950746   \n",
       "QUERETARO DE ARTEAGA REMISION             31691         6420260   \n",
       "\n",
       "                                    sales_channel_id   route_id    client_id  \\\n",
       "client_unique_name                                                             \n",
       "SOMAKI DE MEXICO 8644                           6180    3720057    773106876   \n",
       "CHIHUAHUA REMISION                              8100    4870495   1057680180   \n",
       "SAN LUIS POTOSI REMISION                        5415    3254939    707261814   \n",
       "COMODIN R 4302 AG 2216 CAMPECHE BS              1152     868893    589821696   \n",
       "JALISCO REMISION                               13110    7880377   1711772700   \n",
       "PUEBLA REMISION                               620295  373304975  81057421302   \n",
       "QUERETARO DE ARTEAGA REMISION                  26530   15961275   3465024934   \n",
       "\n",
       "                                    product_id  sales_unit         sales  \\\n",
       "client_unique_name                                                         \n",
       "SOMAKI DE MEXICO 8644                 27479259        3527  2.901724e+04   \n",
       "CHIHUAHUA REMISION                    55473452        6118  4.858820e+04   \n",
       "SAN LUIS POTOSI REMISION              31821549        6704  5.252511e+04   \n",
       "COMODIN R 4302 AG 2216 CAMPECHE BS    22594605        8333  1.254591e+05   \n",
       "JALISCO REMISION                      78051566      490617  4.018867e+06   \n",
       "PUEBLA REMISION                     3670494633    18650001  1.546623e+08   \n",
       "QUERETARO DE ARTEAGA REMISION        160330573      909671  7.697623e+06   \n",
       "\n",
       "                                    returns_unit      return        profit  \\\n",
       "client_unique_name                                                           \n",
       "SOMAKI DE MEXICO 8644                      11932   104733.72 -7.571648e+04   \n",
       "CHIHUAHUA REMISION                         17752   149645.14 -1.010569e+05   \n",
       "SAN LUIS POTOSI REMISION                   18938   160844.65 -1.083195e+05   \n",
       "COMODIN R 4302 AG 2216 CAMPECHE BS          8678   134440.89 -8.981790e+03   \n",
       "JALISCO REMISION                           59664   495570.18  3.523296e+06   \n",
       "PUEBLA REMISION                          1131794  7367474.15  1.472948e+08   \n",
       "QUERETARO DE ARTEAGA REMISION              16642   143066.78  7.554557e+06   \n",
       "\n",
       "                                    return_on_sale  return_rate  share_revenue  \n",
       "client_unique_name                                                              \n",
       "SOMAKI DE MEXICO 8644                      -260.94        77.18          0.007  \n",
       "CHIHUAHUA REMISION                         -207.99        74.37          0.012  \n",
       "SAN LUIS POTOSI REMISION                   -206.22        73.86          0.013  \n",
       "COMODIN R 4302 AG 2216 CAMPECHE BS           -7.16        51.01          0.032  \n",
       "JALISCO REMISION                             87.67        10.84          1.024  \n",
       "PUEBLA REMISION                              95.24         5.72         39.391  \n",
       "QUERETARO DE ARTEAGA REMISION                98.14         1.80          1.961  "
      ]
     },
     "execution_count": 83,
     "metadata": {},
     "output_type": "execute_result"
    }
   ],
   "source": [
    "a = clients[clients[\"return\"] > 100000]\n",
    "a"
   ]
  },
  {
   "cell_type": "code",
   "execution_count": 84,
   "metadata": {},
   "outputs": [
    {
     "name": "stdout",
     "output_type": "stream",
     "text": [
      "['SOMAKI DE MEXICO 8644', 'CHIHUAHUA REMISION', 'SAN LUIS POTOSI REMISION', 'COMODIN R 4302 AG 2216 CAMPECHE BS', 'JALISCO REMISION', 'PUEBLA REMISION', 'QUERETARO DE ARTEAGA REMISION']\n"
     ]
    }
   ],
   "source": [
    "premium_clients = list(a.index)\n",
    "print(premium_clients)"
   ]
  },
  {
   "cell_type": "markdown",
   "metadata": {},
   "source": [
    "> **Conclusion**\n",
    "\n",
    "The variable `premium_clients` is a list of our best suppliers given the number of units sold we can assume a good relationship with the customer. Thus, a good solution to edge from the risk of returns is **to negotiate contracts of constant deliveries to avoid returns**.\n",
    "<br> For the other clients and deliveries in the further lines we will try to find an estimate of the distribution of the demand "
   ]
  },
  {
   "cell_type": "code",
   "execution_count": null,
   "metadata": {},
   "outputs": [],
   "source": []
  },
  {
   "cell_type": "markdown",
   "metadata": {},
   "source": [
    "### Study the products ###"
   ]
  },
  {
   "cell_type": "markdown",
   "metadata": {},
   "source": [
    "We create here the variable `demand` which is for each product the number of sales per week "
   ]
  },
  {
   "cell_type": "code",
   "execution_count": 61,
   "metadata": {},
   "outputs": [],
   "source": [
    "def demand(data, first_week, last_week):   #Input the data, the number of the first week and the number of the last week \n",
    "    weeks = list(range(first_week,last_week+1))\n",
    "    copy = data.copy()\n",
    "    for i in weeks:\n",
    "        week = \"week_\"+str(i)\n",
    "        copy.loc[copy['week_number'] == i, week] =  copy[\"sales_unit\"]  #Number of sales corresponding to a given week \n",
    "    copy.fillna(0, inplace=True)  #filling the blanks of the wrong week on the right column\n",
    "    grouped = copy.groupby(\"product_name\")\n",
    "    copy = grouped.sum()\n",
    "    copy = copy.drop([\"week_number\", \"sales_depot_id\", \"sales_channel_id\", \"route_id\", \"client_id\", \"product_id\", \"sales_unit\", \"sales\",\\\n",
    "               \"returns_unit\", \"return\", \"profit\"], axis=1) \n",
    "    return copy"
   ]
  },
  {
   "cell_type": "code",
   "execution_count": 62,
   "metadata": {},
   "outputs": [],
   "source": [
    "demand = demand(data, 3,9)"
   ]
  },
  {
   "cell_type": "code",
   "execution_count": 63,
   "metadata": {},
   "outputs": [
    {
     "data": {
      "text/html": [
       "<div>\n",
       "<style scoped>\n",
       "    .dataframe tbody tr th:only-of-type {\n",
       "        vertical-align: middle;\n",
       "    }\n",
       "\n",
       "    .dataframe tbody tr th {\n",
       "        vertical-align: top;\n",
       "    }\n",
       "\n",
       "    .dataframe thead th {\n",
       "        text-align: right;\n",
       "    }\n",
       "</style>\n",
       "<table border=\"1\" class=\"dataframe\">\n",
       "  <thead>\n",
       "    <tr style=\"text-align: right;\">\n",
       "      <th>product_name</th>\n",
       "      <th>7 Granos 680g MTA ORO 43160</th>\n",
       "      <th>7 Granos 680g ORO 714</th>\n",
       "      <th>ActiFresh Menta 6p 27g RIC 35631</th>\n",
       "      <th>ActiFresh Yerbabuena 6p 27g RIC 35632</th>\n",
       "      <th>Agua Ciel Jamaica 12p 600ml CC 30378</th>\n",
       "      <th>Agua Ciel Jamaica 24p 600ml CC 30379</th>\n",
       "      <th>Agua Ciel Jamaica 600ml CC 49735</th>\n",
       "      <th>Agua Ciel Limon 12p 600ml CC 30380</th>\n",
       "      <th>Agua Ciel Limon 24p 600ml CC 30381</th>\n",
       "      <th>Agua Ciel Limon 600ml CC 49736</th>\n",
       "      <th>...</th>\n",
       "      <th>Twinkies Vainilla 2p 76g MTB MLA 36275</th>\n",
       "      <th>Wonder 100pct Ajonjoli 680g SP MTA WON 43359</th>\n",
       "      <th>Wonder 100pct Ajonjoli 680g SP WON 4468</th>\n",
       "      <th>Wonder 100pct con Ajonjoli 567g MTA WON 35145</th>\n",
       "      <th>Wonder 100pct con Ajonjoli 567g WON 35144</th>\n",
       "      <th>Wonder 100pct gde 680g SP MTA WON 43339</th>\n",
       "      <th>Wonder 100pct grande 567g MTA WON 35148</th>\n",
       "      <th>Wonder 100pct grande 567g WON 35147</th>\n",
       "      <th>Wonder 100pct mediano 475g MTA WON 43131</th>\n",
       "      <th>Wonder 100pct mediano 475g WON 106</th>\n",
       "    </tr>\n",
       "  </thead>\n",
       "  <tbody>\n",
       "    <tr>\n",
       "      <th>week_3</th>\n",
       "      <td>8207.0</td>\n",
       "      <td>76.0</td>\n",
       "      <td>4511.0</td>\n",
       "      <td>4120.0</td>\n",
       "      <td>201.0</td>\n",
       "      <td>24.0</td>\n",
       "      <td>5737.0</td>\n",
       "      <td>215.0</td>\n",
       "      <td>34.0</td>\n",
       "      <td>5694.0</td>\n",
       "      <td>...</td>\n",
       "      <td>23.0</td>\n",
       "      <td>0.0</td>\n",
       "      <td>0.0</td>\n",
       "      <td>54202.0</td>\n",
       "      <td>2618.0</td>\n",
       "      <td>0.0</td>\n",
       "      <td>9911.0</td>\n",
       "      <td>669.0</td>\n",
       "      <td>2414.0</td>\n",
       "      <td>210.0</td>\n",
       "    </tr>\n",
       "    <tr>\n",
       "      <th>week_4</th>\n",
       "      <td>8769.0</td>\n",
       "      <td>95.0</td>\n",
       "      <td>4324.0</td>\n",
       "      <td>4715.0</td>\n",
       "      <td>135.0</td>\n",
       "      <td>24.0</td>\n",
       "      <td>5448.0</td>\n",
       "      <td>159.0</td>\n",
       "      <td>36.0</td>\n",
       "      <td>5082.0</td>\n",
       "      <td>...</td>\n",
       "      <td>0.0</td>\n",
       "      <td>0.0</td>\n",
       "      <td>0.0</td>\n",
       "      <td>58159.0</td>\n",
       "      <td>2722.0</td>\n",
       "      <td>0.0</td>\n",
       "      <td>10587.0</td>\n",
       "      <td>798.0</td>\n",
       "      <td>1875.0</td>\n",
       "      <td>197.0</td>\n",
       "    </tr>\n",
       "  </tbody>\n",
       "</table>\n",
       "<p>2 rows × 954 columns</p>\n",
       "</div>"
      ],
      "text/plain": [
       "product_name  7 Granos 680g MTA ORO 43160  7 Granos 680g ORO 714  \\\n",
       "week_3                             8207.0                   76.0   \n",
       "week_4                             8769.0                   95.0   \n",
       "\n",
       "product_name  ActiFresh Menta 6p 27g RIC 35631  \\\n",
       "week_3                                  4511.0   \n",
       "week_4                                  4324.0   \n",
       "\n",
       "product_name  ActiFresh Yerbabuena 6p 27g RIC 35632  \\\n",
       "week_3                                       4120.0   \n",
       "week_4                                       4715.0   \n",
       "\n",
       "product_name  Agua Ciel Jamaica 12p 600ml CC 30378  \\\n",
       "week_3                                       201.0   \n",
       "week_4                                       135.0   \n",
       "\n",
       "product_name  Agua Ciel Jamaica 24p 600ml CC 30379  \\\n",
       "week_3                                        24.0   \n",
       "week_4                                        24.0   \n",
       "\n",
       "product_name  Agua Ciel Jamaica 600ml CC 49735  \\\n",
       "week_3                                  5737.0   \n",
       "week_4                                  5448.0   \n",
       "\n",
       "product_name  Agua Ciel Limon 12p 600ml CC 30380  \\\n",
       "week_3                                     215.0   \n",
       "week_4                                     159.0   \n",
       "\n",
       "product_name  Agua Ciel Limon 24p 600ml CC 30381  \\\n",
       "week_3                                      34.0   \n",
       "week_4                                      36.0   \n",
       "\n",
       "product_name  Agua Ciel Limon 600ml CC 49736  ...  \\\n",
       "week_3                                5694.0  ...   \n",
       "week_4                                5082.0  ...   \n",
       "\n",
       "product_name  Twinkies Vainilla 2p 76g MTB MLA 36275  \\\n",
       "week_3                                          23.0   \n",
       "week_4                                           0.0   \n",
       "\n",
       "product_name  Wonder 100pct Ajonjoli 680g SP MTA WON 43359  \\\n",
       "week_3                                                 0.0   \n",
       "week_4                                                 0.0   \n",
       "\n",
       "product_name  Wonder 100pct Ajonjoli 680g SP WON 4468  \\\n",
       "week_3                                            0.0   \n",
       "week_4                                            0.0   \n",
       "\n",
       "product_name  Wonder 100pct con Ajonjoli 567g MTA WON 35145  \\\n",
       "week_3                                              54202.0   \n",
       "week_4                                              58159.0   \n",
       "\n",
       "product_name  Wonder 100pct con Ajonjoli 567g WON 35144  \\\n",
       "week_3                                           2618.0   \n",
       "week_4                                           2722.0   \n",
       "\n",
       "product_name  Wonder 100pct gde 680g SP MTA WON 43339  \\\n",
       "week_3                                            0.0   \n",
       "week_4                                            0.0   \n",
       "\n",
       "product_name  Wonder 100pct grande 567g MTA WON 35148  \\\n",
       "week_3                                         9911.0   \n",
       "week_4                                        10587.0   \n",
       "\n",
       "product_name  Wonder 100pct grande 567g WON 35147  \\\n",
       "week_3                                      669.0   \n",
       "week_4                                      798.0   \n",
       "\n",
       "product_name  Wonder 100pct mediano 475g MTA WON 43131  \\\n",
       "week_3                                          2414.0   \n",
       "week_4                                          1875.0   \n",
       "\n",
       "product_name  Wonder 100pct mediano 475g WON 106  \n",
       "week_3                                     210.0  \n",
       "week_4                                     197.0  \n",
       "\n",
       "[2 rows x 954 columns]"
      ]
     },
     "execution_count": 63,
     "metadata": {},
     "output_type": "execute_result"
    }
   ],
   "source": [
    "trans = demand.T\n",
    "trans.head(2)"
   ]
  },
  {
   "cell_type": "code",
   "execution_count": 64,
   "metadata": {},
   "outputs": [],
   "source": [
    "def plot_demand(product_name):\n",
    "    sns.distplot(trans[product_name], hist=True, kde=True, \n",
    "                 bins=int(7), color = 'darkblue', \n",
    "                 hist_kws={'edgecolor':'black'},\n",
    "                 kde_kws={'linewidth': 4})"
   ]
  },
  {
   "cell_type": "code",
   "execution_count": 65,
   "metadata": {},
   "outputs": [
    {
     "data": {
      "image/png": "[encoded data removed]",
      "text/plain": [
       "<Figure size 576x576 with 1 Axes>"
      ]
     },
     "metadata": {},
     "output_type": "display_data"
    }
   ],
   "source": [
    "plot_demand(\"Coca Cola Lata 355ml CC 5200\")"
   ]
  },
  {
   "cell_type": "markdown",
   "metadata": {},
   "source": [
    "## Build a Descriptive model ##\n",
    "We would like to build a model to approximate the distribution of the sale, which is assimilated to the demand of the product. \n",
    "1. Use the **Chi squared test**, we will select the distribution that gives the best estimates of the demand. \n",
    "2. Simulate 7 days with different policies of production\n",
    "3. Choose the one that yields the highest increase in expected profit."
   ]
  },
  {
   "cell_type": "code",
   "execution_count": 66,
   "metadata": {},
   "outputs": [
    {
     "data": {
      "text/html": [
       "<div>\n",
       "<style scoped>\n",
       "    .dataframe tbody tr th:only-of-type {\n",
       "        vertical-align: middle;\n",
       "    }\n",
       "\n",
       "    .dataframe tbody tr th {\n",
       "        vertical-align: top;\n",
       "    }\n",
       "\n",
       "    .dataframe thead th {\n",
       "        text-align: right;\n",
       "    }\n",
       "</style>\n",
       "<table border=\"1\" class=\"dataframe\">\n",
       "  <thead>\n",
       "    <tr style=\"text-align: right;\">\n",
       "      <th></th>\n",
       "      <th>week_number</th>\n",
       "      <th>sales_depot_id</th>\n",
       "      <th>sales_channel_id</th>\n",
       "      <th>route_id</th>\n",
       "      <th>client_id</th>\n",
       "      <th>product_id</th>\n",
       "      <th>sales_unit</th>\n",
       "      <th>sales</th>\n",
       "      <th>returns_unit</th>\n",
       "      <th>return</th>\n",
       "      <th>profit</th>\n",
       "      <th>return_on_sale</th>\n",
       "      <th>return_rate</th>\n",
       "      <th>share_revenue</th>\n",
       "    </tr>\n",
       "    <tr>\n",
       "      <th>product_name</th>\n",
       "      <th></th>\n",
       "      <th></th>\n",
       "      <th></th>\n",
       "      <th></th>\n",
       "      <th></th>\n",
       "      <th></th>\n",
       "      <th></th>\n",
       "      <th></th>\n",
       "      <th></th>\n",
       "      <th></th>\n",
       "      <th></th>\n",
       "      <th></th>\n",
       "      <th></th>\n",
       "      <th></th>\n",
       "    </tr>\n",
       "  </thead>\n",
       "  <tbody>\n",
       "    <tr>\n",
       "      <th>Mantecadas Vainilla 4p 125g BIM 1240</th>\n",
       "      <td>26139</td>\n",
       "      <td>12289237</td>\n",
       "      <td>13970</td>\n",
       "      <td>9747381</td>\n",
       "      <td>4367687376</td>\n",
       "      <td>5433680</td>\n",
       "      <td>599669</td>\n",
       "      <td>6409815.27</td>\n",
       "      <td>52735</td>\n",
       "      <td>585323.47</td>\n",
       "      <td>5824491.80</td>\n",
       "      <td>90.87</td>\n",
       "      <td>8.08</td>\n",
       "      <td>1.633</td>\n",
       "    </tr>\n",
       "    <tr>\n",
       "      <th>Donas Azucar 4p 105g BIM 1250</th>\n",
       "      <td>26910</td>\n",
       "      <td>12235193</td>\n",
       "      <td>14633</td>\n",
       "      <td>10158629</td>\n",
       "      <td>4428804378</td>\n",
       "      <td>5636250</td>\n",
       "      <td>886962</td>\n",
       "      <td>7979454.26</td>\n",
       "      <td>45951</td>\n",
       "      <td>425047.34</td>\n",
       "      <td>7554406.92</td>\n",
       "      <td>94.67</td>\n",
       "      <td>4.93</td>\n",
       "      <td>2.032</td>\n",
       "    </tr>\n",
       "    <tr>\n",
       "      <th>Coca Cola Lata 355ml CC 5200</th>\n",
       "      <td>13239</td>\n",
       "      <td>5127566</td>\n",
       "      <td>11040</td>\n",
       "      <td>6640676</td>\n",
       "      <td>1476828636</td>\n",
       "      <td>11481600</td>\n",
       "      <td>1550394</td>\n",
       "      <td>13626890.30</td>\n",
       "      <td>33825</td>\n",
       "      <td>294855.85</td>\n",
       "      <td>13332034.45</td>\n",
       "      <td>97.84</td>\n",
       "      <td>2.14</td>\n",
       "      <td>3.471</td>\n",
       "    </tr>\n",
       "    <tr>\n",
       "      <th>Kiyakis 25pz de 50g BAR 45449</th>\n",
       "      <td>17310</td>\n",
       "      <td>5948413</td>\n",
       "      <td>14455</td>\n",
       "      <td>8698132</td>\n",
       "      <td>1922447937</td>\n",
       "      <td>131393059</td>\n",
       "      <td>379333</td>\n",
       "      <td>2817255.97</td>\n",
       "      <td>30028</td>\n",
       "      <td>223319.96</td>\n",
       "      <td>2593936.01</td>\n",
       "      <td>92.07</td>\n",
       "      <td>7.34</td>\n",
       "      <td>0.718</td>\n",
       "    </tr>\n",
       "  </tbody>\n",
       "</table>\n",
       "</div>"
      ],
      "text/plain": [
       "                                      week_number  sales_depot_id  \\\n",
       "product_name                                                        \n",
       "Mantecadas Vainilla 4p 125g BIM 1240        26139        12289237   \n",
       "Donas Azucar 4p 105g BIM 1250               26910        12235193   \n",
       "Coca Cola Lata 355ml CC 5200                13239         5127566   \n",
       "Kiyakis 25pz de 50g BAR 45449               17310         5948413   \n",
       "\n",
       "                                      sales_channel_id  route_id   client_id  \\\n",
       "product_name                                                                   \n",
       "Mantecadas Vainilla 4p 125g BIM 1240             13970   9747381  4367687376   \n",
       "Donas Azucar 4p 105g BIM 1250                    14633  10158629  4428804378   \n",
       "Coca Cola Lata 355ml CC 5200                     11040   6640676  1476828636   \n",
       "Kiyakis 25pz de 50g BAR 45449                    14455   8698132  1922447937   \n",
       "\n",
       "                                      product_id  sales_unit        sales  \\\n",
       "product_name                                                                \n",
       "Mantecadas Vainilla 4p 125g BIM 1240     5433680      599669   6409815.27   \n",
       "Donas Azucar 4p 105g BIM 1250            5636250      886962   7979454.26   \n",
       "Coca Cola Lata 355ml CC 5200            11481600     1550394  13626890.30   \n",
       "Kiyakis 25pz de 50g BAR 45449          131393059      379333   2817255.97   \n",
       "\n",
       "                                      returns_unit     return       profit  \\\n",
       "product_name                                                                 \n",
       "Mantecadas Vainilla 4p 125g BIM 1240         52735  585323.47   5824491.80   \n",
       "Donas Azucar 4p 105g BIM 1250                45951  425047.34   7554406.92   \n",
       "Coca Cola Lata 355ml CC 5200                 33825  294855.85  13332034.45   \n",
       "Kiyakis 25pz de 50g BAR 45449                30028  223319.96   2593936.01   \n",
       "\n",
       "                                      return_on_sale  return_rate  \\\n",
       "product_name                                                        \n",
       "Mantecadas Vainilla 4p 125g BIM 1240           90.87         8.08   \n",
       "Donas Azucar 4p 105g BIM 1250                  94.67         4.93   \n",
       "Coca Cola Lata 355ml CC 5200                   97.84         2.14   \n",
       "Kiyakis 25pz de 50g BAR 45449                  92.07         7.34   \n",
       "\n",
       "                                      share_revenue  \n",
       "product_name                                         \n",
       "Mantecadas Vainilla 4p 125g BIM 1240          1.633  \n",
       "Donas Azucar 4p 105g BIM 1250                 2.032  \n",
       "Coca Cola Lata 355ml CC 5200                  3.471  \n",
       "Kiyakis 25pz de 50g BAR 45449                 0.718  "
      ]
     },
     "execution_count": 66,
     "metadata": {},
     "output_type": "execute_result"
    }
   ],
   "source": [
    "grouped = data.groupby(\"product_name\")\n",
    "pro = grouped.sum()\n",
    "add_return_on_sale(pro)\n",
    "add_return_rate(pro)\n",
    "add_share_revenue(pro)\n",
    "pro.sort_values([\"return\"], ascending=False, inplace = True)\n",
    "pro.head(4)"
   ]
  },
  {
   "cell_type": "markdown",
   "metadata": {},
   "source": [
    "We sample the products with the highest returns in the variable `products_high_return`"
   ]
  },
  {
   "cell_type": "code",
   "execution_count": 67,
   "metadata": {},
   "outputs": [
    {
     "data": {
      "text/plain": [
       "['Mantecadas Vainilla 4p 125g BIM 1240',\n",
       " 'Donas Azucar 4p 105g BIM 1250',\n",
       " 'Coca Cola Lata 355ml CC 5200',\n",
       " 'Kiyakis 25pz de 50g BAR 45449',\n",
       " 'Duo Nito 124g SP BIM 40985']"
      ]
     },
     "execution_count": 67,
     "metadata": {},
     "output_type": "execute_result"
    }
   ],
   "source": [
    "products_high_return = list(pro.iloc[:5].index)\n",
    "products_high_return"
   ]
  },
  {
   "cell_type": "markdown",
   "metadata": {},
   "source": [
    "### Create a pipeline to find the distribution of demand for a product ###"
   ]
  },
  {
   "cell_type": "code",
   "execution_count": 68,
   "metadata": {},
   "outputs": [],
   "source": [
    "#List of the distributions that we will use for our tests\n",
    "dist_names = [\"weibull_min\",'norm','weibull_max','beta', 'invgauss','uniform','gamma','expon', 'lognorm','pearson3','triang']"
   ]
  },
  {
   "cell_type": "markdown",
   "metadata": {},
   "source": [
    "### Chi square test ###"
   ]
  },
  {
   "cell_type": "code",
   "execution_count": 69,
   "metadata": {},
   "outputs": [],
   "source": [
    "def find_distribution(data, product: str, dist_names: list): #Here we will run a Chi square test to find the distribution with the best fit to demand \n",
    "    trans = data \n",
    "    \n",
    "    y = trans[product].values  # Extract the values of the serie of demand per week\n",
    "    x = np.arange(len(y))\n",
    "    size = len(y)  \n",
    "    \n",
    "    sc=StandardScaler()   #Standardize the data\n",
    "    yy = y.reshape (-1,1)\n",
    "    sc.fit(yy)\n",
    "    y_std =sc.transform(yy)\n",
    "    y_std = y_std.flatten()\n",
    "    del yy\n",
    "    \n",
    "    #Borrowed from https://pythonhealthcare.org/2018/05/03/81-distribution-fitting-to-data/\n",
    "\n",
    "    # Set up empty lists to stroe results\n",
    "    chi_square = []\n",
    "    p_values = []\n",
    "\n",
    "    # Set up 7 bins for chi-square test\n",
    "    # Observed data will be approximately evenly distrubuted aross all bins\n",
    "    percentile_bins = np.linspace(0,100,7)\n",
    "    percentile_cutoffs = np.percentile(y_std, percentile_bins)\n",
    "    observed_frequency, bins = (np.histogram(y_std, bins=percentile_cutoffs))\n",
    "    cum_observed_frequency = np.cumsum(observed_frequency)\n",
    "\n",
    "    # Loop through candidate distributions\n",
    "\n",
    "    for distribution in dist_names:\n",
    "        # Set up distribution and get fitted distribution parameters\n",
    "        dist = getattr(scipy.stats, distribution)\n",
    "        param = dist.fit(y_std)\n",
    "\n",
    "        # Obtain the KS test P statistic, round it to 5 decimal places\n",
    "        p = scipy.stats.kstest(y_std, distribution, args=param)[1]\n",
    "        p = np.around(p, 5)\n",
    "        p_values.append(p)    \n",
    "\n",
    "        # Get expected counts in percentile bins\n",
    "        # This is based on a 'cumulative distrubution function' (cdf)\n",
    "        cdf_fitted = dist.cdf(percentile_cutoffs, *param[:-2], loc=param[-2], \n",
    "                              scale=param[-1])\n",
    "        expected_frequency = []\n",
    "        for bin in range(len(percentile_bins)-1):\n",
    "            expected_cdf_area = cdf_fitted[bin+1] - cdf_fitted[bin]\n",
    "            expected_frequency.append(expected_cdf_area)\n",
    "\n",
    "        # calculate chi-squared\n",
    "        expected_frequency = np.array(expected_frequency) * size\n",
    "        cum_expected_frequency = np.cumsum(expected_frequency)\n",
    "        ss = sum (((cum_expected_frequency - cum_observed_frequency) ** 2) / cum_observed_frequency)\n",
    "        chi_square.append(ss)\n",
    "\n",
    "    # Collate results and sort by goodness of fit (best at top)\n",
    "\n",
    "    results = pd.DataFrame()\n",
    "    results['Distribution'] = dist_names\n",
    "    results['chi_square'] = chi_square\n",
    "    results['p_value'] = p_values\n",
    "    results.sort_values(['chi_square'], inplace=True)\n",
    "    \n",
    "    \n",
    "        # Get the top three distributions from the previous phase\n",
    "    number_distributions_to_plot = 3\n",
    "    dist_names = results['Distribution'].iloc[0:number_distributions_to_plot]\n",
    "\n",
    "    # Create an empty list to stroe fitted distribution parameters\n",
    "    parameters = []\n",
    "\n",
    "    # Loop through the distributions ot get line fit and paraemters\n",
    "\n",
    "    for dist_name in dist_names:\n",
    "        # Set up distribution and store distribution paraemters\n",
    "        dist = getattr(scipy.stats, dist_name)\n",
    "        param = dist.fit(y)\n",
    "        parameters.append(param)\n",
    "    \n",
    "\n",
    "    # Store distribution paraemters in a dataframe (this could also be saved)\n",
    "    dist_parameters = pd.DataFrame()\n",
    "    dist_parameters['Distribution'] = (\n",
    "            results['Distribution'].iloc[0:number_distributions_to_plot])\n",
    "    dist_parameters['Distribution parameters'] = parameters\n",
    "    \n",
    "    # Report results\n",
    "\n",
    "    print ('\\nDistributions sorted by goodness of fit:')\n",
    "    print ('----------------------------------------')\n",
    "    print (results)\n",
    "    \n",
    "    #-----------------------if statement for outputs--------------------------------------------------------------------------------\n",
    "    \n",
    "    a = dist_parameters[\"Distribution parameters\"].iloc[0] \n",
    "    \n",
    "    if len(a) == 3:\n",
    "        s, mu, scale = dist_parameters[\"Distribution parameters\"].iloc[0]    #(shape is σ , loc is µ, and scale is α)\n",
    "    \n",
    "        dist = results[\"Distribution\"].iloc[0]\n",
    "    \n",
    "        print(\"The best approximative distribution for the product \",product,\" is \", results[\"Distribution\"].iloc[0], \"\\nThe parameters are shape = \",s,\"mu = \",mu,\"scale = \",scale)\n",
    "        \n",
    "        return dist, s, mu, scale          #Return s, mu and scale of the chosen distribution \n",
    "    \n",
    "    if len(a) == 1:\n",
    "        s = dist_parameters[\"Distribution parameters\"].iloc[0]\n",
    "        \n",
    "        dist = results[\"Distribution\"].iloc[0]\n",
    "        \n",
    "        print(\"The best approximative distribution for the product \",product,\" is \", results[\"Distribution\"].iloc[0], \"\\nThe parameters are shape = \",s)\n",
    "        \n",
    "        return dist, s \n",
    "    \n",
    "    if len(a) == 2:\n",
    "        s, mu = dist_parameters[\"Distribution parameters\"].iloc[0]\n",
    "        \n",
    "        dist = results[\"Distribution\"].iloc[0]\n",
    "        \n",
    "        print(\"The best approximative distribution for the product \",product,\" is \", results[\"Distribution\"].iloc[0], \"\\nThe parameters are shape = \",s,\"mu = \",mu)\n",
    "        \n",
    "        return dist, s, mu\n",
    "    \n",
    "    if len(a) == 4:\n",
    "        s = dist_parameters[\"Distribution parameters\"].iloc[0]\n",
    "        \n",
    "        dist = results[\"Distribution\"].iloc[0]\n",
    "        \n",
    "        print(\"The best approximative distribution for the product \",product,\" is \", results[\"Distribution\"].iloc[0], \"\\nThe parameters are shape = \",s)\n",
    "        \n",
    "        return dist, s \n",
    "    \n",
    "    "
   ]
  },
  {
   "cell_type": "markdown",
   "metadata": {},
   "source": [
    "**The best estimation is the one with the lowest chi square value**"
   ]
  },
  {
   "cell_type": "code",
   "execution_count": 70,
   "metadata": {},
   "outputs": [
    {
     "name": "stdout",
     "output_type": "stream",
     "text": [
      "\n",
      "Distributions sorted by goodness of fit:\n",
      "----------------------------------------\n",
      "   Distribution  chi_square  p_value\n",
      "8       lognorm    0.515762  0.99666\n",
      "4      invgauss    0.523185  0.99584\n",
      "0   weibull_min    0.888333  0.84719\n",
      "7         expon    1.276397  0.98756\n",
      "5       uniform    1.537709  0.16078\n",
      "1          norm    2.058477  0.52888\n",
      "3          beta    2.940897  0.94652\n",
      "10       triang    5.088603  0.10588\n",
      "9      pearson3    5.418374  0.57833\n",
      "6         gamma    6.342022  0.37949\n",
      "2   weibull_max   14.704052  0.10525\n",
      "The best approximative distribution for the product  Coca Cola Lata 355ml CC 5200  is  lognorm \n",
      "The parameters are shape =  7.238386243700922 mu =  202770.99999999997 scale =  2.5981185460062726\n"
     ]
    }
   ],
   "source": [
    "#Test for one product\n",
    "distribution_name, s, mu, scale =  find_distribution(trans, \"Coca Cola Lata 355ml CC 5200\", dist_names)"
   ]
  },
  {
   "cell_type": "markdown",
   "metadata": {},
   "source": [
    "### Generate a sample ###"
   ]
  },
  {
   "cell_type": "code",
   "execution_count": 71,
   "metadata": {},
   "outputs": [],
   "source": [
    "def generate_lognormal_samples(mean, stdev, n=1):\n",
    " \n",
    "    # Calculate mu and sigma of underlying lognormal distribution\n",
    "    phi = (stdev ** 2 + mean ** 2) ** 0.5\n",
    "    mu = np.log(mean ** 2 / phi)\n",
    "    sigma = (np.log(phi ** 2 / mean ** 2)) ** 0.5\n",
    "    \n",
    "    # Generate lognormal population\n",
    "    generated_pop = np.random.lognormal(mu, sigma , n)\n",
    "    \n",
    "    # Convert single sample (if n=1) to a float, otherwise leave as array\n",
    "    generated_pop = \\\n",
    "        generated_pop[0] if len(generated_pop) == 1 else generated_pop\n",
    "    \n",
    "    return generated_pop"
   ]
  },
  {
   "cell_type": "code",
   "execution_count": 81,
   "metadata": {},
   "outputs": [
    {
     "data": {
      "text/plain": [
       "202771.9775426681"
      ]
     },
     "execution_count": 81,
     "metadata": {},
     "output_type": "execute_result"
    }
   ],
   "source": [
    "generate_lognormal_samples(202771, 7.238)"
   ]
  },
  {
   "cell_type": "markdown",
   "metadata": {},
   "source": [
    "Confidence interval"
   ]
  },
  {
   "cell_type": "code",
   "execution_count": 72,
   "metadata": {},
   "outputs": [
    {
     "data": {
      "text/plain": [
       "[202765, 202776]"
      ]
     },
     "execution_count": 72,
     "metadata": {},
     "output_type": "execute_result"
    }
   ],
   "source": [
    "np.random.seed(1)\n",
    "l = []\n",
    "for i in range(10000):     #95% confidence interval of the mean \n",
    "    demand = generate_lognormal_samples(mu, s, 7)\n",
    "    l.append(np.mean(demand))\n",
    "ci = [int(np.mean(l)-1.96*np.std(l)) ,  int(np.mean(l)+1.96*np.std(l))]\n",
    "ci"
   ]
  },
  {
   "cell_type": "markdown",
   "metadata": {},
   "source": [
    "### Simulation of differents policies ###\n",
    "$$Production = x * Avg(Demand)$$                                  \n",
    "<br>We will assume that `Demand ~ logN(µ,s)`\n",
    "\n",
    "<br> **Policy evaluation:** We run 100 simulations of 7 weeks of demand and production according to the chosen policy, then we compute the expected profit and its standard deviation"
   ]
  },
  {
   "cell_type": "code",
   "execution_count": 73,
   "metadata": {},
   "outputs": [],
   "source": [
    "coef = [0.8,0.9,0.95,1,1.05,1.1,1.2]"
   ]
  },
  {
   "cell_type": "code",
   "execution_count": 74,
   "metadata": {},
   "outputs": [],
   "source": [
    "def experiment_policies(product: str, coef: list, function, mu, s):  #Function is the generative of the assumed distribution samples\n",
    "    np.random.seed(1)\n",
    "    exp = {}\n",
    "    \n",
    "    price_unit = pro.loc[product,\"sales\"] / pro.loc[product,\"sales_unit\"]\n",
    "    total_profit = pro.loc[product,\"profit\"]\n",
    "    \n",
    "    for x in coef:\n",
    "        l = []\n",
    "        for i in range(100):\n",
    "            production = np.ones(7) * int(mu) * x        #We produce x times the expectation of our assume demand\n",
    "            demand = function(mu, s, 7)          #Simulate the demand given the Lognormal distribution\n",
    "            sales = demand * price_unit           #Sales = demand * unit p\n",
    "            returns = production - demand         #returns = prod - demand\n",
    "            loss = returns * price_unit            #loss = returns * unit price\n",
    "            profit = sales - loss               \n",
    "            l.append(np.sum(profit))             #Each simulation we record the average profit over the 7 days \n",
    "        exp[str(x)+\"D\"] = [int(np.mean(l)),int(np.std(l))]          #The mean of those average over 100 simulations will be the expectation of profit\n",
    "        \n",
    "    \n",
    "    \n",
    "    experiment = pd.DataFrame(exp).T\n",
    "    experiment.rename(columns = {0:\"Expectation of profit\", 1:\"Standard Deviation\"}, inplace= True)\n",
    "    \n",
    "    experiment[\"Gain of the strategy\"] = experiment[\"Expectation of profit\"] - total_profit          #Gain is the expected profit - actual total profit\n",
    "    \n",
    "    experiment.sort_values(\"Gain of the strategy\", ascending = False, inplace = True)        #Sort to have the strategy with highest profit \n",
    "    \n",
    "    return experiment"
   ]
  },
  {
   "cell_type": "code",
   "execution_count": 75,
   "metadata": {},
   "outputs": [
    {
     "data": {
      "text/html": [
       "<div>\n",
       "<style scoped>\n",
       "    .dataframe tbody tr th:only-of-type {\n",
       "        vertical-align: middle;\n",
       "    }\n",
       "\n",
       "    .dataframe tbody tr th {\n",
       "        vertical-align: top;\n",
       "    }\n",
       "\n",
       "    .dataframe thead th {\n",
       "        text-align: right;\n",
       "    }\n",
       "</style>\n",
       "<table border=\"1\" class=\"dataframe\">\n",
       "  <thead>\n",
       "    <tr style=\"text-align: right;\">\n",
       "      <th></th>\n",
       "      <th>Expectation of profit</th>\n",
       "      <th>Standard Deviation</th>\n",
       "      <th>Gain of the strategy</th>\n",
       "    </tr>\n",
       "  </thead>\n",
       "  <tbody>\n",
       "    <tr>\n",
       "      <th>0.8D</th>\n",
       "      <td>14970663</td>\n",
       "      <td>352</td>\n",
       "      <td>1638628.55</td>\n",
       "    </tr>\n",
       "    <tr>\n",
       "      <th>0.9D</th>\n",
       "      <td>13723101</td>\n",
       "      <td>333</td>\n",
       "      <td>391066.55</td>\n",
       "    </tr>\n",
       "    <tr>\n",
       "      <th>0.95D</th>\n",
       "      <td>13099294</td>\n",
       "      <td>361</td>\n",
       "      <td>-232740.45</td>\n",
       "    </tr>\n",
       "    <tr>\n",
       "      <th>1D</th>\n",
       "      <td>12475510</td>\n",
       "      <td>316</td>\n",
       "      <td>-856524.45</td>\n",
       "    </tr>\n",
       "    <tr>\n",
       "      <th>1.05D</th>\n",
       "      <td>11851750</td>\n",
       "      <td>352</td>\n",
       "      <td>-1480284.45</td>\n",
       "    </tr>\n",
       "    <tr>\n",
       "      <th>1.1D</th>\n",
       "      <td>11227965</td>\n",
       "      <td>307</td>\n",
       "      <td>-2104069.45</td>\n",
       "    </tr>\n",
       "    <tr>\n",
       "      <th>1.2D</th>\n",
       "      <td>9980487</td>\n",
       "      <td>336</td>\n",
       "      <td>-3351547.45</td>\n",
       "    </tr>\n",
       "  </tbody>\n",
       "</table>\n",
       "</div>"
      ],
      "text/plain": [
       "       Expectation of profit  Standard Deviation  Gain of the strategy\n",
       "0.8D                14970663                 352            1638628.55\n",
       "0.9D                13723101                 333             391066.55\n",
       "0.95D               13099294                 361            -232740.45\n",
       "1D                  12475510                 316            -856524.45\n",
       "1.05D               11851750                 352           -1480284.45\n",
       "1.1D                11227965                 307           -2104069.45\n",
       "1.2D                 9980487                 336           -3351547.45"
      ]
     },
     "execution_count": 75,
     "metadata": {},
     "output_type": "execute_result"
    }
   ],
   "source": [
    "experiment_policies(\"Coca Cola Lata 355ml CC 5200\", coef, generate_lognormal_samples, 202771, 7.24)"
   ]
  },
  {
   "cell_type": "markdown",
   "metadata": {},
   "source": [
    "> **Observation**\n",
    "\n",
    "Below we have the distribution of products with the highest number of returns. We observe that **LogNorm** appears to be a pretty good assumption of distribution of demand for many products. For sake of simplicity, we find the best policy under the assumption of lognormal distribution for all those `products_high_return` "
   ]
  },
  {
   "cell_type": "code",
   "execution_count": 76,
   "metadata": {
    "collapsed": true,
    "jupyter": {
     "outputs_hidden": true
    }
   },
   "outputs": [
    {
     "name": "stdout",
     "output_type": "stream",
     "text": [
      "\n",
      "Distributions sorted by goodness of fit:\n",
      "----------------------------------------\n",
      "   Distribution  chi_square  p_value\n",
      "4      invgauss    0.996269  0.65649\n",
      "10       triang    1.177191  0.36728\n",
      "6         gamma    1.187001  0.65366\n",
      "8       lognorm    1.206686  0.65160\n",
      "1          norm    1.221802  0.65531\n",
      "5       uniform    1.654345  0.30433\n",
      "3          beta    1.947518  0.89561\n",
      "7         expon    2.359511  0.81213\n",
      "9      pearson3    5.666591  0.67373\n",
      "0   weibull_min    8.525177  0.38867\n",
      "2   weibull_max   11.416248  0.27817\n",
      "The best approximative distribution for the product  Mantecadas Vainilla 4p 125g BIM 1240  is  invgauss \n",
      "The parameters are shape =  10423.151287892888 mu =  75824.66763117068 scale =  3353.3722730199647\n",
      "\n",
      "Distributions sorted by goodness of fit:\n",
      "----------------------------------------\n",
      "   Distribution  chi_square  p_value\n",
      "8       lognorm    0.377455  0.99802\n",
      "4      invgauss    0.411668  0.99778\n",
      "5       uniform    0.449562  0.82594\n",
      "1          norm    1.187531  0.97159\n",
      "7         expon    2.017473  0.98732\n",
      "9      pearson3    2.370112  0.97070\n",
      "3          beta    2.886016  0.90065\n",
      "10       triang    3.032465  0.45477\n",
      "0   weibull_min    4.161053  0.73243\n",
      "6         gamma    7.271760  0.45674\n",
      "2   weibull_max   13.971285  0.16907\n",
      "The best approximative distribution for the product  Donas Azucar 4p 105g BIM 1250  is  lognorm \n",
      "The parameters are shape =  7.401736541200693 mu =  120564.99999999999 scale =  0.08955255840843813\n",
      "\n",
      "Distributions sorted by goodness of fit:\n",
      "----------------------------------------\n",
      "   Distribution  chi_square  p_value\n",
      "8       lognorm    0.515762  0.99666\n",
      "4      invgauss    0.523185  0.99584\n",
      "0   weibull_min    0.888333  0.84719\n",
      "7         expon    1.276397  0.98756\n",
      "5       uniform    1.537709  0.16078\n",
      "1          norm    2.058477  0.52888\n",
      "3          beta    2.940897  0.94652\n",
      "10       triang    5.088603  0.10588\n",
      "9      pearson3    5.418374  0.57833\n",
      "6         gamma    6.342022  0.37949\n",
      "2   weibull_max   14.704052  0.10525\n",
      "The best approximative distribution for the product  Coca Cola Lata 355ml CC 5200  is  lognorm \n",
      "The parameters are shape =  7.238386243700922 mu =  202770.99999999997 scale =  2.5981185460062726\n",
      "\n",
      "Distributions sorted by goodness of fit:\n",
      "----------------------------------------\n",
      "   Distribution  chi_square  p_value\n",
      "2   weibull_max    0.875832  0.83116\n",
      "3          beta    1.261245  0.71110\n",
      "10       triang    1.957219  0.47933\n",
      "1          norm    1.998178  0.56037\n",
      "8       lognorm    2.012041  0.55748\n",
      "6         gamma    2.110622  0.53836\n",
      "4      invgauss    2.252049  0.52755\n",
      "5       uniform    6.459459  0.17729\n",
      "7         expon    6.655181  0.41393\n",
      "0   weibull_min   10.122233  0.29843\n",
      "9      pearson3   75.883580  0.00000\n",
      "The best approximative distribution for the product  Kiyakis 25pz de 50g BAR 45449  is  weibull_max \n",
      "The parameters are shape =  0.10970724540292878 mu =  56043.00000000001 scale =  1.5286022699034836\n",
      "\n",
      "Distributions sorted by goodness of fit:\n",
      "----------------------------------------\n",
      "   Distribution  chi_square  p_value\n",
      "5       uniform    0.425460  0.86889\n",
      "8       lognorm    0.668704  0.99295\n",
      "4      invgauss    0.700702  0.99046\n",
      "1          norm    0.984389  0.97376\n",
      "3          beta    1.052467  0.99272\n",
      "7         expon    2.038371  0.87407\n",
      "0   weibull_min    2.372791  0.83789\n",
      "9      pearson3    2.551517  0.80131\n",
      "10       triang    2.660669  0.50322\n",
      "6         gamma    8.933651  0.15336\n",
      "2   weibull_max   13.999350  0.12119\n",
      "The best approximative distribution for the product  Duo Nito 124g SP BIM 40985  is  uniform \n",
      "The parameters are shape =  81136.0 mu =  13631.0\n"
     ]
    }
   ],
   "source": [
    "for prod in products_high_return:\n",
    "    find_distribution(trans, prod, dist_names)"
   ]
  },
  {
   "cell_type": "code",
   "execution_count": 77,
   "metadata": {
    "collapsed": true,
    "jupyter": {
     "outputs_hidden": true
    }
   },
   "outputs": [
    {
     "data": {
      "text/html": [
       "<div>\n",
       "<style scoped>\n",
       "    .dataframe tbody tr th:only-of-type {\n",
       "        vertical-align: middle;\n",
       "    }\n",
       "\n",
       "    .dataframe tbody tr th {\n",
       "        vertical-align: top;\n",
       "    }\n",
       "\n",
       "    .dataframe thead th {\n",
       "        text-align: right;\n",
       "    }\n",
       "</style>\n",
       "<table border=\"1\" class=\"dataframe\">\n",
       "  <thead>\n",
       "    <tr style=\"text-align: right;\">\n",
       "      <th>product_name</th>\n",
       "      <th>Mantecadas Vainilla 4p 125g BIM 1240</th>\n",
       "      <th>Donas Azucar 4p 105g BIM 1250</th>\n",
       "      <th>Coca Cola Lata 355ml CC 5200</th>\n",
       "      <th>Kiyakis 25pz de 50g BAR 45449</th>\n",
       "      <th>Duo Nito 124g SP BIM 40985</th>\n",
       "    </tr>\n",
       "  </thead>\n",
       "  <tbody>\n",
       "    <tr>\n",
       "      <th>week_3</th>\n",
       "      <td>93163.0</td>\n",
       "      <td>125364.0</td>\n",
       "      <td>218516.0</td>\n",
       "      <td>55138.0</td>\n",
       "      <td>82402.0</td>\n",
       "    </tr>\n",
       "    <tr>\n",
       "      <th>week_4</th>\n",
       "      <td>92335.0</td>\n",
       "      <td>132167.0</td>\n",
       "      <td>214151.0</td>\n",
       "      <td>56043.0</td>\n",
       "      <td>81136.0</td>\n",
       "    </tr>\n",
       "    <tr>\n",
       "      <th>week_5</th>\n",
       "      <td>91767.0</td>\n",
       "      <td>134922.0</td>\n",
       "      <td>207568.0</td>\n",
       "      <td>55383.0</td>\n",
       "      <td>85852.0</td>\n",
       "    </tr>\n",
       "    <tr>\n",
       "      <th>week_6</th>\n",
       "      <td>81988.0</td>\n",
       "      <td>122872.0</td>\n",
       "      <td>202771.0</td>\n",
       "      <td>51014.0</td>\n",
       "      <td>85398.0</td>\n",
       "    </tr>\n",
       "    <tr>\n",
       "      <th>week_7</th>\n",
       "      <td>84932.0</td>\n",
       "      <td>127710.0</td>\n",
       "      <td>217207.0</td>\n",
       "      <td>53921.0</td>\n",
       "      <td>94767.0</td>\n",
       "    </tr>\n",
       "    <tr>\n",
       "      <th>week_8</th>\n",
       "      <td>78895.0</td>\n",
       "      <td>123362.0</td>\n",
       "      <td>237405.0</td>\n",
       "      <td>52364.0</td>\n",
       "      <td>89358.0</td>\n",
       "    </tr>\n",
       "    <tr>\n",
       "      <th>week_9</th>\n",
       "      <td>76589.0</td>\n",
       "      <td>120565.0</td>\n",
       "      <td>252776.0</td>\n",
       "      <td>55470.0</td>\n",
       "      <td>90903.0</td>\n",
       "    </tr>\n",
       "  </tbody>\n",
       "</table>\n",
       "</div>"
      ],
      "text/plain": [
       "product_name  Mantecadas Vainilla 4p 125g BIM 1240  \\\n",
       "week_3                                     93163.0   \n",
       "week_4                                     92335.0   \n",
       "week_5                                     91767.0   \n",
       "week_6                                     81988.0   \n",
       "week_7                                     84932.0   \n",
       "week_8                                     78895.0   \n",
       "week_9                                     76589.0   \n",
       "\n",
       "product_name  Donas Azucar 4p 105g BIM 1250  Coca Cola Lata 355ml CC 5200  \\\n",
       "week_3                             125364.0                      218516.0   \n",
       "week_4                             132167.0                      214151.0   \n",
       "week_5                             134922.0                      207568.0   \n",
       "week_6                             122872.0                      202771.0   \n",
       "week_7                             127710.0                      217207.0   \n",
       "week_8                             123362.0                      237405.0   \n",
       "week_9                             120565.0                      252776.0   \n",
       "\n",
       "product_name  Kiyakis 25pz de 50g BAR 45449  Duo Nito 124g SP BIM 40985  \n",
       "week_3                              55138.0                     82402.0  \n",
       "week_4                              56043.0                     81136.0  \n",
       "week_5                              55383.0                     85852.0  \n",
       "week_6                              51014.0                     85398.0  \n",
       "week_7                              53921.0                     94767.0  \n",
       "week_8                              52364.0                     89358.0  \n",
       "week_9                              55470.0                     90903.0  "
      ]
     },
     "execution_count": 77,
     "metadata": {},
     "output_type": "execute_result"
    }
   ],
   "source": [
    "# We will just double check the mean proposed by those distributions match with the values that we had each of the 7 weeks \n",
    "trans[products_high_return]"
   ]
  },
  {
   "cell_type": "code",
   "execution_count": 78,
   "metadata": {},
   "outputs": [],
   "source": [
    "def policies(products_high_return):  #This fucntion output the policy that yields the highest expected profits over a simulation of seven days  \n",
    "    index = []\n",
    "    gain = []\n",
    "    production = []\n",
    "    policy = {}\n",
    "    for prod in products_high_return:          #For each product I experiment different policies and output the best one\n",
    "        \n",
    "        y = trans[prod].values\n",
    "        dist = getattr(scipy.stats, \"lognorm\")\n",
    "        s, mu, _ = dist.fit(y) \n",
    "            \n",
    "        a = experiment_policies(prod, coef, generate_lognormal_samples, mu, s)       \n",
    "        index.append(prod)\n",
    "        gain.append(a.iloc[0][2])\n",
    "        production.append(a.index[0])\n",
    "    policy = {\"Gain of the strategy\": gain, \"Production policy\": production}\n",
    "    data = pd.DataFrame(policy, index = index)\n",
    "    return data "
   ]
  },
  {
   "cell_type": "code",
   "execution_count": 79,
   "metadata": {},
   "outputs": [
    {
     "data": {
      "text/html": [
       "<div>\n",
       "<style scoped>\n",
       "    .dataframe tbody tr th:only-of-type {\n",
       "        vertical-align: middle;\n",
       "    }\n",
       "\n",
       "    .dataframe tbody tr th {\n",
       "        vertical-align: top;\n",
       "    }\n",
       "\n",
       "    .dataframe thead th {\n",
       "        text-align: right;\n",
       "    }\n",
       "</style>\n",
       "<table border=\"1\" class=\"dataframe\">\n",
       "  <thead>\n",
       "    <tr style=\"text-align: right;\">\n",
       "      <th></th>\n",
       "      <th>Gain of the strategy</th>\n",
       "      <th>Production policy</th>\n",
       "    </tr>\n",
       "  </thead>\n",
       "  <tbody>\n",
       "    <tr>\n",
       "      <th>Mantecadas Vainilla 4p 125g BIM 1240</th>\n",
       "      <td>1052314.20</td>\n",
       "      <td>0.8D</td>\n",
       "    </tr>\n",
       "    <tr>\n",
       "      <th>Donas Azucar 4p 105g BIM 1250</th>\n",
       "      <td>1556743.08</td>\n",
       "      <td>0.8D</td>\n",
       "    </tr>\n",
       "    <tr>\n",
       "      <th>Coca Cola Lata 355ml CC 5200</th>\n",
       "      <td>1638677.55</td>\n",
       "      <td>0.8D</td>\n",
       "    </tr>\n",
       "    <tr>\n",
       "      <th>Kiyakis 25pz de 50g BAR 45449</th>\n",
       "      <td>588681.99</td>\n",
       "      <td>0.8D</td>\n",
       "    </tr>\n",
       "    <tr>\n",
       "      <th>Duo Nito 124g SP BIM 40985</th>\n",
       "      <td>875456.44</td>\n",
       "      <td>0.8D</td>\n",
       "    </tr>\n",
       "  </tbody>\n",
       "</table>\n",
       "</div>"
      ],
      "text/plain": [
       "                                      Gain of the strategy Production policy\n",
       "Mantecadas Vainilla 4p 125g BIM 1240            1052314.20              0.8D\n",
       "Donas Azucar 4p 105g BIM 1250                   1556743.08              0.8D\n",
       "Coca Cola Lata 355ml CC 5200                    1638677.55              0.8D\n",
       "Kiyakis 25pz de 50g BAR 45449                    588681.99              0.8D\n",
       "Duo Nito 124g SP BIM 40985                       875456.44              0.8D"
      ]
     },
     "execution_count": 79,
     "metadata": {},
     "output_type": "execute_result"
    }
   ],
   "source": [
    "results = policies(products_high_return)\n",
    "results"
   ]
  },
  {
   "cell_type": "code",
   "execution_count": 80,
   "metadata": {},
   "outputs": [
    {
     "name": "stdout",
     "output_type": "stream",
     "text": [
      "Using this strategy the past 7 days we would have won on average  5711873 pesos\n"
     ]
    }
   ],
   "source": [
    "Benefits = results[\"Gain of the strategy\"].sum()\n",
    "print(\"Using this strategy the past 7 days we would have won on average \",int(Benefits),\"pesos\")"
   ]
  },
  {
   "cell_type": "markdown",
   "metadata": {},
   "source": [
    "# > **Conclusion** #\n",
    "\n",
    "The main takeaways of this work can be summarized in the following points:\n",
    "- There are 3 main important channels in terms of revenue generated **2, 5 and 1**. Channel 5 is the one with the highest rate of return so we ought to **prioritize on this channel deliveries which may be kept in the above-mentioned manner** in order to extend the period of validity of bread\n",
    "- Regarding the previous performances in term of rate of return, we can set **no more than 4% as a weekly cap**\n",
    "- We have also identified a group of **premium clients** that we can negociate contracts to deliver fixed commands on a weekly basis, given the history of trust that we have built to avoid returns\n",
    "- We have **proposed, evaluated and simulated the demand** of 5 top products with the highest returns, assuming a **lognormal distribution**  \n",
    "\n",
    "<br> With more data, we will be able to evaluate the actual performances of these models in real life and readjust accordingly. Also, it could be  interesting to try forecasting the demand with more weeks of data, or simply daily data using time series "
   ]
  },
  {
   "cell_type": "markdown",
   "metadata": {},
   "source": [
    "**Thank you !!!**"
   ]
  }
 ],
 "metadata": {
  "kernelspec": {
   "display_name": "Python 3",
   "language": "python",
   "name": "python3"
  },
  "language_info": {
   "codemirror_mode": {
    "name": "ipython",
    "version": 3
   },
   "file_extension": ".py",
   "mimetype": "text/x-python",
   "name": "python",
   "nbconvert_exporter": "python",
   "pygments_lexer": "ipython3",
   "version": "3.7.6"
  }
 },
 "nbformat": 4,
 "nbformat_minor": 4
}
