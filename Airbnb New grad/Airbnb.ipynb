{
 "cells": [
  {
   "cell_type": "code",
   "execution_count": null,
   "metadata": {
    "colab": {},
    "colab_type": "code",
    "id": "ct764J4IS4jJ"
   },
   "outputs": [],
   "source": [
    "import pandas as pd\n",
    "import numpy as np\n",
    "import matplotlib.pyplot as plt\n",
    "import seaborn as sns\n",
    "from google.colab import files\n",
    "from datetime import datetime"
   ]
  },
  {
   "cell_type": "code",
   "execution_count": 3,
   "metadata": {
    "colab": {
     "base_uri": "https://localhost:8080/",
     "height": 191,
     "resources": {
      "http://localhost:8080/nbextensions/google.colab/files.js": {
       "data": "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",
       "headers": [
        [
         "content-type",
         "application/javascript"
        ]
       ],
       "ok": true,
       "status": 200,
       "status_text": ""
      }
     }
    },
    "colab_type": "code",
    "id": "fbrmxaAOYiAP",
    "outputId": "c36bc408-1737-48d9-8479-aee4c4d3ea06"
   },
   "outputs": [
    {
     "data": {
      "text/html": [
       "\n",
       "     <input type=\"file\" id=\"files-6a966d9d-b14b-4aaf-87a2-8175f432662a\" name=\"files[]\" multiple disabled />\n",
       "     <output id=\"result-6a966d9d-b14b-4aaf-87a2-8175f432662a\">\n",
       "      Upload widget is only available when the cell has been executed in the\n",
       "      current browser session. Please rerun this cell to enable.\n",
       "      </output>\n",
       "      <script src=\"/nbextensions/google.colab/files.js\"></script> "
      ],
      "text/plain": [
       "<IPython.core.display.HTML object>"
      ]
     },
     "metadata": {
      "tags": []
     },
     "output_type": "display_data"
    },
    {
     "name": "stdout",
     "output_type": "stream",
     "text": [
      "Saving Contacts - Data.csv to Contacts - Data.csv\n"
     ]
    },
    {
     "data": {
      "text/html": [
       "\n",
       "     <input type=\"file\" id=\"files-1d8a2343-a0df-4758-beff-7508ca4f10b6\" name=\"files[]\" multiple disabled />\n",
       "     <output id=\"result-1d8a2343-a0df-4758-beff-7508ca4f10b6\">\n",
       "      Upload widget is only available when the cell has been executed in the\n",
       "      current browser session. Please rerun this cell to enable.\n",
       "      </output>\n",
       "      <script src=\"/nbextensions/google.colab/files.js\"></script> "
      ],
      "text/plain": [
       "<IPython.core.display.HTML object>"
      ]
     },
     "metadata": {
      "tags": []
     },
     "output_type": "display_data"
    },
    {
     "name": "stdout",
     "output_type": "stream",
     "text": [
      "Saving Listings - Data.csv to Listings - Data.csv\n"
     ]
    },
    {
     "data": {
      "text/html": [
       "\n",
       "     <input type=\"file\" id=\"files-d244f851-3477-4ef4-bac8-32d1b4858d11\" name=\"files[]\" multiple disabled />\n",
       "     <output id=\"result-d244f851-3477-4ef4-bac8-32d1b4858d11\">\n",
       "      Upload widget is only available when the cell has been executed in the\n",
       "      current browser session. Please rerun this cell to enable.\n",
       "      </output>\n",
       "      <script src=\"/nbextensions/google.colab/files.js\"></script> "
      ],
      "text/plain": [
       "<IPython.core.display.HTML object>"
      ]
     },
     "metadata": {
      "tags": []
     },
     "output_type": "display_data"
    },
    {
     "name": "stdout",
     "output_type": "stream",
     "text": [
      "Saving Users - Data.csv to Users - Data.csv\n"
     ]
    }
   ],
   "source": [
    "contacts = files.upload()\n",
    "listings = files.upload()\n",
    "users = files.upload()"
   ]
  },
  {
   "cell_type": "markdown",
   "metadata": {
    "colab_type": "text",
    "id": "3-YejG3JaX3i"
   },
   "source": [
    "# Load dataset\n"
   ]
  },
  {
   "cell_type": "code",
   "execution_count": null,
   "metadata": {
    "colab": {},
    "colab_type": "code",
    "id": "aGYPKewLTTI5"
   },
   "outputs": [],
   "source": [
    "contact = pd.read_csv(\"Contacts - Data.csv\")\n",
    "listing = pd.read_csv(\"Listings - Data.csv\")\n",
    "user = pd.read_csv(\"Users - Data.csv\")"
   ]
  },
  {
   "cell_type": "code",
   "execution_count": 5,
   "metadata": {
    "colab": {
     "base_uri": "https://localhost:8080/",
     "height": 69
    },
    "colab_type": "code",
    "id": "rvA1nfT0eUGo",
    "outputId": "521002a8-4f3e-486d-8639-88e05b238b06"
   },
   "outputs": [
    {
     "name": "stdout",
     "output_type": "stream",
     "text": [
      "contact =  (27887, 14) \n",
      " listing =  (14614, 4) \n",
      " user =  (36778, 3)\n"
     ]
    }
   ],
   "source": [
    "#Dimensions of the dataset\n",
    "print(\"contact = \",contact.shape,\"\\n listing = \",listing.shape,\"\\n user = \",user.shape)"
   ]
  },
  {
   "cell_type": "markdown",
   "metadata": {
    "colab_type": "text",
    "id": "W_tVzvz7aIGk"
   },
   "source": [
    "Preview of the datasets\n",
    "\n"
   ]
  },
  {
   "cell_type": "code",
   "execution_count": null,
   "metadata": {
    "colab": {},
    "colab_type": "code",
    "id": "dia99X-QYcxn"
   },
   "outputs": [],
   "source": [
    "#contact.head(3)\n",
    "#listing.head(3)\n",
    "#user.head(3)"
   ]
  },
  {
   "cell_type": "code",
   "execution_count": 90,
   "metadata": {
    "colab": {
     "base_uri": "https://localhost:8080/",
     "height": 347
    },
    "colab_type": "code",
    "id": "CHjV3DbbaUsP",
    "outputId": "0e836ac4-caaa-4f9b-f1ff-ef84c93eceef"
   },
   "outputs": [
    {
     "name": "stdout",
     "output_type": "stream",
     "text": [
      "<class 'pandas.core.frame.DataFrame'>\n",
      "RangeIndex: 27887 entries, 0 to 27886\n",
      "Data columns (total 14 columns):\n",
      "id_guest_anon                           27887 non-null object\n",
      "id_host_anon                            27887 non-null object\n",
      "id_listing_anon                         27887 non-null object\n",
      "ts_interaction_first                    27887 non-null object\n",
      "ts_reply_at_first                       25855 non-null object\n",
      "ts_accepted_at_first                    16415 non-null object\n",
      "ts_booking_at                           11587 non-null object\n",
      "ds_checkin_first                        27887 non-null object\n",
      "ds_checkout_first                       27887 non-null object\n",
      "m_guests                                27886 non-null float64\n",
      "m_interactions                          27887 non-null int64\n",
      "m_first_message_length_in_characters    27887 non-null float64\n",
      "contact_channel_first                   27887 non-null object\n",
      "guest_user_stage_first                  27887 non-null object\n",
      "dtypes: float64(2), int64(1), object(11)\n",
      "memory usage: 3.0+ MB\n"
     ]
    }
   ],
   "source": [
    "contact.info()\n",
    "#listing.info()\n",
    "#user.info()"
   ]
  },
  {
   "cell_type": "code",
   "execution_count": 7,
   "metadata": {
    "colab": {
     "base_uri": "https://localhost:8080/",
     "height": 294
    },
    "colab_type": "code",
    "id": "mvcpI52Ecju2",
    "outputId": "cd3ab969-e6ee-475e-9ba1-12fe4838f8d1"
   },
   "outputs": [
    {
     "data": {
      "text/html": [
       "<div>\n",
       "<style scoped>\n",
       "    .dataframe tbody tr th:only-of-type {\n",
       "        vertical-align: middle;\n",
       "    }\n",
       "\n",
       "    .dataframe tbody tr th {\n",
       "        vertical-align: top;\n",
       "    }\n",
       "\n",
       "    .dataframe thead th {\n",
       "        text-align: right;\n",
       "    }\n",
       "</style>\n",
       "<table border=\"1\" class=\"dataframe\">\n",
       "  <thead>\n",
       "    <tr style=\"text-align: right;\">\n",
       "      <th></th>\n",
       "      <th>total_reviews</th>\n",
       "    </tr>\n",
       "  </thead>\n",
       "  <tbody>\n",
       "    <tr>\n",
       "      <th>count</th>\n",
       "      <td>14614.000000</td>\n",
       "    </tr>\n",
       "    <tr>\n",
       "      <th>mean</th>\n",
       "      <td>6.285548</td>\n",
       "    </tr>\n",
       "    <tr>\n",
       "      <th>std</th>\n",
       "      <td>16.203695</td>\n",
       "    </tr>\n",
       "    <tr>\n",
       "      <th>min</th>\n",
       "      <td>0.000000</td>\n",
       "    </tr>\n",
       "    <tr>\n",
       "      <th>25%</th>\n",
       "      <td>0.000000</td>\n",
       "    </tr>\n",
       "    <tr>\n",
       "      <th>50%</th>\n",
       "      <td>0.000000</td>\n",
       "    </tr>\n",
       "    <tr>\n",
       "      <th>75%</th>\n",
       "      <td>4.000000</td>\n",
       "    </tr>\n",
       "    <tr>\n",
       "      <th>max</th>\n",
       "      <td>269.000000</td>\n",
       "    </tr>\n",
       "  </tbody>\n",
       "</table>\n",
       "</div>"
      ],
      "text/plain": [
       "       total_reviews\n",
       "count   14614.000000\n",
       "mean        6.285548\n",
       "std        16.203695\n",
       "min         0.000000\n",
       "25%         0.000000\n",
       "50%         0.000000\n",
       "75%         4.000000\n",
       "max       269.000000"
      ]
     },
     "execution_count": 7,
     "metadata": {
      "tags": []
     },
     "output_type": "execute_result"
    }
   ],
   "source": [
    "#contact.describe()\n",
    "listing.describe()\n",
    "#user.describe()"
   ]
  },
  {
   "cell_type": "markdown",
   "metadata": {
    "colab_type": "text",
    "id": "byrnCYBQBocb"
   },
   "source": [
    "There are some listings with a negative \"total_reviews\". We will put those values to zero "
   ]
  },
  {
   "cell_type": "code",
   "execution_count": null,
   "metadata": {
    "colab": {},
    "colab_type": "code",
    "id": "gjM7XP1ABiAn"
   },
   "outputs": [],
   "source": [
    "listing[listing['total_reviews'] < 0] = 0\n",
    "#listing.describe() #sanity check "
   ]
  },
  {
   "cell_type": "markdown",
   "metadata": {
    "colab_type": "text",
    "id": "EWycO2fJdX9B"
   },
   "source": [
    "First takeaways:\n",
    "\n",
    "> Contact:\n",
    "On average the inquiries are for 3 guests, they exchange 9 messages and the first messages in 194 characters (phone text ~ 160 characters)\n",
    "\n",
    "\n",
    "> Listing:\n",
    "On average one listing has 7 reviews\n"
   ]
  },
  {
   "cell_type": "code",
   "execution_count": 95,
   "metadata": {
    "colab": {
     "base_uri": "https://localhost:8080/",
     "height": 87
    },
    "colab_type": "code",
    "id": "mw4E1nmXd6F3",
    "outputId": "78835fec-307b-465e-f41f-141cfda890db"
   },
   "outputs": [
    {
     "data": {
      "text/plain": [
       "id_user_anon             0\n",
       "country                  1\n",
       "words_in_user_profile    0\n",
       "dtype: int64"
      ]
     },
     "execution_count": 95,
     "metadata": {
      "tags": []
     },
     "output_type": "execute_result"
    }
   ],
   "source": [
    "#Check the null information \n",
    "contact.isnull().sum()\n",
    "#listing.isnull().sum()\n",
    "#user.isnull().sum()\n"
   ]
  },
  {
   "cell_type": "markdown",
   "metadata": {
    "colab_type": "text",
    "id": "jL-XJgK9NS4q"
   },
   "source": [
    "# Data cleaning "
   ]
  },
  {
   "cell_type": "code",
   "execution_count": 8,
   "metadata": {
    "colab": {
     "base_uri": "https://localhost:8080/",
     "height": 35
    },
    "colab_type": "code",
    "id": "c9i26jAA6PFk",
    "outputId": "1016ce3e-d151-4f9d-8705-3eb121946560"
   },
   "outputs": [
    {
     "data": {
      "text/plain": [
       "(31457, 3)"
      ]
     },
     "execution_count": 8,
     "metadata": {
      "tags": []
     },
     "output_type": "execute_result"
    }
   ],
   "source": [
    "#Delete duplicates in user dataset \n",
    "user = user.drop_duplicates([\"id_user_anon\"])\n",
    "user.shape"
   ]
  },
  {
   "cell_type": "code",
   "execution_count": null,
   "metadata": {
    "colab": {},
    "colab_type": "code",
    "id": "myatjDjmgl5q"
   },
   "outputs": [],
   "source": [
    "#Merge inquiry + listing\n",
    "sub = pd.merge(left = contact, right=listing, how='left', on='id_listing_anon')"
   ]
  },
  {
   "cell_type": "code",
   "execution_count": 10,
   "metadata": {
    "colab": {
     "base_uri": "https://localhost:8080/",
     "height": 35
    },
    "colab_type": "code",
    "id": "kpGRYeHvpd7t",
    "outputId": "7757be67-10c7-4a2b-d687-d9390ae08945"
   },
   "outputs": [
    {
     "name": "stdout",
     "output_type": "stream",
     "text": [
      "8959 22566\n"
     ]
    }
   ],
   "source": [
    "#We want to make sure that users data refers to both the guest and the host\n",
    "#We check if a(or b) is null or not\n",
    "a = np.isin(user[\"id_user_anon\"].unique() ,sub[\"id_host_anon\"].unique()).sum()  \n",
    "b = np.isin(user[\"id_user_anon\"].unique() ,sub[\"id_guest_anon\"].unique()).sum()\n",
    "print(a,b)\n",
    "#The user dataset contains id for both hosts and guests"
   ]
  },
  {
   "cell_type": "code",
   "execution_count": 11,
   "metadata": {
    "colab": {
     "base_uri": "https://localhost:8080/",
     "height": 35
    },
    "colab_type": "code",
    "id": "V409bt_Hj11-",
    "outputId": "c4d33f37-50a9-4102-b985-d14f4ab5f137"
   },
   "outputs": [
    {
     "data": {
      "text/plain": [
       "(27887, 21)"
      ]
     },
     "execution_count": 11,
     "metadata": {
      "tags": []
     },
     "output_type": "execute_result"
    }
   ],
   "source": [
    " #Add the user(host/guest) data\n",
    "data_with_host = pd.merge(left = sub, right = user, left_on=\"id_guest_anon\", right_on=\"id_user_anon\", how='left')\n",
    "data_with_host.rename(columns= {\"words_in_user_profile\":\"word_prof_guest\", \"country\":\"country_guest\"}, inplace=True)\n",
    "data = pd.merge(left = data_with_host, right = user, left_on=\"id_host_anon\", right_on=\"id_user_anon\", how='left')\n",
    "data.rename(columns= {\"words_in_user_profile\":\"word_prof_host\", \"country\":\"country_host\"}, inplace=True)\n",
    "data.drop([\"id_user_anon_x\",\"id_user_anon_y\"], axis=1, inplace=True)\n",
    "data.shape"
   ]
  },
  {
   "cell_type": "markdown",
   "metadata": {
    "colab_type": "text",
    "id": "cPvqL5w-N-wf"
   },
   "source": [
    "# Feature engineering"
   ]
  },
  {
   "cell_type": "markdown",
   "metadata": {
    "colab_type": "text",
    "id": "o4_JB4F1OCD-"
   },
   "source": [
    "\n",
    "\n",
    "*   Extract the month and year from the \"ts_interaction_first\" column and create the columns \"month\" and \"year\" that represent the date of the inquiry\n",
    "*   Create the variable \"booked\" that represents whether the inquiry lead to a booking or not: it takes the values 1 (booked) or 0 (not booked)\n",
    "\n"
   ]
  },
  {
   "cell_type": "code",
   "execution_count": null,
   "metadata": {
    "colab": {},
    "colab_type": "code",
    "id": "jGo5qcg4O3Bm"
   },
   "outputs": [],
   "source": [
    "#Convert data to timestamp and creade features \"month\", \"year\"\n",
    "data[[\"ts_interaction_first\",\"ts_reply_at_first\",\"ts_accepted_at_first\",\"ts_booking_at\",\"ds_checkin_first\",\"ds_checkout_first\"]] = data[[\"ts_interaction_first\",\"ts_reply_at_first\",\"ts_accepted_at_first\",\"ts_booking_at\",\"ds_checkin_first\",\"ds_checkout_first\"]].apply(pd.to_datetime) \n",
    "data['interaction_month'] = data['ts_interaction_first'].apply(lambda x: x.month)\n",
    "data['interaction_year'] = data['ts_interaction_first'].apply(lambda x: x.year)"
   ]
  },
  {
   "cell_type": "code",
   "execution_count": null,
   "metadata": {
    "colab": {},
    "colab_type": "code",
    "id": "iSqluDL2de54"
   },
   "outputs": [],
   "source": [
    "#Create the feature \"booked\"\n",
    "data[\"booked\"] = data[\"ts_booking_at\"].notnull().astype(int)"
   ]
  },
  {
   "cell_type": "code",
   "execution_count": null,
   "metadata": {
    "colab": {},
    "colab_type": "code",
    "id": "vAjwQw6Qul0x"
   },
   "outputs": [],
   "source": [
    "#Check contact channel behavior \n",
    "# data[data.duplicated([\"id_listing_anon\"])].head(2)\n",
    "# data[data[\"id_listing_anon\"] == \"4a41b40c-4c2f-410e-bd02-1cd60fabdd73\" ].head(2)"
   ]
  },
  {
   "cell_type": "code",
   "execution_count": 32,
   "metadata": {
    "colab": {
     "base_uri": "https://localhost:8080/",
     "height": 317
    },
    "colab_type": "code",
    "id": "_wziqG1JkvcK",
    "outputId": "e4b9742e-8e64-4071-bc80-71832d8241ba"
   },
   "outputs": [
    {
     "data": {
      "text/html": [
       "<div>\n",
       "<style scoped>\n",
       "    .dataframe tbody tr th:only-of-type {\n",
       "        vertical-align: middle;\n",
       "    }\n",
       "\n",
       "    .dataframe tbody tr th {\n",
       "        vertical-align: top;\n",
       "    }\n",
       "\n",
       "    .dataframe thead th {\n",
       "        text-align: right;\n",
       "    }\n",
       "</style>\n",
       "<table border=\"1\" class=\"dataframe\">\n",
       "  <thead>\n",
       "    <tr style=\"text-align: right;\">\n",
       "      <th></th>\n",
       "      <th>id_guest_anon</th>\n",
       "      <th>id_host_anon</th>\n",
       "      <th>id_listing_anon</th>\n",
       "      <th>ts_interaction_first</th>\n",
       "      <th>ts_reply_at_first</th>\n",
       "      <th>ts_accepted_at_first</th>\n",
       "      <th>ts_booking_at</th>\n",
       "      <th>ds_checkin_first</th>\n",
       "      <th>ds_checkout_first</th>\n",
       "      <th>m_guests</th>\n",
       "      <th>m_interactions</th>\n",
       "      <th>m_first_message_length_in_characters</th>\n",
       "      <th>contact_channel_first</th>\n",
       "      <th>guest_user_stage_first</th>\n",
       "      <th>room_type</th>\n",
       "      <th>listing_neighborhood</th>\n",
       "      <th>total_reviews</th>\n",
       "      <th>country_guest</th>\n",
       "      <th>word_prof_guest</th>\n",
       "      <th>country_host</th>\n",
       "      <th>word_prof_host</th>\n",
       "      <th>interaction_month</th>\n",
       "      <th>interaction_year</th>\n",
       "      <th>booked</th>\n",
       "    </tr>\n",
       "  </thead>\n",
       "  <tbody>\n",
       "    <tr>\n",
       "      <th>0</th>\n",
       "      <td>1630694d-6e19-463c-a5b9-bc5171322487</td>\n",
       "      <td>97fa1946-b2ac-41bd-854b-0039dc911495</td>\n",
       "      <td>e1f83a70-a590-4a2c-a138-6505f3e3de48</td>\n",
       "      <td>2016-01-17 13:33:32</td>\n",
       "      <td>2016-01-17 13:36:15</td>\n",
       "      <td>NaT</td>\n",
       "      <td>NaT</td>\n",
       "      <td>2016-02-06</td>\n",
       "      <td>2016-02-10</td>\n",
       "      <td>2.0</td>\n",
       "      <td>5</td>\n",
       "      <td>80.0</td>\n",
       "      <td>contact_me</td>\n",
       "      <td>new</td>\n",
       "      <td>Private room</td>\n",
       "      <td>Leme</td>\n",
       "      <td>130.0</td>\n",
       "      <td>BR</td>\n",
       "      <td>0</td>\n",
       "      <td>BR</td>\n",
       "      <td>68</td>\n",
       "      <td>1</td>\n",
       "      <td>2016</td>\n",
       "      <td>0</td>\n",
       "    </tr>\n",
       "    <tr>\n",
       "      <th>1</th>\n",
       "      <td>949d0029-4349-4611-9f78-a1990d48ff4a</td>\n",
       "      <td>7bb459cb-3b97-48e9-ba87-309e9dc809c7</td>\n",
       "      <td>b8ece1d0-ed4e-4def-a845-f3cb9f9c6d80</td>\n",
       "      <td>2016-03-15 01:00:48</td>\n",
       "      <td>2016-03-15 12:54:47</td>\n",
       "      <td>NaT</td>\n",
       "      <td>NaT</td>\n",
       "      <td>2016-03-18</td>\n",
       "      <td>2016-03-19</td>\n",
       "      <td>2.0</td>\n",
       "      <td>2</td>\n",
       "      <td>0.0</td>\n",
       "      <td>book_it</td>\n",
       "      <td>past_booker</td>\n",
       "      <td>Entire home/apt</td>\n",
       "      <td>-unknown-</td>\n",
       "      <td>0.0</td>\n",
       "      <td>BR</td>\n",
       "      <td>37</td>\n",
       "      <td>BR</td>\n",
       "      <td>10</td>\n",
       "      <td>3</td>\n",
       "      <td>2016</td>\n",
       "      <td>0</td>\n",
       "    </tr>\n",
       "    <tr>\n",
       "      <th>2</th>\n",
       "      <td>4d94ee7f-fd1e-4528-97ac-cf25335b15e5</td>\n",
       "      <td>b15572ec-7a34-4062-8d89-e2906b1a8a31</td>\n",
       "      <td>b4f23a9f-197b-4b3e-95fd-d5d759b11b0b</td>\n",
       "      <td>2016-04-16 22:16:19</td>\n",
       "      <td>2016-04-17 16:07:07</td>\n",
       "      <td>2016-04-17 19:40:47</td>\n",
       "      <td>NaT</td>\n",
       "      <td>2016-06-03</td>\n",
       "      <td>2016-06-05</td>\n",
       "      <td>2.0</td>\n",
       "      <td>5</td>\n",
       "      <td>44.0</td>\n",
       "      <td>contact_me</td>\n",
       "      <td>past_booker</td>\n",
       "      <td>Entire home/apt</td>\n",
       "      <td>-unknown-</td>\n",
       "      <td>0.0</td>\n",
       "      <td>BR</td>\n",
       "      <td>0</td>\n",
       "      <td>BR</td>\n",
       "      <td>0</td>\n",
       "      <td>4</td>\n",
       "      <td>2016</td>\n",
       "      <td>0</td>\n",
       "    </tr>\n",
       "  </tbody>\n",
       "</table>\n",
       "</div>"
      ],
      "text/plain": [
       "                          id_guest_anon  ... booked\n",
       "0  1630694d-6e19-463c-a5b9-bc5171322487  ...      0\n",
       "1  949d0029-4349-4611-9f78-a1990d48ff4a  ...      0\n",
       "2  4d94ee7f-fd1e-4528-97ac-cf25335b15e5  ...      0\n",
       "\n",
       "[3 rows x 24 columns]"
      ]
     },
     "execution_count": 32,
     "metadata": {
      "tags": []
     },
     "output_type": "execute_result"
    }
   ],
   "source": [
    "data.head(3)"
   ]
  },
  {
   "cell_type": "markdown",
   "metadata": {
    "colab_type": "text",
    "id": "1mIjjCT9PYMK"
   },
   "source": [
    "We can see that, depending on the circumstances a client can change the \"channel\""
   ]
  },
  {
   "cell_type": "markdown",
   "metadata": {
    "colab_type": "text",
    "id": "3Pxqld05R1D1"
   },
   "source": [
    "# Analysis"
   ]
  },
  {
   "cell_type": "markdown",
   "metadata": {
    "colab_type": "text",
    "id": "7JgfzEqhUzyk"
   },
   "source": [
    "\n",
    "\n",
    "> Metrics\n",
    "- Number of bookings: The total number of booking for each listing\n",
    "Computation: we sum the number of bookings for each listing via groupby\n",
    "- Conversion rate: The ratio of the number of bookings over the number of inquiries made \n",
    "\n",
    "\n",
    "\n",
    "\n",
    "\n",
    "\n",
    "\n"
   ]
  },
  {
   "cell_type": "code",
   "execution_count": 15,
   "metadata": {
    "colab": {
     "base_uri": "https://localhost:8080/",
     "height": 225
    },
    "colab_type": "code",
    "id": "JO-f0JSCYo59",
    "outputId": "9faaa509-8ced-4e49-d0c0-f30498dd354e"
   },
   "outputs": [
    {
     "data": {
      "image/png": "[encoded data removed]",
      "text/plain": [
       "<Figure size 576x216 with 1 Axes>"
      ]
     },
     "metadata": {
      "tags": []
     },
     "output_type": "display_data"
    }
   ],
   "source": [
    "fig, ax = plt.subplots(figsize=(8,3))\n",
    "sns.countplot(x='contact_channel_first',hue=\"booked\", data=data, ax=ax)\n",
    "ax.set_title('Number of bookings on each channel')\n",
    "ax.set_ylabel(\"Number of enquiries\")\n",
    "ax.set_xlabel(\"Channel\")\n",
    "\n",
    "plt.tight_layout()"
   ]
  },
  {
   "cell_type": "markdown",
   "metadata": {
    "colab_type": "text",
    "id": "W5Ckyty_k-mN"
   },
   "source": [
    "\n",
    "\n",
    "> Observations\n",
    "\n",
    "> As we can see on the first graph \"contact me\" has the lowest conversion rate despite the fact that it represents almost half of the total number of inquiries\n",
    "\n",
    "> As expected instant_book has 100% of conversion rate however there can be a room of improvement of the number of those types of inquiries which is only a quarter of all the inquiries\n",
    "\n",
    "> We have a good yield on the book_it channel, we just have to increase the book_it offer.\n",
    "\n",
    "\n",
    "\n",
    "\n",
    "\n"
   ]
  },
  {
   "cell_type": "code",
   "execution_count": 17,
   "metadata": {
    "colab": {
     "base_uri": "https://localhost:8080/",
     "height": 225
    },
    "colab_type": "code",
    "id": "tsC29tEpaeNi",
    "outputId": "200a010d-5075-427c-fe54-16329310e60b"
   },
   "outputs": [
    {
     "data": {
      "image/png": "[encoded data removed]",
      "text/plain": [
       "<Figure size 1008x216 with 2 Axes>"
      ]
     },
     "metadata": {
      "tags": []
     },
     "output_type": "display_data"
    }
   ],
   "source": [
    "fig, ax = plt.subplots(nrows=1, ncols=2, figsize=(14,3))\n",
    "sns.barplot(x='interaction_month', y='booked', data=data, ax=ax[1])\n",
    "sns.countplot(x='interaction_month', hue='booked', data=data, ax=ax[0])\n",
    "ax[0].set_title('Number of bookings per month')\n",
    "ax[0].set_ylabel(\"Number of inquiries\")\n",
    "ax[0].set_xlabel(\"Month \")\n",
    "ax[0].set(xticklabels=[\"January\",\"February\",\"March\",\"April\",\"May\",\"June\"])\n",
    "ax[1].set_title('Conversion rate per month')\n",
    "ax [1].set_ylabel(\"Conversion rate\")\n",
    "ax[1].set_xlabel(\"Month \")\n",
    "ax[1].set(xticklabels=[\"January\",\"February\",\"March\",\"April\",\"May\",\"June\"])\n",
    "plt.tight_layout()"
   ]
  },
  {
   "cell_type": "markdown",
   "metadata": {
    "colab_type": "text",
    "id": "GBFH1YVho2Qw"
   },
   "source": [
    "\n",
    "> Observations:\n",
    "\n",
    "January: It is the month with the most inquiries but with the lowest conversion rate (0.3). \n",
    "\n",
    "If we manage to increase the conversion rate in January we could double the number of bookings in that month. \n",
    "We will investigate what events may be causing this peak demand.\n"
   ]
  },
  {
   "cell_type": "code",
   "execution_count": 18,
   "metadata": {
    "colab": {
     "base_uri": "https://localhost:8080/",
     "height": 202
    },
    "colab_type": "code",
    "id": "i6D2ANpAQU7P",
    "outputId": "2f85acad-0969-41ef-a220-009013471498"
   },
   "outputs": [
    {
     "data": {
      "text/html": [
       "<div>\n",
       "<style scoped>\n",
       "    .dataframe tbody tr th:only-of-type {\n",
       "        vertical-align: middle;\n",
       "    }\n",
       "\n",
       "    .dataframe tbody tr th {\n",
       "        vertical-align: top;\n",
       "    }\n",
       "\n",
       "    .dataframe thead th {\n",
       "        text-align: right;\n",
       "    }\n",
       "</style>\n",
       "<table border=\"1\" class=\"dataframe\">\n",
       "  <thead>\n",
       "    <tr style=\"text-align: right;\">\n",
       "      <th></th>\n",
       "      <th>id_listing</th>\n",
       "      <th>inquiries</th>\n",
       "      <th>bookings</th>\n",
       "      <th>room_type</th>\n",
       "      <th>neighborhood</th>\n",
       "      <th>reviews</th>\n",
       "      <th>conversion_rate</th>\n",
       "    </tr>\n",
       "  </thead>\n",
       "  <tbody>\n",
       "    <tr>\n",
       "      <th>0</th>\n",
       "      <td>0000527e-5d88-43e5-b40c-1931c9d12c38</td>\n",
       "      <td>1</td>\n",
       "      <td>0</td>\n",
       "      <td>Private room</td>\n",
       "      <td>Recreio dos Bandeirantes</td>\n",
       "      <td>0.0</td>\n",
       "      <td>0.00%</td>\n",
       "    </tr>\n",
       "    <tr>\n",
       "      <th>1</th>\n",
       "      <td>00030baf-b903-4d9a-9c33-ea4212cf48e1</td>\n",
       "      <td>1</td>\n",
       "      <td>1</td>\n",
       "      <td>Private room</td>\n",
       "      <td>-unknown-</td>\n",
       "      <td>0.0</td>\n",
       "      <td>100.00%</td>\n",
       "    </tr>\n",
       "    <tr>\n",
       "      <th>2</th>\n",
       "      <td>00046935-e2ae-4e0a-a549-30e975d40ddd</td>\n",
       "      <td>3</td>\n",
       "      <td>1</td>\n",
       "      <td>Entire home/apt</td>\n",
       "      <td>-unknown-</td>\n",
       "      <td>6.0</td>\n",
       "      <td>33.33%</td>\n",
       "    </tr>\n",
       "    <tr>\n",
       "      <th>3</th>\n",
       "      <td>00068b5f-4fb9-4b25-8814-830df5e68b23</td>\n",
       "      <td>1</td>\n",
       "      <td>0</td>\n",
       "      <td>Shared room</td>\n",
       "      <td>Copacabana</td>\n",
       "      <td>2.0</td>\n",
       "      <td>0.00%</td>\n",
       "    </tr>\n",
       "    <tr>\n",
       "      <th>4</th>\n",
       "      <td>000a1497-8e45-4abc-bafb-c99dd142b856</td>\n",
       "      <td>1</td>\n",
       "      <td>0</td>\n",
       "      <td>Entire home/apt</td>\n",
       "      <td>-unknown-</td>\n",
       "      <td>0.0</td>\n",
       "      <td>0.00%</td>\n",
       "    </tr>\n",
       "  </tbody>\n",
       "</table>\n",
       "</div>"
      ],
      "text/plain": [
       "                             id_listing  inquiries  ...  reviews conversion_rate\n",
       "0  0000527e-5d88-43e5-b40c-1931c9d12c38          1  ...      0.0           0.00%\n",
       "1  00030baf-b903-4d9a-9c33-ea4212cf48e1          1  ...      0.0         100.00%\n",
       "2  00046935-e2ae-4e0a-a549-30e975d40ddd          3  ...      6.0          33.33%\n",
       "3  00068b5f-4fb9-4b25-8814-830df5e68b23          1  ...      2.0           0.00%\n",
       "4  000a1497-8e45-4abc-bafb-c99dd142b856          1  ...      0.0           0.00%\n",
       "\n",
       "[5 rows x 7 columns]"
      ]
     },
     "execution_count": 18,
     "metadata": {
      "tags": []
     },
     "output_type": "execute_result"
    }
   ],
   "source": [
    "#Build a dataset with data of each listing \n",
    "grouped_list = data.groupby(\"id_listing_anon\")[[\"ts_interaction_first\",\"ts_booking_at\"]].count().reset_index()\n",
    "product = pd.merge(left=grouped_list, right=listing, on=\"id_listing_anon\", how=\"left\")\n",
    "product.rename(columns={\"id_listing_anon\":\"id_listing\", \"ts_interaction_first\":\"inquiries\", \"ts_booking_at\":\"bookings\",\"listing_neighborhood\":\"neighborhood\",\"total_reviews\":\"reviews\"}, inplace=True)\n",
    "product[\"conversion_rate\"] = product[\"bookings\"] / product[\"inquiries\"]\n",
    "product['conversion_rate'] = product['conversion_rate'].map(lambda n: '{:,.2%}'.format(n))\n",
    "product.head(5)"
   ]
  },
  {
   "cell_type": "code",
   "execution_count": 19,
   "metadata": {
    "colab": {
     "base_uri": "https://localhost:8080/",
     "height": 441
    },
    "colab_type": "code",
    "id": "Lphlk2tYQU7e",
    "outputId": "3627ab38-2f26-41d5-dc1f-ec9471b3d5a6"
   },
   "outputs": [
    {
     "data": {
      "image/png": "[encoded data removed]",
      "text/plain": [
       "<Figure size 548.5x432 with 1 Axes>"
      ]
     },
     "metadata": {
      "tags": []
     },
     "output_type": "display_data"
    }
   ],
   "source": [
    "# fig, ax = plt.subplots(figsize=(10,6))\n",
    "g = sns.relplot(x=\"neighborhood\", y=\"bookings\", hue=\"room_type\", alpha=.5, palette=\"muted\",height=6, data=product)\n",
    "# g.set(ylim=(15, 35))\n",
    "# g.set(xlim=(0,20))\n",
    "g.set_titles(\"Inquiries/Bookings per listing\")\n",
    "g.set_xticklabels(rotation=90)\n",
    "plt.tight_layout()"
   ]
  },
  {
   "cell_type": "markdown",
   "metadata": {
    "colab_type": "text",
    "id": "dvo0HwgpYE9b"
   },
   "source": [
    "There is a good preference for Private room or Entire home/apt than a shared room"
   ]
  },
  {
   "cell_type": "code",
   "execution_count": 20,
   "metadata": {
    "colab": {
     "base_uri": "https://localhost:8080/",
     "height": 110
    },
    "colab_type": "code",
    "id": "OQnYstDcQU7l",
    "outputId": "2691a754-4186-4a9c-eafc-150495522346"
   },
   "outputs": [
    {
     "data": {
      "text/html": [
       "<div>\n",
       "<style scoped>\n",
       "    .dataframe tbody tr th:only-of-type {\n",
       "        vertical-align: middle;\n",
       "    }\n",
       "\n",
       "    .dataframe tbody tr th {\n",
       "        vertical-align: top;\n",
       "    }\n",
       "\n",
       "    .dataframe thead th {\n",
       "        text-align: right;\n",
       "    }\n",
       "</style>\n",
       "<table border=\"1\" class=\"dataframe\">\n",
       "  <thead>\n",
       "    <tr style=\"text-align: right;\">\n",
       "      <th></th>\n",
       "      <th>neighborhood</th>\n",
       "      <th>inquiries</th>\n",
       "      <th>bookings</th>\n",
       "      <th>conversion_rate</th>\n",
       "    </tr>\n",
       "  </thead>\n",
       "  <tbody>\n",
       "    <tr>\n",
       "      <th>14</th>\n",
       "      <td>Copacabana</td>\n",
       "      <td>6485</td>\n",
       "      <td>2853</td>\n",
       "      <td>0.439938</td>\n",
       "    </tr>\n",
       "    <tr>\n",
       "      <th>29</th>\n",
       "      <td>Ipanema</td>\n",
       "      <td>2991</td>\n",
       "      <td>1413</td>\n",
       "      <td>0.472417</td>\n",
       "    </tr>\n",
       "  </tbody>\n",
       "</table>\n",
       "</div>"
      ],
      "text/plain": [
       "   neighborhood  inquiries  bookings  conversion_rate\n",
       "14   Copacabana       6485      2853         0.439938\n",
       "29      Ipanema       2991      1413         0.472417"
      ]
     },
     "execution_count": 20,
     "metadata": {
      "tags": []
     },
     "output_type": "execute_result"
    }
   ],
   "source": [
    "#Look for areas were to improve\n",
    "neighborhood = product.groupby('neighborhood')[[\"inquiries\",\"bookings\"]].sum().reset_index()\n",
    "neighborhood[\"conversion_rate\"] = neighborhood[\"bookings\"]/neighborhood[\"inquiries\"]\n",
    "neighborhood = neighborhood.sort_values([\"inquiries\",\"bookings\"],ascending=[False, True])\n",
    "neighborhood = neighborhood[neighborhood[\"neighborhood\"] != \"-unknown-\"]\n",
    "neighborhood.head(2)\n",
    "#Here is a data set of each neighborhood"
   ]
  },
  {
   "cell_type": "markdown",
   "metadata": {
    "colab_type": "text",
    "id": "kxZLN5GIC4GG"
   },
   "source": [
    "> Neighborhood segmentation\n",
    "\n",
    "We will segment neighborhood  given the number of inquiries and the number of bookings. \n",
    "\n",
    "high: The first segment will be areas with a good amount of inquiries and a good conversion rate \n",
    "\n",
    "medium: The silver segment will be those with the highest number of inquiries but the lowest number of bookings. These are areas were there is lot of unmet demand. We will need to find a way to make those listings more effecient in those areas\n",
    "\n",
    "low: The third segment will be areas with a few inquiries where we need to grow the business.\n"
   ]
  },
  {
   "cell_type": "code",
   "execution_count": 21,
   "metadata": {
    "colab": {
     "base_uri": "https://localhost:8080/",
     "height": 141
    },
    "colab_type": "code",
    "id": "tKwiTTv3fETF",
    "outputId": "6a7edc31-c748-4fa6-b6e3-0d9e521ba6a9"
   },
   "outputs": [
    {
     "data": {
      "text/html": [
       "<div>\n",
       "<style scoped>\n",
       "    .dataframe tbody tr th:only-of-type {\n",
       "        vertical-align: middle;\n",
       "    }\n",
       "\n",
       "    .dataframe tbody tr th {\n",
       "        vertical-align: top;\n",
       "    }\n",
       "\n",
       "    .dataframe thead th {\n",
       "        text-align: right;\n",
       "    }\n",
       "</style>\n",
       "<table border=\"1\" class=\"dataframe\">\n",
       "  <thead>\n",
       "    <tr style=\"text-align: right;\">\n",
       "      <th></th>\n",
       "      <th>neighborhood</th>\n",
       "      <th>inquiries</th>\n",
       "      <th>bookings</th>\n",
       "      <th>conversion_rate</th>\n",
       "    </tr>\n",
       "  </thead>\n",
       "  <tbody>\n",
       "    <tr>\n",
       "      <th>55</th>\n",
       "      <td>Santa Teresa</td>\n",
       "      <td>589</td>\n",
       "      <td>359</td>\n",
       "      <td>0.609508</td>\n",
       "    </tr>\n",
       "    <tr>\n",
       "      <th>62</th>\n",
       "      <td>Urca</td>\n",
       "      <td>78</td>\n",
       "      <td>48</td>\n",
       "      <td>0.615385</td>\n",
       "    </tr>\n",
       "    <tr>\n",
       "      <th>21</th>\n",
       "      <td>Estacio</td>\n",
       "      <td>33</td>\n",
       "      <td>21</td>\n",
       "      <td>0.636364</td>\n",
       "    </tr>\n",
       "  </tbody>\n",
       "</table>\n",
       "</div>"
      ],
      "text/plain": [
       "    neighborhood  inquiries  bookings  conversion_rate\n",
       "55  Santa Teresa        589       359         0.609508\n",
       "62          Urca         78        48         0.615385\n",
       "21       Estacio         33        21         0.636364"
      ]
     },
     "execution_count": 21,
     "metadata": {
      "tags": []
     },
     "output_type": "execute_result"
    }
   ],
   "source": [
    "#Neighborhood high\n",
    "high = neighborhood[(neighborhood[\"bookings\"] >= 20) & (neighborhood[\"conversion_rate\"] > 0.6)]\n",
    "high"
   ]
  },
  {
   "cell_type": "code",
   "execution_count": 22,
   "metadata": {
    "colab": {
     "base_uri": "https://localhost:8080/",
     "height": 202
    },
    "colab_type": "code",
    "id": "h_BgrK0xkapq",
    "outputId": "c5fced8d-16ba-474d-e188-3517e77136c8"
   },
   "outputs": [
    {
     "data": {
      "text/html": [
       "<div>\n",
       "<style scoped>\n",
       "    .dataframe tbody tr th:only-of-type {\n",
       "        vertical-align: middle;\n",
       "    }\n",
       "\n",
       "    .dataframe tbody tr th {\n",
       "        vertical-align: top;\n",
       "    }\n",
       "\n",
       "    .dataframe thead th {\n",
       "        text-align: right;\n",
       "    }\n",
       "</style>\n",
       "<table border=\"1\" class=\"dataframe\">\n",
       "  <thead>\n",
       "    <tr style=\"text-align: right;\">\n",
       "      <th></th>\n",
       "      <th>neighborhood</th>\n",
       "      <th>inquiries</th>\n",
       "      <th>bookings</th>\n",
       "      <th>conversion_rate</th>\n",
       "    </tr>\n",
       "  </thead>\n",
       "  <tbody>\n",
       "    <tr>\n",
       "      <th>14</th>\n",
       "      <td>Copacabana</td>\n",
       "      <td>6485</td>\n",
       "      <td>2853</td>\n",
       "      <td>0.439938</td>\n",
       "    </tr>\n",
       "    <tr>\n",
       "      <th>29</th>\n",
       "      <td>Ipanema</td>\n",
       "      <td>2991</td>\n",
       "      <td>1413</td>\n",
       "      <td>0.472417</td>\n",
       "    </tr>\n",
       "    <tr>\n",
       "      <th>36</th>\n",
       "      <td>Leblon</td>\n",
       "      <td>1019</td>\n",
       "      <td>473</td>\n",
       "      <td>0.464181</td>\n",
       "    </tr>\n",
       "    <tr>\n",
       "      <th>3</th>\n",
       "      <td>Barra da Tijuca</td>\n",
       "      <td>997</td>\n",
       "      <td>364</td>\n",
       "      <td>0.365095</td>\n",
       "    </tr>\n",
       "    <tr>\n",
       "      <th>7</th>\n",
       "      <td>Botafogo</td>\n",
       "      <td>751</td>\n",
       "      <td>303</td>\n",
       "      <td>0.403462</td>\n",
       "    </tr>\n",
       "  </tbody>\n",
       "</table>\n",
       "</div>"
      ],
      "text/plain": [
       "       neighborhood  inquiries  bookings  conversion_rate\n",
       "14       Copacabana       6485      2853         0.439938\n",
       "29          Ipanema       2991      1413         0.472417\n",
       "36           Leblon       1019       473         0.464181\n",
       "3   Barra da Tijuca        997       364         0.365095\n",
       "7          Botafogo        751       303         0.403462"
      ]
     },
     "execution_count": 22,
     "metadata": {
      "tags": []
     },
     "output_type": "execute_result"
    }
   ],
   "source": [
    "#Neighborhood silver\n",
    "medium = neighborhood.copy()\n",
    "medium.head(5)"
   ]
  },
  {
   "cell_type": "code",
   "execution_count": 23,
   "metadata": {
    "colab": {
     "base_uri": "https://localhost:8080/",
     "height": 110
    },
    "colab_type": "code",
    "id": "8iZw3N5jwNUB",
    "outputId": "04107ff3-55e3-4f9d-93b2-455e24c63409"
   },
   "outputs": [
    {
     "data": {
      "text/html": [
       "<div>\n",
       "<style scoped>\n",
       "    .dataframe tbody tr th:only-of-type {\n",
       "        vertical-align: middle;\n",
       "    }\n",
       "\n",
       "    .dataframe tbody tr th {\n",
       "        vertical-align: top;\n",
       "    }\n",
       "\n",
       "    .dataframe thead th {\n",
       "        text-align: right;\n",
       "    }\n",
       "</style>\n",
       "<table border=\"1\" class=\"dataframe\">\n",
       "  <thead>\n",
       "    <tr style=\"text-align: right;\">\n",
       "      <th></th>\n",
       "      <th>neighborhood</th>\n",
       "      <th>inquiries</th>\n",
       "      <th>bookings</th>\n",
       "      <th>conversion_rate</th>\n",
       "    </tr>\n",
       "  </thead>\n",
       "  <tbody>\n",
       "    <tr>\n",
       "      <th>45</th>\n",
       "      <td>Penha Circular</td>\n",
       "      <td>8</td>\n",
       "      <td>0</td>\n",
       "      <td>0.00</td>\n",
       "    </tr>\n",
       "    <tr>\n",
       "      <th>18</th>\n",
       "      <td>Engenho Novo</td>\n",
       "      <td>8</td>\n",
       "      <td>2</td>\n",
       "      <td>0.25</td>\n",
       "    </tr>\n",
       "  </tbody>\n",
       "</table>\n",
       "</div>"
      ],
      "text/plain": [
       "      neighborhood  inquiries  bookings  conversion_rate\n",
       "45  Penha Circular          8         0             0.00\n",
       "18    Engenho Novo          8         2             0.25"
      ]
     },
     "execution_count": 23,
     "metadata": {
      "tags": []
     },
     "output_type": "execute_result"
    }
   ],
   "source": [
    "#Neighborhood bronze\n",
    "low = neighborhood[neighborhood[\"inquiries\"] <10]\n",
    "low.head(2)"
   ]
  },
  {
   "cell_type": "code",
   "execution_count": 24,
   "metadata": {
    "colab": {
     "base_uri": "https://localhost:8080/",
     "height": 441
    },
    "colab_type": "code",
    "id": "zMseEWq1rxjA",
    "outputId": "81303333-417b-429d-e080-1e6a894fe62d"
   },
   "outputs": [
    {
     "data": {
      "image/png": "[encoded data removed]",
      "text/plain": [
       "<Figure size 583.75x432 with 1 Axes>"
      ]
     },
     "metadata": {
      "tags": []
     },
     "output_type": "display_data"
    }
   ],
   "source": [
    "# fig, ax = plt.subplots(figsize=(10,6))\n",
    "targeted_neighborhood = neighborhood.head(10).copy()\n",
    "g = sns.relplot(x=\"neighborhood\", y=\"inquiries\", size=\"conversion_rate\",sizes=(40, 400), alpha=.5, palette=\"muted\",height=6, data=targeted_neighborhood)\n",
    "# g.set(ylim=(15, 35))\n",
    "g.set_titles(\"Inquiries/Bookings per listing\")\n",
    "g.set_xticklabels(rotation=45)\n",
    "plt.tight_layout()"
   ]
  },
  {
   "cell_type": "markdown",
   "metadata": {
    "colab_type": "text",
    "id": "8bQ084SvYq6Z"
   },
   "source": [
    "These "
   ]
  },
  {
   "cell_type": "markdown",
   "metadata": {
    "colab_type": "text",
    "id": "3foPBCBo-ULF"
   },
   "source": [
    "## Classification"
   ]
  },
  {
   "cell_type": "markdown",
   "metadata": {
    "colab_type": "text",
    "id": "gd9gVHG5-7Do"
   },
   "source": [
    "This is a binary classification. We intend to predict given the different features if the inquiry will lead to a booking or not. We will use here a Xgboost given the amount of data that we have. We will also pay attention to the required amount of computing power \n",
    "\n",
    "1.   Dependent variable: \"booked\"\n",
    "2.   Independent variables: \"other variables\"\n",
    "\n",
    "\n",
    "Faster training speed and higher efficiency.\n",
    "Lower memory usage.\n",
    "Better accuracy.\n",
    "Support of parallel and GPU learning.\n",
    "Capable of handling large-scale data."
   ]
  },
  {
   "cell_type": "code",
   "execution_count": null,
   "metadata": {
    "colab": {},
    "colab_type": "code",
    "id": "46kshR2O-SQi"
   },
   "outputs": [],
   "source": [
    "import xgboost\n",
    "from xgboost import XGBClassifier\n",
    "from sklearn import metrics\n",
    "from sklearn.model_selection import train_test_split\n",
    "from sklearn.metrics import accuracy_score\n",
    "from sklearn.preprocessing import LabelEncoder\n",
    "from xgboost import plot_importance\n",
    "from matplotlib import pyplot\n",
    "from xgboost import plot_tree\n",
    "from matplotlib.pylab import rcParams"
   ]
  },
  {
   "cell_type": "code",
   "execution_count": null,
   "metadata": {
    "colab": {},
    "colab_type": "code",
    "id": "UGrhKwz_G41Z"
   },
   "outputs": [],
   "source": [
    "#9,10,11,12(contact_channel_first),13(guest_user_stage_first),14(room_type),15(listing_neighborhood),16,18,20,21"
   ]
  },
  {
   "cell_type": "code",
   "execution_count": null,
   "metadata": {
    "colab": {},
    "colab_type": "code",
    "id": "5gjYrDr9_34_"
   },
   "outputs": [],
   "source": [
    "X = data.iloc[:,[9,10,11,12,13,14,15,16,18,20,21]]\n",
    "Y = data.iloc[:,-1]"
   ]
  },
  {
   "cell_type": "code",
   "execution_count": null,
   "metadata": {
    "colab": {},
    "colab_type": "code",
    "id": "iML0A5wEk2dm"
   },
   "outputs": [],
   "source": [
    "#Encode\n",
    "col = [\"contact_channel_first\", \"guest_user_stage_first\", \"room_type\", \"listing_neighborhood\"]\n",
    "onehot_df = X[col]\n",
    "onehot_df = pd.get_dummies(onehot_df, columns=col)\n",
    "X_onehot_drop = X.drop(col, axis=1)\n",
    "X_onehot = pd.concat([X_onehot_drop, onehot_df], axis=1)\n"
   ]
  },
  {
   "cell_type": "markdown",
   "metadata": {
    "colab_type": "text",
    "id": "uCIMJL2SHJXF"
   },
   "source": [
    "Split the dataset into train (70%) et test (30%) sets. We will also allow 20% of the training set for crossvalidation"
   ]
  },
  {
   "cell_type": "code",
   "execution_count": null,
   "metadata": {
    "colab": {},
    "colab_type": "code",
    "id": "coFK7rNbAZN7"
   },
   "outputs": [],
   "source": [
    "seed = 7\n",
    "test_size = 0.30\n",
    "X_train, X_test, y_train, y_test = train_test_split(X_onehot , Y, test_size=test_size, random_state=seed)"
   ]
  },
  {
   "cell_type": "code",
   "execution_count": null,
   "metadata": {
    "colab": {},
    "colab_type": "code",
    "id": "ofDQRYrlAzn0"
   },
   "outputs": [],
   "source": [
    "# print(X_train.shape, X_test.shape)"
   ]
  },
  {
   "cell_type": "code",
   "execution_count": null,
   "metadata": {
    "colab": {},
    "colab_type": "code",
    "id": "SvVItyB8xpI1"
   },
   "outputs": [],
   "source": [
    "# X_train.head(2)"
   ]
  },
  {
   "cell_type": "code",
   "execution_count": 29,
   "metadata": {
    "colab": {
     "base_uri": "https://localhost:8080/",
     "height": 35
    },
    "colab_type": "code",
    "id": "qhyNSr-OA9Jf",
    "outputId": "bc4e987e-a835-482d-9846-c15f543de11a"
   },
   "outputs": [
    {
     "name": "stdout",
     "output_type": "stream",
     "text": [
      "(training set and test set accuracies ) = (0.9171703319050928, 0.9161577311949007)\n"
     ]
    }
   ],
   "source": [
    "def auc2(m, train, test): \n",
    "    return (metrics.roc_auc_score(y_train,m.predict(train)),metrics.roc_auc_score(y_test,m.predict(test)))\n",
    "\n",
    "model = XGBClassifier()\n",
    "model.fit(X_train, y_train)\n",
    "print(\"(training set and test set accuracies ) =\",auc2(model, X_train, X_test))\n",
    "\n",
    "#Running time: less than 30s with Google collab"
   ]
  },
  {
   "cell_type": "code",
   "execution_count": 30,
   "metadata": {
    "colab": {
     "base_uri": "https://localhost:8080/",
     "height": 295
    },
    "colab_type": "code",
    "id": "ByaMCAZ_tRN_",
    "outputId": "52955a06-a82f-4122-d3b8-1cc6798414d9"
   },
   "outputs": [
    {
     "data": {
      "image/png": "[encoded data removed]",
      "text/plain": [
       "<Figure size 432x288 with 1 Axes>"
      ]
     },
     "metadata": {
      "tags": []
     },
     "output_type": "display_data"
    }
   ],
   "source": [
    "plot_importance(model)\n",
    "pyplot.show()"
   ]
  },
  {
   "cell_type": "markdown",
   "metadata": {
    "colab_type": "text",
    "id": "LUH8ow780CAk"
   },
   "source": [
    "Observations:\n",
    "We can see that the most critical features towards the prediction of whether the booking will be made or not are: m_interactions, instant book, total reviews, The first message, book it, contact me, interaction month, word prof host, m guests, room type_home, past booker\n"
   ]
  },
  {
   "cell_type": "code",
   "execution_count": 31,
   "metadata": {
    "colab": {
     "base_uri": "https://localhost:8080/",
     "height": 477
    },
    "colab_type": "code",
    "id": "EmMblYMeuoDD",
    "outputId": "84861488-f131-49c8-c8c1-738df1b6fb2b"
   },
   "outputs": [
    {
     "data": {
      "text/plain": [
       "<matplotlib.axes._subplots.AxesSubplot at 0x7f605d753470>"
      ]
     },
     "execution_count": 31,
     "metadata": {
      "tags": []
     },
     "output_type": "execute_result"
    },
    {
     "data": {
      "image/png": "[encoded data removed]",
      "text/plain": [
       "<Figure size 1368x1368 with 1 Axes>"
      ]
     },
     "metadata": {
      "tags": []
     },
     "output_type": "display_data"
    }
   ],
   "source": [
    "rcParams['figure.figsize'] = 19,19\n",
    "plot_tree(model)"
   ]
  },
  {
   "cell_type": "markdown",
   "metadata": {
    "colab_type": "text",
    "id": "c08TJuzq0DNB"
   },
   "source": [
    "Takeaways\n",
    "\n",
    "> Priority in the type of booking: instant_book > book_it > contact_me\n",
    "\n",
    "\n",
    "\n"
   ]
  }
 ],
 "metadata": {
  "colab": {
   "collapsed_sections": [],
   "name": "Airbnb.ipynb",
   "provenance": []
  },
  "kernelspec": {
   "display_name": "Python 3",
   "language": "python",
   "name": "python3"
  },
  "language_info": {
   "codemirror_mode": {
    "name": "ipython",
    "version": 3
   },
   "file_extension": ".py",
   "mimetype": "text/x-python",
   "name": "python",
   "nbconvert_exporter": "python",
   "pygments_lexer": "ipython3",
   "version": "3.7.6"
  }
 },
 "nbformat": 4,
 "nbformat_minor": 4
}
